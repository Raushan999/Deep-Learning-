{
 "cells": [
  {
   "cell_type": "markdown",
   "id": "b1c45057",
   "metadata": {},
   "source": [
    "# Breast Cancer Classification\n",
    "### ANN"
   ]
  },
  {
   "cell_type": "markdown",
   "id": "edbe2e75",
   "metadata": {},
   "source": [
    "### Importing the dependencies"
   ]
  },
  {
   "cell_type": "code",
   "execution_count": 1,
   "id": "2e1d8991",
   "metadata": {},
   "outputs": [],
   "source": [
    "import numpy as np\n",
    "import pandas as pd\n",
    "import matplotlib.pyplot as plt\n",
    "import sklearn.datasets"
   ]
  },
  {
   "cell_type": "code",
   "execution_count": 63,
   "id": "70a8d6df",
   "metadata": {},
   "outputs": [],
   "source": [
    "import seaborn as sn"
   ]
  },
  {
   "cell_type": "code",
   "execution_count": 2,
   "id": "48853b19",
   "metadata": {},
   "outputs": [],
   "source": [
    "# Data loading and processing"
   ]
  },
  {
   "cell_type": "code",
   "execution_count": 37,
   "id": "159c6955",
   "metadata": {},
   "outputs": [],
   "source": [
    "breast_dataset = sklearn.datasets.load_breast_cancer()"
   ]
  },
  {
   "cell_type": "code",
   "execution_count": 38,
   "id": "543246b1",
   "metadata": {
    "collapsed": true
   },
   "outputs": [
    {
     "data": {
      "text/plain": [
       "{'data': array([[1.799e+01, 1.038e+01, 1.228e+02, ..., 2.654e-01, 4.601e-01,\n",
       "         1.189e-01],\n",
       "        [2.057e+01, 1.777e+01, 1.329e+02, ..., 1.860e-01, 2.750e-01,\n",
       "         8.902e-02],\n",
       "        [1.969e+01, 2.125e+01, 1.300e+02, ..., 2.430e-01, 3.613e-01,\n",
       "         8.758e-02],\n",
       "        ...,\n",
       "        [1.660e+01, 2.808e+01, 1.083e+02, ..., 1.418e-01, 2.218e-01,\n",
       "         7.820e-02],\n",
       "        [2.060e+01, 2.933e+01, 1.401e+02, ..., 2.650e-01, 4.087e-01,\n",
       "         1.240e-01],\n",
       "        [7.760e+00, 2.454e+01, 4.792e+01, ..., 0.000e+00, 2.871e-01,\n",
       "         7.039e-02]]),\n",
       " 'target': array([0, 0, 0, 0, 0, 0, 0, 0, 0, 0, 0, 0, 0, 0, 0, 0, 0, 0, 0, 1, 1, 1,\n",
       "        0, 0, 0, 0, 0, 0, 0, 0, 0, 0, 0, 0, 0, 0, 0, 1, 0, 0, 0, 0, 0, 0,\n",
       "        0, 0, 1, 0, 1, 1, 1, 1, 1, 0, 0, 1, 0, 0, 1, 1, 1, 1, 0, 1, 0, 0,\n",
       "        1, 1, 1, 1, 0, 1, 0, 0, 1, 0, 1, 0, 0, 1, 1, 1, 0, 0, 1, 0, 0, 0,\n",
       "        1, 1, 1, 0, 1, 1, 0, 0, 1, 1, 1, 0, 0, 1, 1, 1, 1, 0, 1, 1, 0, 1,\n",
       "        1, 1, 1, 1, 1, 1, 1, 0, 0, 0, 1, 0, 0, 1, 1, 1, 0, 0, 1, 0, 1, 0,\n",
       "        0, 1, 0, 0, 1, 1, 0, 1, 1, 0, 1, 1, 1, 1, 0, 1, 1, 1, 1, 1, 1, 1,\n",
       "        1, 1, 0, 1, 1, 1, 1, 0, 0, 1, 0, 1, 1, 0, 0, 1, 1, 0, 0, 1, 1, 1,\n",
       "        1, 0, 1, 1, 0, 0, 0, 1, 0, 1, 0, 1, 1, 1, 0, 1, 1, 0, 0, 1, 0, 0,\n",
       "        0, 0, 1, 0, 0, 0, 1, 0, 1, 0, 1, 1, 0, 1, 0, 0, 0, 0, 1, 1, 0, 0,\n",
       "        1, 1, 1, 0, 1, 1, 1, 1, 1, 0, 0, 1, 1, 0, 1, 1, 0, 0, 1, 0, 1, 1,\n",
       "        1, 1, 0, 1, 1, 1, 1, 1, 0, 1, 0, 0, 0, 0, 0, 0, 0, 0, 0, 0, 0, 0,\n",
       "        0, 0, 1, 1, 1, 1, 1, 1, 0, 1, 0, 1, 1, 0, 1, 1, 0, 1, 0, 0, 1, 1,\n",
       "        1, 1, 1, 1, 1, 1, 1, 1, 1, 1, 1, 0, 1, 1, 0, 1, 0, 1, 1, 1, 1, 1,\n",
       "        1, 1, 1, 1, 1, 1, 1, 1, 1, 0, 1, 1, 1, 0, 1, 0, 1, 1, 1, 1, 0, 0,\n",
       "        0, 1, 1, 1, 1, 0, 1, 0, 1, 0, 1, 1, 1, 0, 1, 1, 1, 1, 1, 1, 1, 0,\n",
       "        0, 0, 1, 1, 1, 1, 1, 1, 1, 1, 1, 1, 1, 0, 0, 1, 0, 0, 0, 1, 0, 0,\n",
       "        1, 1, 1, 1, 1, 0, 1, 1, 1, 1, 1, 0, 1, 1, 1, 0, 1, 1, 0, 0, 1, 1,\n",
       "        1, 1, 1, 1, 0, 1, 1, 1, 1, 1, 1, 1, 0, 1, 1, 1, 1, 1, 0, 1, 1, 0,\n",
       "        1, 1, 1, 1, 1, 1, 1, 1, 1, 1, 1, 1, 0, 1, 0, 0, 1, 0, 1, 1, 1, 1,\n",
       "        1, 0, 1, 1, 0, 1, 0, 1, 1, 0, 1, 0, 1, 1, 1, 1, 1, 1, 1, 1, 0, 0,\n",
       "        1, 1, 1, 1, 1, 1, 0, 1, 1, 1, 1, 1, 1, 1, 1, 1, 1, 0, 1, 1, 1, 1,\n",
       "        1, 1, 1, 0, 1, 0, 1, 1, 0, 1, 1, 1, 1, 1, 0, 0, 1, 0, 1, 0, 1, 1,\n",
       "        1, 1, 1, 0, 1, 1, 0, 1, 0, 1, 0, 0, 1, 1, 1, 0, 1, 1, 1, 1, 1, 1,\n",
       "        1, 1, 1, 1, 1, 0, 1, 0, 0, 1, 1, 1, 1, 1, 1, 1, 1, 1, 1, 1, 1, 1,\n",
       "        1, 1, 1, 1, 1, 1, 1, 1, 1, 1, 1, 1, 0, 0, 0, 0, 0, 0, 1]),\n",
       " 'frame': None,\n",
       " 'target_names': array(['malignant', 'benign'], dtype='<U9'),\n",
       " 'DESCR': '.. _breast_cancer_dataset:\\n\\nBreast cancer wisconsin (diagnostic) dataset\\n--------------------------------------------\\n\\n**Data Set Characteristics:**\\n\\n    :Number of Instances: 569\\n\\n    :Number of Attributes: 30 numeric, predictive attributes and the class\\n\\n    :Attribute Information:\\n        - radius (mean of distances from center to points on the perimeter)\\n        - texture (standard deviation of gray-scale values)\\n        - perimeter\\n        - area\\n        - smoothness (local variation in radius lengths)\\n        - compactness (perimeter^2 / area - 1.0)\\n        - concavity (severity of concave portions of the contour)\\n        - concave points (number of concave portions of the contour)\\n        - symmetry\\n        - fractal dimension (\"coastline approximation\" - 1)\\n\\n        The mean, standard error, and \"worst\" or largest (mean of the three\\n        worst/largest values) of these features were computed for each image,\\n        resulting in 30 features.  For instance, field 0 is Mean Radius, field\\n        10 is Radius SE, field 20 is Worst Radius.\\n\\n        - class:\\n                - WDBC-Malignant\\n                - WDBC-Benign\\n\\n    :Summary Statistics:\\n\\n    ===================================== ====== ======\\n                                           Min    Max\\n    ===================================== ====== ======\\n    radius (mean):                        6.981  28.11\\n    texture (mean):                       9.71   39.28\\n    perimeter (mean):                     43.79  188.5\\n    area (mean):                          143.5  2501.0\\n    smoothness (mean):                    0.053  0.163\\n    compactness (mean):                   0.019  0.345\\n    concavity (mean):                     0.0    0.427\\n    concave points (mean):                0.0    0.201\\n    symmetry (mean):                      0.106  0.304\\n    fractal dimension (mean):             0.05   0.097\\n    radius (standard error):              0.112  2.873\\n    texture (standard error):             0.36   4.885\\n    perimeter (standard error):           0.757  21.98\\n    area (standard error):                6.802  542.2\\n    smoothness (standard error):          0.002  0.031\\n    compactness (standard error):         0.002  0.135\\n    concavity (standard error):           0.0    0.396\\n    concave points (standard error):      0.0    0.053\\n    symmetry (standard error):            0.008  0.079\\n    fractal dimension (standard error):   0.001  0.03\\n    radius (worst):                       7.93   36.04\\n    texture (worst):                      12.02  49.54\\n    perimeter (worst):                    50.41  251.2\\n    area (worst):                         185.2  4254.0\\n    smoothness (worst):                   0.071  0.223\\n    compactness (worst):                  0.027  1.058\\n    concavity (worst):                    0.0    1.252\\n    concave points (worst):               0.0    0.291\\n    symmetry (worst):                     0.156  0.664\\n    fractal dimension (worst):            0.055  0.208\\n    ===================================== ====== ======\\n\\n    :Missing Attribute Values: None\\n\\n    :Class Distribution: 212 - Malignant, 357 - Benign\\n\\n    :Creator:  Dr. William H. Wolberg, W. Nick Street, Olvi L. Mangasarian\\n\\n    :Donor: Nick Street\\n\\n    :Date: November, 1995\\n\\nThis is a copy of UCI ML Breast Cancer Wisconsin (Diagnostic) datasets.\\nhttps://goo.gl/U2Uwz2\\n\\nFeatures are computed from a digitized image of a fine needle\\naspirate (FNA) of a breast mass.  They describe\\ncharacteristics of the cell nuclei present in the image.\\n\\nSeparating plane described above was obtained using\\nMultisurface Method-Tree (MSM-T) [K. P. Bennett, \"Decision Tree\\nConstruction Via Linear Programming.\" Proceedings of the 4th\\nMidwest Artificial Intelligence and Cognitive Science Society,\\npp. 97-101, 1992], a classification method which uses linear\\nprogramming to construct a decision tree.  Relevant features\\nwere selected using an exhaustive search in the space of 1-4\\nfeatures and 1-3 separating planes.\\n\\nThe actual linear program used to obtain the separating plane\\nin the 3-dimensional space is that described in:\\n[K. P. Bennett and O. L. Mangasarian: \"Robust Linear\\nProgramming Discrimination of Two Linearly Inseparable Sets\",\\nOptimization Methods and Software 1, 1992, 23-34].\\n\\nThis database is also available through the UW CS ftp server:\\n\\nftp ftp.cs.wisc.edu\\ncd math-prog/cpo-dataset/machine-learn/WDBC/\\n\\n.. topic:: References\\n\\n   - W.N. Street, W.H. Wolberg and O.L. Mangasarian. Nuclear feature extraction \\n     for breast tumor diagnosis. IS&T/SPIE 1993 International Symposium on \\n     Electronic Imaging: Science and Technology, volume 1905, pages 861-870,\\n     San Jose, CA, 1993.\\n   - O.L. Mangasarian, W.N. Street and W.H. Wolberg. Breast cancer diagnosis and \\n     prognosis via linear programming. Operations Research, 43(4), pages 570-577, \\n     July-August 1995.\\n   - W.H. Wolberg, W.N. Street, and O.L. Mangasarian. Machine learning techniques\\n     to diagnose breast cancer from fine-needle aspirates. Cancer Letters 77 (1994) \\n     163-171.',\n",
       " 'feature_names': array(['mean radius', 'mean texture', 'mean perimeter', 'mean area',\n",
       "        'mean smoothness', 'mean compactness', 'mean concavity',\n",
       "        'mean concave points', 'mean symmetry', 'mean fractal dimension',\n",
       "        'radius error', 'texture error', 'perimeter error', 'area error',\n",
       "        'smoothness error', 'compactness error', 'concavity error',\n",
       "        'concave points error', 'symmetry error',\n",
       "        'fractal dimension error', 'worst radius', 'worst texture',\n",
       "        'worst perimeter', 'worst area', 'worst smoothness',\n",
       "        'worst compactness', 'worst concavity', 'worst concave points',\n",
       "        'worst symmetry', 'worst fractal dimension'], dtype='<U23'),\n",
       " 'filename': 'breast_cancer.csv',\n",
       " 'data_module': 'sklearn.datasets.data'}"
      ]
     },
     "execution_count": 38,
     "metadata": {},
     "output_type": "execute_result"
    }
   ],
   "source": [
    "breast_dataset"
   ]
  },
  {
   "cell_type": "code",
   "execution_count": 39,
   "id": "d47118c7",
   "metadata": {},
   "outputs": [],
   "source": [
    "#df.feature_names"
   ]
  },
  {
   "cell_type": "code",
   "execution_count": 72,
   "id": "07d494e6",
   "metadata": {},
   "outputs": [],
   "source": [
    "# converting the dataset to dataframe.\n",
    "df =pd.DataFrame(breast_dataset.data,columns=breast_dataset.feature_names)\n",
    "pd.set_option('display.max_columns', None)"
   ]
  },
  {
   "cell_type": "code",
   "execution_count": 73,
   "id": "e75c78ed",
   "metadata": {},
   "outputs": [
    {
     "data": {
      "text/html": [
       "<div>\n",
       "<style scoped>\n",
       "    .dataframe tbody tr th:only-of-type {\n",
       "        vertical-align: middle;\n",
       "    }\n",
       "\n",
       "    .dataframe tbody tr th {\n",
       "        vertical-align: top;\n",
       "    }\n",
       "\n",
       "    .dataframe thead th {\n",
       "        text-align: right;\n",
       "    }\n",
       "</style>\n",
       "<table border=\"1\" class=\"dataframe\">\n",
       "  <thead>\n",
       "    <tr style=\"text-align: right;\">\n",
       "      <th></th>\n",
       "      <th>mean radius</th>\n",
       "      <th>mean texture</th>\n",
       "      <th>mean perimeter</th>\n",
       "      <th>mean area</th>\n",
       "      <th>mean smoothness</th>\n",
       "      <th>mean compactness</th>\n",
       "      <th>mean concavity</th>\n",
       "      <th>mean concave points</th>\n",
       "      <th>mean symmetry</th>\n",
       "      <th>mean fractal dimension</th>\n",
       "      <th>radius error</th>\n",
       "      <th>texture error</th>\n",
       "      <th>perimeter error</th>\n",
       "      <th>area error</th>\n",
       "      <th>smoothness error</th>\n",
       "      <th>compactness error</th>\n",
       "      <th>concavity error</th>\n",
       "      <th>concave points error</th>\n",
       "      <th>symmetry error</th>\n",
       "      <th>fractal dimension error</th>\n",
       "      <th>worst radius</th>\n",
       "      <th>worst texture</th>\n",
       "      <th>worst perimeter</th>\n",
       "      <th>worst area</th>\n",
       "      <th>worst smoothness</th>\n",
       "      <th>worst compactness</th>\n",
       "      <th>worst concavity</th>\n",
       "      <th>worst concave points</th>\n",
       "      <th>worst symmetry</th>\n",
       "      <th>worst fractal dimension</th>\n",
       "    </tr>\n",
       "  </thead>\n",
       "  <tbody>\n",
       "    <tr>\n",
       "      <th>0</th>\n",
       "      <td>17.99</td>\n",
       "      <td>10.38</td>\n",
       "      <td>122.80</td>\n",
       "      <td>1001.0</td>\n",
       "      <td>0.11840</td>\n",
       "      <td>0.27760</td>\n",
       "      <td>0.3001</td>\n",
       "      <td>0.14710</td>\n",
       "      <td>0.2419</td>\n",
       "      <td>0.07871</td>\n",
       "      <td>1.0950</td>\n",
       "      <td>0.9053</td>\n",
       "      <td>8.589</td>\n",
       "      <td>153.40</td>\n",
       "      <td>0.006399</td>\n",
       "      <td>0.04904</td>\n",
       "      <td>0.05373</td>\n",
       "      <td>0.01587</td>\n",
       "      <td>0.03003</td>\n",
       "      <td>0.006193</td>\n",
       "      <td>25.38</td>\n",
       "      <td>17.33</td>\n",
       "      <td>184.60</td>\n",
       "      <td>2019.0</td>\n",
       "      <td>0.1622</td>\n",
       "      <td>0.6656</td>\n",
       "      <td>0.7119</td>\n",
       "      <td>0.2654</td>\n",
       "      <td>0.4601</td>\n",
       "      <td>0.11890</td>\n",
       "    </tr>\n",
       "    <tr>\n",
       "      <th>1</th>\n",
       "      <td>20.57</td>\n",
       "      <td>17.77</td>\n",
       "      <td>132.90</td>\n",
       "      <td>1326.0</td>\n",
       "      <td>0.08474</td>\n",
       "      <td>0.07864</td>\n",
       "      <td>0.0869</td>\n",
       "      <td>0.07017</td>\n",
       "      <td>0.1812</td>\n",
       "      <td>0.05667</td>\n",
       "      <td>0.5435</td>\n",
       "      <td>0.7339</td>\n",
       "      <td>3.398</td>\n",
       "      <td>74.08</td>\n",
       "      <td>0.005225</td>\n",
       "      <td>0.01308</td>\n",
       "      <td>0.01860</td>\n",
       "      <td>0.01340</td>\n",
       "      <td>0.01389</td>\n",
       "      <td>0.003532</td>\n",
       "      <td>24.99</td>\n",
       "      <td>23.41</td>\n",
       "      <td>158.80</td>\n",
       "      <td>1956.0</td>\n",
       "      <td>0.1238</td>\n",
       "      <td>0.1866</td>\n",
       "      <td>0.2416</td>\n",
       "      <td>0.1860</td>\n",
       "      <td>0.2750</td>\n",
       "      <td>0.08902</td>\n",
       "    </tr>\n",
       "    <tr>\n",
       "      <th>2</th>\n",
       "      <td>19.69</td>\n",
       "      <td>21.25</td>\n",
       "      <td>130.00</td>\n",
       "      <td>1203.0</td>\n",
       "      <td>0.10960</td>\n",
       "      <td>0.15990</td>\n",
       "      <td>0.1974</td>\n",
       "      <td>0.12790</td>\n",
       "      <td>0.2069</td>\n",
       "      <td>0.05999</td>\n",
       "      <td>0.7456</td>\n",
       "      <td>0.7869</td>\n",
       "      <td>4.585</td>\n",
       "      <td>94.03</td>\n",
       "      <td>0.006150</td>\n",
       "      <td>0.04006</td>\n",
       "      <td>0.03832</td>\n",
       "      <td>0.02058</td>\n",
       "      <td>0.02250</td>\n",
       "      <td>0.004571</td>\n",
       "      <td>23.57</td>\n",
       "      <td>25.53</td>\n",
       "      <td>152.50</td>\n",
       "      <td>1709.0</td>\n",
       "      <td>0.1444</td>\n",
       "      <td>0.4245</td>\n",
       "      <td>0.4504</td>\n",
       "      <td>0.2430</td>\n",
       "      <td>0.3613</td>\n",
       "      <td>0.08758</td>\n",
       "    </tr>\n",
       "    <tr>\n",
       "      <th>3</th>\n",
       "      <td>11.42</td>\n",
       "      <td>20.38</td>\n",
       "      <td>77.58</td>\n",
       "      <td>386.1</td>\n",
       "      <td>0.14250</td>\n",
       "      <td>0.28390</td>\n",
       "      <td>0.2414</td>\n",
       "      <td>0.10520</td>\n",
       "      <td>0.2597</td>\n",
       "      <td>0.09744</td>\n",
       "      <td>0.4956</td>\n",
       "      <td>1.1560</td>\n",
       "      <td>3.445</td>\n",
       "      <td>27.23</td>\n",
       "      <td>0.009110</td>\n",
       "      <td>0.07458</td>\n",
       "      <td>0.05661</td>\n",
       "      <td>0.01867</td>\n",
       "      <td>0.05963</td>\n",
       "      <td>0.009208</td>\n",
       "      <td>14.91</td>\n",
       "      <td>26.50</td>\n",
       "      <td>98.87</td>\n",
       "      <td>567.7</td>\n",
       "      <td>0.2098</td>\n",
       "      <td>0.8663</td>\n",
       "      <td>0.6869</td>\n",
       "      <td>0.2575</td>\n",
       "      <td>0.6638</td>\n",
       "      <td>0.17300</td>\n",
       "    </tr>\n",
       "    <tr>\n",
       "      <th>4</th>\n",
       "      <td>20.29</td>\n",
       "      <td>14.34</td>\n",
       "      <td>135.10</td>\n",
       "      <td>1297.0</td>\n",
       "      <td>0.10030</td>\n",
       "      <td>0.13280</td>\n",
       "      <td>0.1980</td>\n",
       "      <td>0.10430</td>\n",
       "      <td>0.1809</td>\n",
       "      <td>0.05883</td>\n",
       "      <td>0.7572</td>\n",
       "      <td>0.7813</td>\n",
       "      <td>5.438</td>\n",
       "      <td>94.44</td>\n",
       "      <td>0.011490</td>\n",
       "      <td>0.02461</td>\n",
       "      <td>0.05688</td>\n",
       "      <td>0.01885</td>\n",
       "      <td>0.01756</td>\n",
       "      <td>0.005115</td>\n",
       "      <td>22.54</td>\n",
       "      <td>16.67</td>\n",
       "      <td>152.20</td>\n",
       "      <td>1575.0</td>\n",
       "      <td>0.1374</td>\n",
       "      <td>0.2050</td>\n",
       "      <td>0.4000</td>\n",
       "      <td>0.1625</td>\n",
       "      <td>0.2364</td>\n",
       "      <td>0.07678</td>\n",
       "    </tr>\n",
       "  </tbody>\n",
       "</table>\n",
       "</div>"
      ],
      "text/plain": [
       "   mean radius  mean texture  mean perimeter  mean area  mean smoothness  \\\n",
       "0        17.99         10.38          122.80     1001.0          0.11840   \n",
       "1        20.57         17.77          132.90     1326.0          0.08474   \n",
       "2        19.69         21.25          130.00     1203.0          0.10960   \n",
       "3        11.42         20.38           77.58      386.1          0.14250   \n",
       "4        20.29         14.34          135.10     1297.0          0.10030   \n",
       "\n",
       "   mean compactness  mean concavity  mean concave points  mean symmetry  \\\n",
       "0           0.27760          0.3001              0.14710         0.2419   \n",
       "1           0.07864          0.0869              0.07017         0.1812   \n",
       "2           0.15990          0.1974              0.12790         0.2069   \n",
       "3           0.28390          0.2414              0.10520         0.2597   \n",
       "4           0.13280          0.1980              0.10430         0.1809   \n",
       "\n",
       "   mean fractal dimension  radius error  texture error  perimeter error  \\\n",
       "0                 0.07871        1.0950         0.9053            8.589   \n",
       "1                 0.05667        0.5435         0.7339            3.398   \n",
       "2                 0.05999        0.7456         0.7869            4.585   \n",
       "3                 0.09744        0.4956         1.1560            3.445   \n",
       "4                 0.05883        0.7572         0.7813            5.438   \n",
       "\n",
       "   area error  smoothness error  compactness error  concavity error  \\\n",
       "0      153.40          0.006399            0.04904          0.05373   \n",
       "1       74.08          0.005225            0.01308          0.01860   \n",
       "2       94.03          0.006150            0.04006          0.03832   \n",
       "3       27.23          0.009110            0.07458          0.05661   \n",
       "4       94.44          0.011490            0.02461          0.05688   \n",
       "\n",
       "   concave points error  symmetry error  fractal dimension error  \\\n",
       "0               0.01587         0.03003                 0.006193   \n",
       "1               0.01340         0.01389                 0.003532   \n",
       "2               0.02058         0.02250                 0.004571   \n",
       "3               0.01867         0.05963                 0.009208   \n",
       "4               0.01885         0.01756                 0.005115   \n",
       "\n",
       "   worst radius  worst texture  worst perimeter  worst area  worst smoothness  \\\n",
       "0         25.38          17.33           184.60      2019.0            0.1622   \n",
       "1         24.99          23.41           158.80      1956.0            0.1238   \n",
       "2         23.57          25.53           152.50      1709.0            0.1444   \n",
       "3         14.91          26.50            98.87       567.7            0.2098   \n",
       "4         22.54          16.67           152.20      1575.0            0.1374   \n",
       "\n",
       "   worst compactness  worst concavity  worst concave points  worst symmetry  \\\n",
       "0             0.6656           0.7119                0.2654          0.4601   \n",
       "1             0.1866           0.2416                0.1860          0.2750   \n",
       "2             0.4245           0.4504                0.2430          0.3613   \n",
       "3             0.8663           0.6869                0.2575          0.6638   \n",
       "4             0.2050           0.4000                0.1625          0.2364   \n",
       "\n",
       "   worst fractal dimension  \n",
       "0                  0.11890  \n",
       "1                  0.08902  \n",
       "2                  0.08758  \n",
       "3                  0.17300  \n",
       "4                  0.07678  "
      ]
     },
     "execution_count": 73,
     "metadata": {},
     "output_type": "execute_result"
    }
   ],
   "source": [
    "df.head()"
   ]
  },
  {
   "cell_type": "code",
   "execution_count": 74,
   "id": "6308e382",
   "metadata": {},
   "outputs": [],
   "source": [
    "# adding target column to the df dataframe.\n",
    "df['label']  = breast_dataset.target"
   ]
  },
  {
   "cell_type": "code",
   "execution_count": 75,
   "id": "7f84bc55",
   "metadata": {},
   "outputs": [
    {
     "data": {
      "text/html": [
       "<div>\n",
       "<style scoped>\n",
       "    .dataframe tbody tr th:only-of-type {\n",
       "        vertical-align: middle;\n",
       "    }\n",
       "\n",
       "    .dataframe tbody tr th {\n",
       "        vertical-align: top;\n",
       "    }\n",
       "\n",
       "    .dataframe thead th {\n",
       "        text-align: right;\n",
       "    }\n",
       "</style>\n",
       "<table border=\"1\" class=\"dataframe\">\n",
       "  <thead>\n",
       "    <tr style=\"text-align: right;\">\n",
       "      <th></th>\n",
       "      <th>mean radius</th>\n",
       "      <th>mean texture</th>\n",
       "      <th>mean perimeter</th>\n",
       "      <th>mean area</th>\n",
       "      <th>mean smoothness</th>\n",
       "      <th>mean compactness</th>\n",
       "      <th>mean concavity</th>\n",
       "      <th>mean concave points</th>\n",
       "      <th>mean symmetry</th>\n",
       "      <th>mean fractal dimension</th>\n",
       "      <th>radius error</th>\n",
       "      <th>texture error</th>\n",
       "      <th>perimeter error</th>\n",
       "      <th>area error</th>\n",
       "      <th>smoothness error</th>\n",
       "      <th>compactness error</th>\n",
       "      <th>concavity error</th>\n",
       "      <th>concave points error</th>\n",
       "      <th>symmetry error</th>\n",
       "      <th>fractal dimension error</th>\n",
       "      <th>worst radius</th>\n",
       "      <th>worst texture</th>\n",
       "      <th>worst perimeter</th>\n",
       "      <th>worst area</th>\n",
       "      <th>worst smoothness</th>\n",
       "      <th>worst compactness</th>\n",
       "      <th>worst concavity</th>\n",
       "      <th>worst concave points</th>\n",
       "      <th>worst symmetry</th>\n",
       "      <th>worst fractal dimension</th>\n",
       "      <th>label</th>\n",
       "    </tr>\n",
       "  </thead>\n",
       "  <tbody>\n",
       "    <tr>\n",
       "      <th>327</th>\n",
       "      <td>12.03</td>\n",
       "      <td>17.93</td>\n",
       "      <td>76.09</td>\n",
       "      <td>446.0</td>\n",
       "      <td>0.07683</td>\n",
       "      <td>0.03892</td>\n",
       "      <td>0.001546</td>\n",
       "      <td>0.005592</td>\n",
       "      <td>0.1382</td>\n",
       "      <td>0.06070</td>\n",
       "      <td>0.2335</td>\n",
       "      <td>0.9097</td>\n",
       "      <td>1.466</td>\n",
       "      <td>16.97</td>\n",
       "      <td>0.004729</td>\n",
       "      <td>0.006887</td>\n",
       "      <td>0.001184</td>\n",
       "      <td>0.003951</td>\n",
       "      <td>0.01466</td>\n",
       "      <td>0.001755</td>\n",
       "      <td>13.07</td>\n",
       "      <td>22.25</td>\n",
       "      <td>82.74</td>\n",
       "      <td>523.4</td>\n",
       "      <td>0.10130</td>\n",
       "      <td>0.0739</td>\n",
       "      <td>0.007732</td>\n",
       "      <td>0.02796</td>\n",
       "      <td>0.2171</td>\n",
       "      <td>0.07037</td>\n",
       "      <td>1</td>\n",
       "    </tr>\n",
       "    <tr>\n",
       "      <th>145</th>\n",
       "      <td>11.90</td>\n",
       "      <td>14.65</td>\n",
       "      <td>78.11</td>\n",
       "      <td>432.8</td>\n",
       "      <td>0.11520</td>\n",
       "      <td>0.12960</td>\n",
       "      <td>0.037100</td>\n",
       "      <td>0.030030</td>\n",
       "      <td>0.1995</td>\n",
       "      <td>0.07839</td>\n",
       "      <td>0.3962</td>\n",
       "      <td>0.6538</td>\n",
       "      <td>3.021</td>\n",
       "      <td>25.03</td>\n",
       "      <td>0.010170</td>\n",
       "      <td>0.047410</td>\n",
       "      <td>0.027890</td>\n",
       "      <td>0.011100</td>\n",
       "      <td>0.03127</td>\n",
       "      <td>0.009423</td>\n",
       "      <td>13.15</td>\n",
       "      <td>16.51</td>\n",
       "      <td>86.26</td>\n",
       "      <td>509.6</td>\n",
       "      <td>0.14240</td>\n",
       "      <td>0.2517</td>\n",
       "      <td>0.094200</td>\n",
       "      <td>0.06042</td>\n",
       "      <td>0.2727</td>\n",
       "      <td>0.10360</td>\n",
       "      <td>1</td>\n",
       "    </tr>\n",
       "    <tr>\n",
       "      <th>157</th>\n",
       "      <td>16.84</td>\n",
       "      <td>19.46</td>\n",
       "      <td>108.40</td>\n",
       "      <td>880.2</td>\n",
       "      <td>0.07445</td>\n",
       "      <td>0.07223</td>\n",
       "      <td>0.051500</td>\n",
       "      <td>0.027710</td>\n",
       "      <td>0.1844</td>\n",
       "      <td>0.05268</td>\n",
       "      <td>0.4789</td>\n",
       "      <td>2.0600</td>\n",
       "      <td>3.479</td>\n",
       "      <td>46.61</td>\n",
       "      <td>0.003443</td>\n",
       "      <td>0.026610</td>\n",
       "      <td>0.030560</td>\n",
       "      <td>0.011100</td>\n",
       "      <td>0.01520</td>\n",
       "      <td>0.001519</td>\n",
       "      <td>18.22</td>\n",
       "      <td>28.07</td>\n",
       "      <td>120.30</td>\n",
       "      <td>1032.0</td>\n",
       "      <td>0.08774</td>\n",
       "      <td>0.1710</td>\n",
       "      <td>0.188200</td>\n",
       "      <td>0.08436</td>\n",
       "      <td>0.2527</td>\n",
       "      <td>0.05972</td>\n",
       "      <td>1</td>\n",
       "    </tr>\n",
       "    <tr>\n",
       "      <th>80</th>\n",
       "      <td>11.45</td>\n",
       "      <td>20.97</td>\n",
       "      <td>73.81</td>\n",
       "      <td>401.5</td>\n",
       "      <td>0.11020</td>\n",
       "      <td>0.09362</td>\n",
       "      <td>0.045910</td>\n",
       "      <td>0.022330</td>\n",
       "      <td>0.1842</td>\n",
       "      <td>0.07005</td>\n",
       "      <td>0.3251</td>\n",
       "      <td>2.1740</td>\n",
       "      <td>2.077</td>\n",
       "      <td>24.62</td>\n",
       "      <td>0.010370</td>\n",
       "      <td>0.017060</td>\n",
       "      <td>0.025860</td>\n",
       "      <td>0.007506</td>\n",
       "      <td>0.01816</td>\n",
       "      <td>0.003976</td>\n",
       "      <td>13.11</td>\n",
       "      <td>32.16</td>\n",
       "      <td>84.53</td>\n",
       "      <td>525.1</td>\n",
       "      <td>0.15570</td>\n",
       "      <td>0.1676</td>\n",
       "      <td>0.175500</td>\n",
       "      <td>0.06127</td>\n",
       "      <td>0.2762</td>\n",
       "      <td>0.08851</td>\n",
       "      <td>1</td>\n",
       "    </tr>\n",
       "    <tr>\n",
       "      <th>349</th>\n",
       "      <td>11.95</td>\n",
       "      <td>14.96</td>\n",
       "      <td>77.23</td>\n",
       "      <td>426.7</td>\n",
       "      <td>0.11580</td>\n",
       "      <td>0.12060</td>\n",
       "      <td>0.011710</td>\n",
       "      <td>0.017870</td>\n",
       "      <td>0.2459</td>\n",
       "      <td>0.06581</td>\n",
       "      <td>0.3610</td>\n",
       "      <td>1.0500</td>\n",
       "      <td>2.455</td>\n",
       "      <td>26.65</td>\n",
       "      <td>0.005800</td>\n",
       "      <td>0.024170</td>\n",
       "      <td>0.007816</td>\n",
       "      <td>0.010520</td>\n",
       "      <td>0.02734</td>\n",
       "      <td>0.003114</td>\n",
       "      <td>12.81</td>\n",
       "      <td>17.72</td>\n",
       "      <td>83.09</td>\n",
       "      <td>496.2</td>\n",
       "      <td>0.12930</td>\n",
       "      <td>0.1885</td>\n",
       "      <td>0.031220</td>\n",
       "      <td>0.04766</td>\n",
       "      <td>0.3124</td>\n",
       "      <td>0.07590</td>\n",
       "      <td>1</td>\n",
       "    </tr>\n",
       "  </tbody>\n",
       "</table>\n",
       "</div>"
      ],
      "text/plain": [
       "     mean radius  mean texture  mean perimeter  mean area  mean smoothness  \\\n",
       "327        12.03         17.93           76.09      446.0          0.07683   \n",
       "145        11.90         14.65           78.11      432.8          0.11520   \n",
       "157        16.84         19.46          108.40      880.2          0.07445   \n",
       "80         11.45         20.97           73.81      401.5          0.11020   \n",
       "349        11.95         14.96           77.23      426.7          0.11580   \n",
       "\n",
       "     mean compactness  mean concavity  mean concave points  mean symmetry  \\\n",
       "327           0.03892        0.001546             0.005592         0.1382   \n",
       "145           0.12960        0.037100             0.030030         0.1995   \n",
       "157           0.07223        0.051500             0.027710         0.1844   \n",
       "80            0.09362        0.045910             0.022330         0.1842   \n",
       "349           0.12060        0.011710             0.017870         0.2459   \n",
       "\n",
       "     mean fractal dimension  radius error  texture error  perimeter error  \\\n",
       "327                 0.06070        0.2335         0.9097            1.466   \n",
       "145                 0.07839        0.3962         0.6538            3.021   \n",
       "157                 0.05268        0.4789         2.0600            3.479   \n",
       "80                  0.07005        0.3251         2.1740            2.077   \n",
       "349                 0.06581        0.3610         1.0500            2.455   \n",
       "\n",
       "     area error  smoothness error  compactness error  concavity error  \\\n",
       "327       16.97          0.004729           0.006887         0.001184   \n",
       "145       25.03          0.010170           0.047410         0.027890   \n",
       "157       46.61          0.003443           0.026610         0.030560   \n",
       "80        24.62          0.010370           0.017060         0.025860   \n",
       "349       26.65          0.005800           0.024170         0.007816   \n",
       "\n",
       "     concave points error  symmetry error  fractal dimension error  \\\n",
       "327              0.003951         0.01466                 0.001755   \n",
       "145              0.011100         0.03127                 0.009423   \n",
       "157              0.011100         0.01520                 0.001519   \n",
       "80               0.007506         0.01816                 0.003976   \n",
       "349              0.010520         0.02734                 0.003114   \n",
       "\n",
       "     worst radius  worst texture  worst perimeter  worst area  \\\n",
       "327         13.07          22.25            82.74       523.4   \n",
       "145         13.15          16.51            86.26       509.6   \n",
       "157         18.22          28.07           120.30      1032.0   \n",
       "80          13.11          32.16            84.53       525.1   \n",
       "349         12.81          17.72            83.09       496.2   \n",
       "\n",
       "     worst smoothness  worst compactness  worst concavity  \\\n",
       "327           0.10130             0.0739         0.007732   \n",
       "145           0.14240             0.2517         0.094200   \n",
       "157           0.08774             0.1710         0.188200   \n",
       "80            0.15570             0.1676         0.175500   \n",
       "349           0.12930             0.1885         0.031220   \n",
       "\n",
       "     worst concave points  worst symmetry  worst fractal dimension  label  \n",
       "327               0.02796          0.2171                  0.07037      1  \n",
       "145               0.06042          0.2727                  0.10360      1  \n",
       "157               0.08436          0.2527                  0.05972      1  \n",
       "80                0.06127          0.2762                  0.08851      1  \n",
       "349               0.04766          0.3124                  0.07590      1  "
      ]
     },
     "execution_count": 75,
     "metadata": {},
     "output_type": "execute_result"
    }
   ],
   "source": [
    "df.sample(5)"
   ]
  },
  {
   "cell_type": "code",
   "execution_count": 76,
   "id": "02c9b677",
   "metadata": {},
   "outputs": [
    {
     "data": {
      "text/plain": [
       "(569, 31)"
      ]
     },
     "execution_count": 76,
     "metadata": {},
     "output_type": "execute_result"
    }
   ],
   "source": [
    "df.shape\n",
    "# 569 * 31"
   ]
  },
  {
   "cell_type": "code",
   "execution_count": 77,
   "id": "db4dfb83",
   "metadata": {},
   "outputs": [
    {
     "data": {
      "text/plain": [
       "mean radius                0\n",
       "mean texture               0\n",
       "mean perimeter             0\n",
       "mean area                  0\n",
       "mean smoothness            0\n",
       "mean compactness           0\n",
       "mean concavity             0\n",
       "mean concave points        0\n",
       "mean symmetry              0\n",
       "mean fractal dimension     0\n",
       "radius error               0\n",
       "texture error              0\n",
       "perimeter error            0\n",
       "area error                 0\n",
       "smoothness error           0\n",
       "compactness error          0\n",
       "concavity error            0\n",
       "concave points error       0\n",
       "symmetry error             0\n",
       "fractal dimension error    0\n",
       "worst radius               0\n",
       "worst texture              0\n",
       "worst perimeter            0\n",
       "worst area                 0\n",
       "worst smoothness           0\n",
       "worst compactness          0\n",
       "worst concavity            0\n",
       "worst concave points       0\n",
       "worst symmetry             0\n",
       "worst fractal dimension    0\n",
       "label                      0\n",
       "dtype: int64"
      ]
     },
     "execution_count": 77,
     "metadata": {},
     "output_type": "execute_result"
    }
   ],
   "source": [
    "# checking the null valeus.\n",
    "df.isnull().sum()"
   ]
  },
  {
   "cell_type": "code",
   "execution_count": 51,
   "id": "aa00ba86",
   "metadata": {},
   "outputs": [],
   "source": [
    "# no missing values."
   ]
  },
  {
   "cell_type": "code",
   "execution_count": 78,
   "id": "e1432c2b",
   "metadata": {},
   "outputs": [
    {
     "data": {
      "text/html": [
       "<div>\n",
       "<style scoped>\n",
       "    .dataframe tbody tr th:only-of-type {\n",
       "        vertical-align: middle;\n",
       "    }\n",
       "\n",
       "    .dataframe tbody tr th {\n",
       "        vertical-align: top;\n",
       "    }\n",
       "\n",
       "    .dataframe thead th {\n",
       "        text-align: right;\n",
       "    }\n",
       "</style>\n",
       "<table border=\"1\" class=\"dataframe\">\n",
       "  <thead>\n",
       "    <tr style=\"text-align: right;\">\n",
       "      <th></th>\n",
       "      <th>mean radius</th>\n",
       "      <th>mean texture</th>\n",
       "      <th>mean perimeter</th>\n",
       "      <th>mean area</th>\n",
       "      <th>mean smoothness</th>\n",
       "      <th>mean compactness</th>\n",
       "      <th>mean concavity</th>\n",
       "      <th>mean concave points</th>\n",
       "      <th>mean symmetry</th>\n",
       "      <th>mean fractal dimension</th>\n",
       "      <th>radius error</th>\n",
       "      <th>texture error</th>\n",
       "      <th>perimeter error</th>\n",
       "      <th>area error</th>\n",
       "      <th>smoothness error</th>\n",
       "      <th>compactness error</th>\n",
       "      <th>concavity error</th>\n",
       "      <th>concave points error</th>\n",
       "      <th>symmetry error</th>\n",
       "      <th>fractal dimension error</th>\n",
       "      <th>worst radius</th>\n",
       "      <th>worst texture</th>\n",
       "      <th>worst perimeter</th>\n",
       "      <th>worst area</th>\n",
       "      <th>worst smoothness</th>\n",
       "      <th>worst compactness</th>\n",
       "      <th>worst concavity</th>\n",
       "      <th>worst concave points</th>\n",
       "      <th>worst symmetry</th>\n",
       "      <th>worst fractal dimension</th>\n",
       "      <th>label</th>\n",
       "    </tr>\n",
       "  </thead>\n",
       "  <tbody>\n",
       "    <tr>\n",
       "      <th>count</th>\n",
       "      <td>569.000000</td>\n",
       "      <td>569.000000</td>\n",
       "      <td>569.000000</td>\n",
       "      <td>569.000000</td>\n",
       "      <td>569.000000</td>\n",
       "      <td>569.000000</td>\n",
       "      <td>569.000000</td>\n",
       "      <td>569.000000</td>\n",
       "      <td>569.000000</td>\n",
       "      <td>569.000000</td>\n",
       "      <td>569.000000</td>\n",
       "      <td>569.000000</td>\n",
       "      <td>569.000000</td>\n",
       "      <td>569.000000</td>\n",
       "      <td>569.000000</td>\n",
       "      <td>569.000000</td>\n",
       "      <td>569.000000</td>\n",
       "      <td>569.000000</td>\n",
       "      <td>569.000000</td>\n",
       "      <td>569.000000</td>\n",
       "      <td>569.000000</td>\n",
       "      <td>569.000000</td>\n",
       "      <td>569.000000</td>\n",
       "      <td>569.000000</td>\n",
       "      <td>569.000000</td>\n",
       "      <td>569.000000</td>\n",
       "      <td>569.000000</td>\n",
       "      <td>569.000000</td>\n",
       "      <td>569.000000</td>\n",
       "      <td>569.000000</td>\n",
       "      <td>569.000000</td>\n",
       "    </tr>\n",
       "    <tr>\n",
       "      <th>mean</th>\n",
       "      <td>14.127292</td>\n",
       "      <td>19.289649</td>\n",
       "      <td>91.969033</td>\n",
       "      <td>654.889104</td>\n",
       "      <td>0.096360</td>\n",
       "      <td>0.104341</td>\n",
       "      <td>0.088799</td>\n",
       "      <td>0.048919</td>\n",
       "      <td>0.181162</td>\n",
       "      <td>0.062798</td>\n",
       "      <td>0.405172</td>\n",
       "      <td>1.216853</td>\n",
       "      <td>2.866059</td>\n",
       "      <td>40.337079</td>\n",
       "      <td>0.007041</td>\n",
       "      <td>0.025478</td>\n",
       "      <td>0.031894</td>\n",
       "      <td>0.011796</td>\n",
       "      <td>0.020542</td>\n",
       "      <td>0.003795</td>\n",
       "      <td>16.269190</td>\n",
       "      <td>25.677223</td>\n",
       "      <td>107.261213</td>\n",
       "      <td>880.583128</td>\n",
       "      <td>0.132369</td>\n",
       "      <td>0.254265</td>\n",
       "      <td>0.272188</td>\n",
       "      <td>0.114606</td>\n",
       "      <td>0.290076</td>\n",
       "      <td>0.083946</td>\n",
       "      <td>0.627417</td>\n",
       "    </tr>\n",
       "    <tr>\n",
       "      <th>std</th>\n",
       "      <td>3.524049</td>\n",
       "      <td>4.301036</td>\n",
       "      <td>24.298981</td>\n",
       "      <td>351.914129</td>\n",
       "      <td>0.014064</td>\n",
       "      <td>0.052813</td>\n",
       "      <td>0.079720</td>\n",
       "      <td>0.038803</td>\n",
       "      <td>0.027414</td>\n",
       "      <td>0.007060</td>\n",
       "      <td>0.277313</td>\n",
       "      <td>0.551648</td>\n",
       "      <td>2.021855</td>\n",
       "      <td>45.491006</td>\n",
       "      <td>0.003003</td>\n",
       "      <td>0.017908</td>\n",
       "      <td>0.030186</td>\n",
       "      <td>0.006170</td>\n",
       "      <td>0.008266</td>\n",
       "      <td>0.002646</td>\n",
       "      <td>4.833242</td>\n",
       "      <td>6.146258</td>\n",
       "      <td>33.602542</td>\n",
       "      <td>569.356993</td>\n",
       "      <td>0.022832</td>\n",
       "      <td>0.157336</td>\n",
       "      <td>0.208624</td>\n",
       "      <td>0.065732</td>\n",
       "      <td>0.061867</td>\n",
       "      <td>0.018061</td>\n",
       "      <td>0.483918</td>\n",
       "    </tr>\n",
       "    <tr>\n",
       "      <th>min</th>\n",
       "      <td>6.981000</td>\n",
       "      <td>9.710000</td>\n",
       "      <td>43.790000</td>\n",
       "      <td>143.500000</td>\n",
       "      <td>0.052630</td>\n",
       "      <td>0.019380</td>\n",
       "      <td>0.000000</td>\n",
       "      <td>0.000000</td>\n",
       "      <td>0.106000</td>\n",
       "      <td>0.049960</td>\n",
       "      <td>0.111500</td>\n",
       "      <td>0.360200</td>\n",
       "      <td>0.757000</td>\n",
       "      <td>6.802000</td>\n",
       "      <td>0.001713</td>\n",
       "      <td>0.002252</td>\n",
       "      <td>0.000000</td>\n",
       "      <td>0.000000</td>\n",
       "      <td>0.007882</td>\n",
       "      <td>0.000895</td>\n",
       "      <td>7.930000</td>\n",
       "      <td>12.020000</td>\n",
       "      <td>50.410000</td>\n",
       "      <td>185.200000</td>\n",
       "      <td>0.071170</td>\n",
       "      <td>0.027290</td>\n",
       "      <td>0.000000</td>\n",
       "      <td>0.000000</td>\n",
       "      <td>0.156500</td>\n",
       "      <td>0.055040</td>\n",
       "      <td>0.000000</td>\n",
       "    </tr>\n",
       "    <tr>\n",
       "      <th>25%</th>\n",
       "      <td>11.700000</td>\n",
       "      <td>16.170000</td>\n",
       "      <td>75.170000</td>\n",
       "      <td>420.300000</td>\n",
       "      <td>0.086370</td>\n",
       "      <td>0.064920</td>\n",
       "      <td>0.029560</td>\n",
       "      <td>0.020310</td>\n",
       "      <td>0.161900</td>\n",
       "      <td>0.057700</td>\n",
       "      <td>0.232400</td>\n",
       "      <td>0.833900</td>\n",
       "      <td>1.606000</td>\n",
       "      <td>17.850000</td>\n",
       "      <td>0.005169</td>\n",
       "      <td>0.013080</td>\n",
       "      <td>0.015090</td>\n",
       "      <td>0.007638</td>\n",
       "      <td>0.015160</td>\n",
       "      <td>0.002248</td>\n",
       "      <td>13.010000</td>\n",
       "      <td>21.080000</td>\n",
       "      <td>84.110000</td>\n",
       "      <td>515.300000</td>\n",
       "      <td>0.116600</td>\n",
       "      <td>0.147200</td>\n",
       "      <td>0.114500</td>\n",
       "      <td>0.064930</td>\n",
       "      <td>0.250400</td>\n",
       "      <td>0.071460</td>\n",
       "      <td>0.000000</td>\n",
       "    </tr>\n",
       "    <tr>\n",
       "      <th>50%</th>\n",
       "      <td>13.370000</td>\n",
       "      <td>18.840000</td>\n",
       "      <td>86.240000</td>\n",
       "      <td>551.100000</td>\n",
       "      <td>0.095870</td>\n",
       "      <td>0.092630</td>\n",
       "      <td>0.061540</td>\n",
       "      <td>0.033500</td>\n",
       "      <td>0.179200</td>\n",
       "      <td>0.061540</td>\n",
       "      <td>0.324200</td>\n",
       "      <td>1.108000</td>\n",
       "      <td>2.287000</td>\n",
       "      <td>24.530000</td>\n",
       "      <td>0.006380</td>\n",
       "      <td>0.020450</td>\n",
       "      <td>0.025890</td>\n",
       "      <td>0.010930</td>\n",
       "      <td>0.018730</td>\n",
       "      <td>0.003187</td>\n",
       "      <td>14.970000</td>\n",
       "      <td>25.410000</td>\n",
       "      <td>97.660000</td>\n",
       "      <td>686.500000</td>\n",
       "      <td>0.131300</td>\n",
       "      <td>0.211900</td>\n",
       "      <td>0.226700</td>\n",
       "      <td>0.099930</td>\n",
       "      <td>0.282200</td>\n",
       "      <td>0.080040</td>\n",
       "      <td>1.000000</td>\n",
       "    </tr>\n",
       "    <tr>\n",
       "      <th>75%</th>\n",
       "      <td>15.780000</td>\n",
       "      <td>21.800000</td>\n",
       "      <td>104.100000</td>\n",
       "      <td>782.700000</td>\n",
       "      <td>0.105300</td>\n",
       "      <td>0.130400</td>\n",
       "      <td>0.130700</td>\n",
       "      <td>0.074000</td>\n",
       "      <td>0.195700</td>\n",
       "      <td>0.066120</td>\n",
       "      <td>0.478900</td>\n",
       "      <td>1.474000</td>\n",
       "      <td>3.357000</td>\n",
       "      <td>45.190000</td>\n",
       "      <td>0.008146</td>\n",
       "      <td>0.032450</td>\n",
       "      <td>0.042050</td>\n",
       "      <td>0.014710</td>\n",
       "      <td>0.023480</td>\n",
       "      <td>0.004558</td>\n",
       "      <td>18.790000</td>\n",
       "      <td>29.720000</td>\n",
       "      <td>125.400000</td>\n",
       "      <td>1084.000000</td>\n",
       "      <td>0.146000</td>\n",
       "      <td>0.339100</td>\n",
       "      <td>0.382900</td>\n",
       "      <td>0.161400</td>\n",
       "      <td>0.317900</td>\n",
       "      <td>0.092080</td>\n",
       "      <td>1.000000</td>\n",
       "    </tr>\n",
       "    <tr>\n",
       "      <th>max</th>\n",
       "      <td>28.110000</td>\n",
       "      <td>39.280000</td>\n",
       "      <td>188.500000</td>\n",
       "      <td>2501.000000</td>\n",
       "      <td>0.163400</td>\n",
       "      <td>0.345400</td>\n",
       "      <td>0.426800</td>\n",
       "      <td>0.201200</td>\n",
       "      <td>0.304000</td>\n",
       "      <td>0.097440</td>\n",
       "      <td>2.873000</td>\n",
       "      <td>4.885000</td>\n",
       "      <td>21.980000</td>\n",
       "      <td>542.200000</td>\n",
       "      <td>0.031130</td>\n",
       "      <td>0.135400</td>\n",
       "      <td>0.396000</td>\n",
       "      <td>0.052790</td>\n",
       "      <td>0.078950</td>\n",
       "      <td>0.029840</td>\n",
       "      <td>36.040000</td>\n",
       "      <td>49.540000</td>\n",
       "      <td>251.200000</td>\n",
       "      <td>4254.000000</td>\n",
       "      <td>0.222600</td>\n",
       "      <td>1.058000</td>\n",
       "      <td>1.252000</td>\n",
       "      <td>0.291000</td>\n",
       "      <td>0.663800</td>\n",
       "      <td>0.207500</td>\n",
       "      <td>1.000000</td>\n",
       "    </tr>\n",
       "  </tbody>\n",
       "</table>\n",
       "</div>"
      ],
      "text/plain": [
       "       mean radius  mean texture  mean perimeter    mean area  \\\n",
       "count   569.000000    569.000000      569.000000   569.000000   \n",
       "mean     14.127292     19.289649       91.969033   654.889104   \n",
       "std       3.524049      4.301036       24.298981   351.914129   \n",
       "min       6.981000      9.710000       43.790000   143.500000   \n",
       "25%      11.700000     16.170000       75.170000   420.300000   \n",
       "50%      13.370000     18.840000       86.240000   551.100000   \n",
       "75%      15.780000     21.800000      104.100000   782.700000   \n",
       "max      28.110000     39.280000      188.500000  2501.000000   \n",
       "\n",
       "       mean smoothness  mean compactness  mean concavity  mean concave points  \\\n",
       "count       569.000000        569.000000      569.000000           569.000000   \n",
       "mean          0.096360          0.104341        0.088799             0.048919   \n",
       "std           0.014064          0.052813        0.079720             0.038803   \n",
       "min           0.052630          0.019380        0.000000             0.000000   \n",
       "25%           0.086370          0.064920        0.029560             0.020310   \n",
       "50%           0.095870          0.092630        0.061540             0.033500   \n",
       "75%           0.105300          0.130400        0.130700             0.074000   \n",
       "max           0.163400          0.345400        0.426800             0.201200   \n",
       "\n",
       "       mean symmetry  mean fractal dimension  radius error  texture error  \\\n",
       "count     569.000000              569.000000    569.000000     569.000000   \n",
       "mean        0.181162                0.062798      0.405172       1.216853   \n",
       "std         0.027414                0.007060      0.277313       0.551648   \n",
       "min         0.106000                0.049960      0.111500       0.360200   \n",
       "25%         0.161900                0.057700      0.232400       0.833900   \n",
       "50%         0.179200                0.061540      0.324200       1.108000   \n",
       "75%         0.195700                0.066120      0.478900       1.474000   \n",
       "max         0.304000                0.097440      2.873000       4.885000   \n",
       "\n",
       "       perimeter error  area error  smoothness error  compactness error  \\\n",
       "count       569.000000  569.000000        569.000000         569.000000   \n",
       "mean          2.866059   40.337079          0.007041           0.025478   \n",
       "std           2.021855   45.491006          0.003003           0.017908   \n",
       "min           0.757000    6.802000          0.001713           0.002252   \n",
       "25%           1.606000   17.850000          0.005169           0.013080   \n",
       "50%           2.287000   24.530000          0.006380           0.020450   \n",
       "75%           3.357000   45.190000          0.008146           0.032450   \n",
       "max          21.980000  542.200000          0.031130           0.135400   \n",
       "\n",
       "       concavity error  concave points error  symmetry error  \\\n",
       "count       569.000000            569.000000      569.000000   \n",
       "mean          0.031894              0.011796        0.020542   \n",
       "std           0.030186              0.006170        0.008266   \n",
       "min           0.000000              0.000000        0.007882   \n",
       "25%           0.015090              0.007638        0.015160   \n",
       "50%           0.025890              0.010930        0.018730   \n",
       "75%           0.042050              0.014710        0.023480   \n",
       "max           0.396000              0.052790        0.078950   \n",
       "\n",
       "       fractal dimension error  worst radius  worst texture  worst perimeter  \\\n",
       "count               569.000000    569.000000     569.000000       569.000000   \n",
       "mean                  0.003795     16.269190      25.677223       107.261213   \n",
       "std                   0.002646      4.833242       6.146258        33.602542   \n",
       "min                   0.000895      7.930000      12.020000        50.410000   \n",
       "25%                   0.002248     13.010000      21.080000        84.110000   \n",
       "50%                   0.003187     14.970000      25.410000        97.660000   \n",
       "75%                   0.004558     18.790000      29.720000       125.400000   \n",
       "max                   0.029840     36.040000      49.540000       251.200000   \n",
       "\n",
       "        worst area  worst smoothness  worst compactness  worst concavity  \\\n",
       "count   569.000000        569.000000         569.000000       569.000000   \n",
       "mean    880.583128          0.132369           0.254265         0.272188   \n",
       "std     569.356993          0.022832           0.157336         0.208624   \n",
       "min     185.200000          0.071170           0.027290         0.000000   \n",
       "25%     515.300000          0.116600           0.147200         0.114500   \n",
       "50%     686.500000          0.131300           0.211900         0.226700   \n",
       "75%    1084.000000          0.146000           0.339100         0.382900   \n",
       "max    4254.000000          0.222600           1.058000         1.252000   \n",
       "\n",
       "       worst concave points  worst symmetry  worst fractal dimension  \\\n",
       "count            569.000000      569.000000               569.000000   \n",
       "mean               0.114606        0.290076                 0.083946   \n",
       "std                0.065732        0.061867                 0.018061   \n",
       "min                0.000000        0.156500                 0.055040   \n",
       "25%                0.064930        0.250400                 0.071460   \n",
       "50%                0.099930        0.282200                 0.080040   \n",
       "75%                0.161400        0.317900                 0.092080   \n",
       "max                0.291000        0.663800                 0.207500   \n",
       "\n",
       "            label  \n",
       "count  569.000000  \n",
       "mean     0.627417  \n",
       "std      0.483918  \n",
       "min      0.000000  \n",
       "25%      0.000000  \n",
       "50%      1.000000  \n",
       "75%      1.000000  \n",
       "max      1.000000  "
      ]
     },
     "execution_count": 78,
     "metadata": {},
     "output_type": "execute_result"
    }
   ],
   "source": [
    "# statistical measure about the data.\n",
    "df.describe()"
   ]
  },
  {
   "cell_type": "code",
   "execution_count": 79,
   "id": "4bb9d34f",
   "metadata": {},
   "outputs": [
    {
     "data": {
      "text/plain": [
       "1    357\n",
       "0    212\n",
       "Name: label, dtype: int64"
      ]
     },
     "execution_count": 79,
     "metadata": {},
     "output_type": "execute_result"
    }
   ],
   "source": [
    "# counting the values of each of the different labels.\n",
    "df['label'].value_counts()\n",
    "# 0 -> malignant (danger)\n",
    "# 1 -> benign (ok)"
   ]
  },
  {
   "cell_type": "code",
   "execution_count": 80,
   "id": "f591ae22",
   "metadata": {},
   "outputs": [],
   "source": [
    "# we can see that the data is not imbalance. otherwise we would have to upsample or downsample them."
   ]
  },
  {
   "cell_type": "markdown",
   "id": "60229207",
   "metadata": {},
   "source": [
    "#### Using .groupby() function"
   ]
  },
  {
   "cell_type": "code",
   "execution_count": 81,
   "id": "55d8bdd9",
   "metadata": {},
   "outputs": [
    {
     "data": {
      "text/html": [
       "<div>\n",
       "<style scoped>\n",
       "    .dataframe tbody tr th:only-of-type {\n",
       "        vertical-align: middle;\n",
       "    }\n",
       "\n",
       "    .dataframe tbody tr th {\n",
       "        vertical-align: top;\n",
       "    }\n",
       "\n",
       "    .dataframe thead th {\n",
       "        text-align: right;\n",
       "    }\n",
       "</style>\n",
       "<table border=\"1\" class=\"dataframe\">\n",
       "  <thead>\n",
       "    <tr style=\"text-align: right;\">\n",
       "      <th></th>\n",
       "      <th>mean radius</th>\n",
       "      <th>mean texture</th>\n",
       "      <th>mean perimeter</th>\n",
       "      <th>mean area</th>\n",
       "      <th>mean smoothness</th>\n",
       "      <th>mean compactness</th>\n",
       "      <th>mean concavity</th>\n",
       "      <th>mean concave points</th>\n",
       "      <th>mean symmetry</th>\n",
       "      <th>mean fractal dimension</th>\n",
       "      <th>radius error</th>\n",
       "      <th>texture error</th>\n",
       "      <th>perimeter error</th>\n",
       "      <th>area error</th>\n",
       "      <th>smoothness error</th>\n",
       "      <th>compactness error</th>\n",
       "      <th>concavity error</th>\n",
       "      <th>concave points error</th>\n",
       "      <th>symmetry error</th>\n",
       "      <th>fractal dimension error</th>\n",
       "      <th>worst radius</th>\n",
       "      <th>worst texture</th>\n",
       "      <th>worst perimeter</th>\n",
       "      <th>worst area</th>\n",
       "      <th>worst smoothness</th>\n",
       "      <th>worst compactness</th>\n",
       "      <th>worst concavity</th>\n",
       "      <th>worst concave points</th>\n",
       "      <th>worst symmetry</th>\n",
       "      <th>worst fractal dimension</th>\n",
       "    </tr>\n",
       "    <tr>\n",
       "      <th>label</th>\n",
       "      <th></th>\n",
       "      <th></th>\n",
       "      <th></th>\n",
       "      <th></th>\n",
       "      <th></th>\n",
       "      <th></th>\n",
       "      <th></th>\n",
       "      <th></th>\n",
       "      <th></th>\n",
       "      <th></th>\n",
       "      <th></th>\n",
       "      <th></th>\n",
       "      <th></th>\n",
       "      <th></th>\n",
       "      <th></th>\n",
       "      <th></th>\n",
       "      <th></th>\n",
       "      <th></th>\n",
       "      <th></th>\n",
       "      <th></th>\n",
       "      <th></th>\n",
       "      <th></th>\n",
       "      <th></th>\n",
       "      <th></th>\n",
       "      <th></th>\n",
       "      <th></th>\n",
       "      <th></th>\n",
       "      <th></th>\n",
       "      <th></th>\n",
       "      <th></th>\n",
       "    </tr>\n",
       "  </thead>\n",
       "  <tbody>\n",
       "    <tr>\n",
       "      <th>0</th>\n",
       "      <td>17.462830</td>\n",
       "      <td>21.604906</td>\n",
       "      <td>115.365377</td>\n",
       "      <td>978.376415</td>\n",
       "      <td>0.102898</td>\n",
       "      <td>0.145188</td>\n",
       "      <td>0.160775</td>\n",
       "      <td>0.087990</td>\n",
       "      <td>0.192909</td>\n",
       "      <td>0.062680</td>\n",
       "      <td>0.609083</td>\n",
       "      <td>1.210915</td>\n",
       "      <td>4.323929</td>\n",
       "      <td>72.672406</td>\n",
       "      <td>0.006780</td>\n",
       "      <td>0.032281</td>\n",
       "      <td>0.041824</td>\n",
       "      <td>0.015060</td>\n",
       "      <td>0.020472</td>\n",
       "      <td>0.004062</td>\n",
       "      <td>21.134811</td>\n",
       "      <td>29.318208</td>\n",
       "      <td>141.370330</td>\n",
       "      <td>1422.286321</td>\n",
       "      <td>0.144845</td>\n",
       "      <td>0.374824</td>\n",
       "      <td>0.450606</td>\n",
       "      <td>0.182237</td>\n",
       "      <td>0.323468</td>\n",
       "      <td>0.091530</td>\n",
       "    </tr>\n",
       "    <tr>\n",
       "      <th>1</th>\n",
       "      <td>12.146524</td>\n",
       "      <td>17.914762</td>\n",
       "      <td>78.075406</td>\n",
       "      <td>462.790196</td>\n",
       "      <td>0.092478</td>\n",
       "      <td>0.080085</td>\n",
       "      <td>0.046058</td>\n",
       "      <td>0.025717</td>\n",
       "      <td>0.174186</td>\n",
       "      <td>0.062867</td>\n",
       "      <td>0.284082</td>\n",
       "      <td>1.220380</td>\n",
       "      <td>2.000321</td>\n",
       "      <td>21.135148</td>\n",
       "      <td>0.007196</td>\n",
       "      <td>0.021438</td>\n",
       "      <td>0.025997</td>\n",
       "      <td>0.009858</td>\n",
       "      <td>0.020584</td>\n",
       "      <td>0.003636</td>\n",
       "      <td>13.379801</td>\n",
       "      <td>23.515070</td>\n",
       "      <td>87.005938</td>\n",
       "      <td>558.899440</td>\n",
       "      <td>0.124959</td>\n",
       "      <td>0.182673</td>\n",
       "      <td>0.166238</td>\n",
       "      <td>0.074444</td>\n",
       "      <td>0.270246</td>\n",
       "      <td>0.079442</td>\n",
       "    </tr>\n",
       "  </tbody>\n",
       "</table>\n",
       "</div>"
      ],
      "text/plain": [
       "       mean radius  mean texture  mean perimeter   mean area  mean smoothness  \\\n",
       "label                                                                           \n",
       "0        17.462830     21.604906      115.365377  978.376415         0.102898   \n",
       "1        12.146524     17.914762       78.075406  462.790196         0.092478   \n",
       "\n",
       "       mean compactness  mean concavity  mean concave points  mean symmetry  \\\n",
       "label                                                                         \n",
       "0              0.145188        0.160775             0.087990       0.192909   \n",
       "1              0.080085        0.046058             0.025717       0.174186   \n",
       "\n",
       "       mean fractal dimension  radius error  texture error  perimeter error  \\\n",
       "label                                                                         \n",
       "0                    0.062680      0.609083       1.210915         4.323929   \n",
       "1                    0.062867      0.284082       1.220380         2.000321   \n",
       "\n",
       "       area error  smoothness error  compactness error  concavity error  \\\n",
       "label                                                                     \n",
       "0       72.672406          0.006780           0.032281         0.041824   \n",
       "1       21.135148          0.007196           0.021438         0.025997   \n",
       "\n",
       "       concave points error  symmetry error  fractal dimension error  \\\n",
       "label                                                                  \n",
       "0                  0.015060        0.020472                 0.004062   \n",
       "1                  0.009858        0.020584                 0.003636   \n",
       "\n",
       "       worst radius  worst texture  worst perimeter   worst area  \\\n",
       "label                                                              \n",
       "0         21.134811      29.318208       141.370330  1422.286321   \n",
       "1         13.379801      23.515070        87.005938   558.899440   \n",
       "\n",
       "       worst smoothness  worst compactness  worst concavity  \\\n",
       "label                                                         \n",
       "0              0.144845           0.374824         0.450606   \n",
       "1              0.124959           0.182673         0.166238   \n",
       "\n",
       "       worst concave points  worst symmetry  worst fractal dimension  \n",
       "label                                                                 \n",
       "0                  0.182237        0.323468                 0.091530  \n",
       "1                  0.074444        0.270246                 0.079442  "
      ]
     },
     "execution_count": 81,
     "metadata": {},
     "output_type": "execute_result"
    }
   ],
   "source": [
    "df.groupby('label').mean()"
   ]
  },
  {
   "cell_type": "code",
   "execution_count": 82,
   "id": "933434fe",
   "metadata": {},
   "outputs": [],
   "source": [
    "# groupby funcition divides data into categories of the given feature and perform the operation.\n",
    "# we see that the cancerous cell have greater statistical values."
   ]
  },
  {
   "cell_type": "code",
   "execution_count": 84,
   "id": "6296cb11",
   "metadata": {},
   "outputs": [],
   "source": [
    "# separating x and y.\n",
    "x = df.drop(columns='label',axis =1 )\n",
    "y = df['label']"
   ]
  },
  {
   "cell_type": "code",
   "execution_count": 87,
   "id": "94179ec3",
   "metadata": {},
   "outputs": [
    {
     "data": {
      "text/plain": [
       "((569, 30), (569,))"
      ]
     },
     "execution_count": 87,
     "metadata": {},
     "output_type": "execute_result"
    }
   ],
   "source": [
    "x.shape,y.shape"
   ]
  },
  {
   "cell_type": "markdown",
   "id": "daa5fab0",
   "metadata": {},
   "source": [
    "# Train-Test Split"
   ]
  },
  {
   "cell_type": "code",
   "execution_count": 88,
   "id": "8cf431b5",
   "metadata": {},
   "outputs": [],
   "source": [
    "from sklearn.model_selection import train_test_split\n",
    "x_train,x_test,y_train,y_test =train_test_split(x,y,test_size=0.2,random_state=2)"
   ]
  },
  {
   "cell_type": "code",
   "execution_count": 90,
   "id": "6fc707f4",
   "metadata": {},
   "outputs": [
    {
     "data": {
      "text/plain": [
       "((455, 30), (114, 30))"
      ]
     },
     "execution_count": 90,
     "metadata": {},
     "output_type": "execute_result"
    }
   ],
   "source": [
    "x_train.shape,x_test.shape"
   ]
  },
  {
   "cell_type": "markdown",
   "id": "868fc832",
   "metadata": {},
   "source": [
    "# Building the Neural Network"
   ]
  },
  {
   "attachments": {
    "image.png": {
     "image/png": "[encoded data removed]"
    }
   },
   "cell_type": "markdown",
   "id": "d0974f72",
   "metadata": {},
   "source": [
    "![image.png](attachment:image.png)"
   ]
  },
  {
   "cell_type": "code",
   "execution_count": 91,
   "id": "38b305c7",
   "metadata": {},
   "outputs": [],
   "source": [
    "# importing Tensorflow and Keras for neural network"
   ]
  },
  {
   "cell_type": "code",
   "execution_count": 95,
   "id": "6d64634c",
   "metadata": {},
   "outputs": [],
   "source": [
    "# tesorflow and pytorch are the main libraries used in deep learing.\n",
    "# keras is just a wrapper over tensorflow and makes the implementation of tesorflow easy using apis.\n",
    "import tensorflow as tf\n",
    "tf.random.set_seed(3) # on mulitple run accuracy change, so seed fix that to same value.\n",
    "from tensorflow import keras"
   ]
  },
  {
   "cell_type": "markdown",
   "id": "458595bc",
   "metadata": {},
   "source": [
    "# Setting up the layers of Neural Network"
   ]
  },
  {
   "cell_type": "code",
   "execution_count": 132,
   "id": "229128fb",
   "metadata": {},
   "outputs": [],
   "source": [
    "model = keras.Sequential([\n",
    "    keras.layers.Flatten(input_shape=(30,)), # input layer\n",
    "    keras.layers.Dense(20,activation='relu'), # hidden layer\n",
    "    keras.layers.Dense(2,activation='sigmoid') # o/p layer\n",
    "\n",
    "])"
   ]
  },
  {
   "cell_type": "markdown",
   "id": "7fb9e379",
   "metadata": {},
   "source": [
    "1. input layer added\n",
    "2. hidden layers.[as many u want]\n",
    "3. output layer.\n",
    "4. compile the model\n",
    "5. Fit the model"
   ]
  },
  {
   "cell_type": "code",
   "execution_count": 133,
   "id": "8aeb2fc3",
   "metadata": {},
   "outputs": [],
   "source": [
    "# compiling the Neural Network.\n",
    "model.compile(optimizer='adam',\n",
    "             loss='sparse_categorical_crossentropy',\n",
    "             metrics = ['accuracy'])"
   ]
  },
  {
   "cell_type": "code",
   "execution_count": 110,
   "id": "82511af4",
   "metadata": {},
   "outputs": [],
   "source": [
    "# we use categorical_crossentropy when the output is one-hot encoded[0,0,0,1,0]i.e for 5 categories.\n",
    "# for 0/1 we use binary_crossentropy.\n",
    "# sparse_categorical_crossentropy: output label is assigned integer value (0, 1, 2, 3…).\n"
   ]
  },
  {
   "cell_type": "markdown",
   "id": "15808681",
   "metadata": {},
   "source": [
    "# Training the Neural Network"
   ]
  },
  {
   "cell_type": "code",
   "execution_count": 100,
   "id": "212749a3",
   "metadata": {
    "collapsed": true
   },
   "outputs": [
    {
     "name": "stdout",
     "output_type": "stream",
     "text": [
      "Epoch 1/10\n",
      "13/13 [==============================] - 2s 46ms/step - loss: 105.1060 - accuracy: 0.6308 - val_loss: 48.5670 - val_accuracy: 0.6522\n",
      "Epoch 2/10\n",
      "13/13 [==============================] - 0s 10ms/step - loss: 26.4188 - accuracy: 0.4914 - val_loss: 16.9511 - val_accuracy: 0.3478\n",
      "Epoch 3/10\n",
      "13/13 [==============================] - 0s 7ms/step - loss: 15.1238 - accuracy: 0.3619 - val_loss: 4.3505 - val_accuracy: 0.3261\n",
      "Epoch 4/10\n",
      "13/13 [==============================] - 0s 6ms/step - loss: 6.5605 - accuracy: 0.4303 - val_loss: 4.3615 - val_accuracy: 0.3696\n",
      "Epoch 5/10\n",
      "13/13 [==============================] - 0s 6ms/step - loss: 4.9444 - accuracy: 0.3814 - val_loss: 2.0103 - val_accuracy: 0.6087\n",
      "Epoch 6/10\n",
      "13/13 [==============================] - 0s 6ms/step - loss: 2.9837 - accuracy: 0.4817 - val_loss: 1.3813 - val_accuracy: 0.6739\n",
      "Epoch 7/10\n",
      "13/13 [==============================] - 0s 7ms/step - loss: 2.0021 - accuracy: 0.5966 - val_loss: 1.3401 - val_accuracy: 0.6522\n",
      "Epoch 8/10\n",
      "13/13 [==============================] - 0s 6ms/step - loss: 1.4021 - accuracy: 0.6797 - val_loss: 0.8797 - val_accuracy: 0.7391\n",
      "Epoch 9/10\n",
      "13/13 [==============================] - 0s 7ms/step - loss: 1.2296 - accuracy: 0.7066 - val_loss: 0.6372 - val_accuracy: 0.8478\n",
      "Epoch 10/10\n",
      "13/13 [==============================] - 0s 7ms/step - loss: 1.0674 - accuracy: 0.7286 - val_loss: 0.5884 - val_accuracy: 0.7826\n"
     ]
    }
   ],
   "source": [
    "history = model.fit(x_train,y_train,validation_split=0.1,epochs=10)\n",
    "# validation is same as train-test-split: while the model is trained it will test/accuracy on validation data.\n",
    "# epochs = no of times model go through the data."
   ]
  },
  {
   "cell_type": "code",
   "execution_count": 101,
   "id": "da0097b8",
   "metadata": {},
   "outputs": [],
   "source": [
    "# at epoch the loss value is decreasing.\n",
    "# the accuracy is less: the reason is we didn't apply scaling function"
   ]
  },
  {
   "cell_type": "code",
   "execution_count": 102,
   "id": "c0b9b976",
   "metadata": {},
   "outputs": [],
   "source": [
    "# so we need to do scaling before splitting the train,test split.\n",
    "# because we fit model on trained data and transform the test data only.\n"
   ]
  },
  {
   "cell_type": "code",
   "execution_count": 134,
   "id": "ef768bc2",
   "metadata": {},
   "outputs": [],
   "source": [
    "x_train,x_test,y_train,y_test =train_test_split(x,y,test_size=0.2,random_state=2)"
   ]
  },
  {
   "cell_type": "code",
   "execution_count": 135,
   "id": "3699eccd",
   "metadata": {},
   "outputs": [],
   "source": [
    "from sklearn.preprocessing import StandardScaler\n",
    "sc = StandardScaler()\n",
    "x_train_sd= sc.fit_transform(x_train)\n",
    "x_test_sd = sc.transform(x_test)"
   ]
  },
  {
   "cell_type": "code",
   "execution_count": 136,
   "id": "78c89e12",
   "metadata": {
    "collapsed": true
   },
   "outputs": [
    {
     "name": "stdout",
     "output_type": "stream",
     "text": [
      "Epoch 1/20\n",
      "13/13 [==============================] - 2s 153ms/step - loss: 1.0382 - accuracy: 0.2812 - val_loss: 0.7834 - val_accuracy: 0.4348\n",
      "Epoch 2/20\n",
      "13/13 [==============================] - 0s 5ms/step - loss: 0.6614 - accuracy: 0.5868 - val_loss: 0.5126 - val_accuracy: 0.6957\n",
      "Epoch 3/20\n",
      "13/13 [==============================] - 0s 6ms/step - loss: 0.4600 - accuracy: 0.8117 - val_loss: 0.3627 - val_accuracy: 0.8913\n",
      "Epoch 4/20\n",
      "13/13 [==============================] - 0s 7ms/step - loss: 0.3520 - accuracy: 0.9071 - val_loss: 0.2744 - val_accuracy: 0.9565\n",
      "Epoch 5/20\n",
      "13/13 [==============================] - 0s 5ms/step - loss: 0.2838 - accuracy: 0.9364 - val_loss: 0.2211 - val_accuracy: 0.9783\n",
      "Epoch 6/20\n",
      "13/13 [==============================] - 0s 6ms/step - loss: 0.2405 - accuracy: 0.9413 - val_loss: 0.1861 - val_accuracy: 0.9783\n",
      "Epoch 7/20\n",
      "13/13 [==============================] - 0s 5ms/step - loss: 0.2098 - accuracy: 0.9413 - val_loss: 0.1629 - val_accuracy: 0.9783\n",
      "Epoch 8/20\n",
      "13/13 [==============================] - 0s 5ms/step - loss: 0.1871 - accuracy: 0.9413 - val_loss: 0.1466 - val_accuracy: 0.9783\n",
      "Epoch 9/20\n",
      "13/13 [==============================] - 0s 5ms/step - loss: 0.1704 - accuracy: 0.9462 - val_loss: 0.1335 - val_accuracy: 0.9783\n",
      "Epoch 10/20\n",
      "13/13 [==============================] - 0s 5ms/step - loss: 0.1561 - accuracy: 0.9511 - val_loss: 0.1236 - val_accuracy: 0.9783\n",
      "Epoch 11/20\n",
      "13/13 [==============================] - 0s 5ms/step - loss: 0.1450 - accuracy: 0.9609 - val_loss: 0.1156 - val_accuracy: 0.9783\n",
      "Epoch 12/20\n",
      "13/13 [==============================] - 0s 5ms/step - loss: 0.1349 - accuracy: 0.9633 - val_loss: 0.1086 - val_accuracy: 0.9783\n",
      "Epoch 13/20\n",
      "13/13 [==============================] - 0s 5ms/step - loss: 0.1264 - accuracy: 0.9658 - val_loss: 0.1032 - val_accuracy: 0.9783\n",
      "Epoch 14/20\n",
      "13/13 [==============================] - 0s 5ms/step - loss: 0.1193 - accuracy: 0.9682 - val_loss: 0.0985 - val_accuracy: 0.9783\n",
      "Epoch 15/20\n",
      "13/13 [==============================] - 0s 5ms/step - loss: 0.1130 - accuracy: 0.9731 - val_loss: 0.0943 - val_accuracy: 0.9783\n",
      "Epoch 16/20\n",
      "13/13 [==============================] - 0s 5ms/step - loss: 0.1074 - accuracy: 0.9756 - val_loss: 0.0913 - val_accuracy: 0.9783\n",
      "Epoch 17/20\n",
      "13/13 [==============================] - 0s 5ms/step - loss: 0.1026 - accuracy: 0.9756 - val_loss: 0.0883 - val_accuracy: 0.9783\n",
      "Epoch 18/20\n",
      "13/13 [==============================] - 0s 5ms/step - loss: 0.0982 - accuracy: 0.9780 - val_loss: 0.0857 - val_accuracy: 0.9783\n",
      "Epoch 19/20\n",
      "13/13 [==============================] - 0s 5ms/step - loss: 0.0946 - accuracy: 0.9780 - val_loss: 0.0829 - val_accuracy: 0.9783\n",
      "Epoch 20/20\n",
      "13/13 [==============================] - 0s 5ms/step - loss: 0.0910 - accuracy: 0.9780 - val_loss: 0.0814 - val_accuracy: 0.9565\n"
     ]
    }
   ],
   "source": [
    "history = model.fit(x_train_sd,y_train,validation_split=0.1,epochs=20)\n",
    "# validation is same as train-test-split: while the model is trained it will test/accuracy on validation data.\n",
    "# epochs = no of times model go through the data."
   ]
  },
  {
   "cell_type": "code",
   "execution_count": 137,
   "id": "df57641b",
   "metadata": {},
   "outputs": [],
   "source": [
    "# we see that the accuracy drastically increased to 96% from 76%.\n",
    "# we can increase the layers, increase the epochs, change the loss function,\n",
    "# change the activation function to achieve the optimal value.\n",
    "# also we should ensur that its not  overfitting."
   ]
  },
  {
   "cell_type": "code",
   "execution_count": 138,
   "id": "4e3fb0fb",
   "metadata": {},
   "outputs": [
    {
     "data": {
      "text/plain": [
       "<matplotlib.legend.Legend at 0x1c0f4e85de0>"
      ]
     },
     "execution_count": 138,
     "metadata": {},
     "output_type": "execute_result"
    },
    {
     "data": {
      "image/png": "[encoded data removed]",
      "text/plain": [
       "<Figure size 432x288 with 1 Axes>"
      ]
     },
     "metadata": {
      "needs_background": "light"
     },
     "output_type": "display_data"
    }
   ],
   "source": [
    "# visualizing the accuracy and val_accuracy of history.\n",
    "plt.plot(history.history['accuracy'])\n",
    "plt.plot(history.history['val_accuracy'])\n",
    "plt.title('model accuracy')\n",
    "plt.ylabel('accuracy')\n",
    "plt.xlabel('epochs')\n",
    "plt.legend(['train data','val data'],loc='lower right')"
   ]
  },
  {
   "cell_type": "code",
   "execution_count": 139,
   "id": "631f69da",
   "metadata": {},
   "outputs": [],
   "source": [
    "# for all the epochs the data is plotted for both the accuracy and val_accuracy"
   ]
  },
  {
   "cell_type": "code",
   "execution_count": 142,
   "id": "49f9ab23",
   "metadata": {},
   "outputs": [
    {
     "data": {
      "text/plain": [
       "<matplotlib.legend.Legend at 0x1c0f4aa3a90>"
      ]
     },
     "execution_count": 142,
     "metadata": {},
     "output_type": "execute_result"
    },
    {
     "data": {
      "image/png": "[encoded data removed]",
      "text/plain": [
       "<Figure size 432x288 with 1 Axes>"
      ]
     },
     "metadata": {
      "needs_background": "light"
     },
     "output_type": "display_data"
    }
   ],
   "source": [
    "# visualizing the loss and val_loss of history.\n",
    "plt.plot(history.history['loss'])\n",
    "plt.plot(history.history['val_loss'])\n",
    "plt.title('model loss')\n",
    "plt.ylabel('loss')\n",
    "plt.xlabel('epochs')\n",
    "plt.legend(['train data','val data'],loc='upper right')"
   ]
  },
  {
   "cell_type": "code",
   "execution_count": 143,
   "id": "4d03aac4",
   "metadata": {},
   "outputs": [],
   "source": [
    "# loss is decreasing for validation and training data."
   ]
  },
  {
   "cell_type": "markdown",
   "id": "7022b31b",
   "metadata": {},
   "source": [
    "# Working on Test Data"
   ]
  },
  {
   "cell_type": "code",
   "execution_count": 145,
   "id": "147825e6",
   "metadata": {},
   "outputs": [
    {
     "name": "stdout",
     "output_type": "stream",
     "text": [
      "4/4 [==============================] - 0s 6ms/step - loss: 0.0906 - accuracy: 0.9649\n"
     ]
    }
   ],
   "source": [
    "#accuracy of the model on test data\n",
    "loss,accuracy = model.evaluate(x_test_sd,y_test)"
   ]
  },
  {
   "cell_type": "code",
   "execution_count": 146,
   "id": "3e8f5b37",
   "metadata": {},
   "outputs": [
    {
     "name": "stdout",
     "output_type": "stream",
     "text": [
      "4/4 [==============================] - 1s 3ms/step\n"
     ]
    }
   ],
   "source": [
    "# predicting the x_test_sd\n",
    "y_pred=model.predict(x_test_sd)"
   ]
  },
  {
   "cell_type": "code",
   "execution_count": 148,
   "id": "5d33933d",
   "metadata": {},
   "outputs": [
    {
     "data": {
      "text/plain": [
       "array([0.08821177, 0.6881807 ], dtype=float32)"
      ]
     },
     "execution_count": 148,
     "metadata": {},
     "output_type": "execute_result"
    }
   ],
   "source": [
    "y_pred[0]"
   ]
  },
  {
   "cell_type": "code",
   "execution_count": 149,
   "id": "dee56081",
   "metadata": {},
   "outputs": [],
   "source": [
    "# y_pred is not 0/1: rather it is calculating the probability of 0 and 1 class"
   ]
  },
  {
   "cell_type": "code",
   "execution_count": 150,
   "id": "ab932402",
   "metadata": {},
   "outputs": [],
   "source": [
    "# so we need to convert these probability to 0 or 1 based on 0.5 probability."
   ]
  },
  {
   "cell_type": "markdown",
   "id": "da12348e",
   "metadata": {},
   "source": [
    "# argmax function"
   ]
  },
  {
   "cell_type": "code",
   "execution_count": 152,
   "id": "a2a2ff2c",
   "metadata": {},
   "outputs": [
    {
     "name": "stdout",
     "output_type": "stream",
     "text": [
      "[0.24, 0.54]\n",
      "1\n"
     ]
    }
   ],
   "source": [
    "# argmax function.\n",
    "my_list = [0.24,0.54]\n",
    "index = np.argmax(my_list)\n",
    "print(my_list)\n",
    "print(index)"
   ]
  },
  {
   "cell_type": "code",
   "execution_count": 154,
   "id": "521212b1",
   "metadata": {},
   "outputs": [
    {
     "name": "stdout",
     "output_type": "stream",
     "text": [
      "[1, 1, 1, 0, 1, 0, 1, 1, 1, 1, 0, 1, 1, 1, 1, 0, 1, 1, 1, 0, 1, 1, 1, 1, 1, 0, 1, 1, 0, 0, 1, 1, 1, 0, 0, 1, 1, 1, 1, 1, 0, 0, 1, 1, 0, 1, 1, 1, 0, 0, 1, 0, 1, 1, 1, 1, 1, 1, 0, 1, 1, 0, 1, 0, 0, 1, 0, 0, 1, 0, 0, 0, 1, 0, 1, 0, 1, 1, 1, 0, 0, 0, 0, 1, 1, 0, 1, 1, 1, 0, 1, 1, 1, 0, 0, 1, 0, 0, 1, 1, 1, 0, 0, 0, 1, 1, 1, 1, 1, 1, 0, 0, 1, 0]\n"
     ]
    }
   ],
   "source": [
    "# similarly we convert the prediction probability to class labels.\n",
    "y_pred_labels=[np.argmax(i) for i in y_pred]\n",
    "print(y_pred_labels)"
   ]
  },
  {
   "cell_type": "markdown",
   "id": "99605728",
   "metadata": {},
   "source": [
    "# Builiding the Predictive System"
   ]
  },
  {
   "cell_type": "code",
   "execution_count": 157,
   "id": "1d828188",
   "metadata": {},
   "outputs": [
    {
     "data": {
      "text/plain": [
       "(114, 30)"
      ]
     },
     "execution_count": 157,
     "metadata": {},
     "output_type": "execute_result"
    }
   ],
   "source": [
    "x_test_sd.shape"
   ]
  },
  {
   "cell_type": "code",
   "execution_count": 158,
   "id": "fc10693f",
   "metadata": {},
   "outputs": [
    {
     "data": {
      "text/plain": [
       "array([-0.04462793, -1.41612656, -0.05903514, -0.16234067,  2.0202457 ,\n",
       "       -0.11323672,  0.18500609,  0.47102419,  0.63336386,  0.26335737,\n",
       "        0.53209124,  2.62763999,  0.62351167,  0.11405261,  1.01246781,\n",
       "        0.41126289,  0.63848593,  2.88971815, -0.41675911,  0.74270853,\n",
       "       -0.32983699, -1.67435595, -0.36854552, -0.38767294,  0.32655007,\n",
       "       -0.74858917, -0.54689089, -0.18278004, -1.23064515, -0.6268286 ])"
      ]
     },
     "execution_count": 158,
     "metadata": {},
     "output_type": "execute_result"
    }
   ],
   "source": [
    "x_test_sd[0]"
   ]
  },
  {
   "cell_type": "markdown",
   "id": "74731d54",
   "metadata": {},
   "source": [
    "# For New input Data"
   ]
  },
  {
   "cell_type": "code",
   "execution_count": 169,
   "id": "643d9497",
   "metadata": {},
   "outputs": [
    {
     "name": "stdout",
     "output_type": "stream",
     "text": [
      "1/1 [==============================] - 0s 47ms/step\n",
      "[[0.1135196 0.9848009]]\n"
     ]
    },
    {
     "name": "stderr",
     "output_type": "stream",
     "text": [
      "C:\\Users\\HP\\AppData\\Local\\Programs\\Python\\Python310\\lib\\site-packages\\sklearn\\base.py:450: UserWarning: X does not have valid feature names, but StandardScaler was fitted with feature names\n",
      "  warnings.warn(\n"
     ]
    }
   ],
   "source": [
    "input_data = (12.03,17.93,76.09,446.0,0.07683,0.03892,0.001546,0.005592,0.1382,0.06070,0.2335,0.9097,1.466,16.97,0.004729,0.006887,0.001184,0.003951,0.01466,0.001755,13.07,22.25,82.74,523.4,0.10130,0.0739,0.007732,0.02796,0.2171,0.07037)\n",
    "# changing the input data to a numpy array.\n",
    "input_data = np.asarray(input_data) \n",
    "\n",
    "#reshaping the numpy array as we are predicting for only 1 data point.\n",
    "input_reshaped=input_data.reshape(1,-1)\n",
    "\n",
    "#standarizing the input data\n",
    "input_std = sc.transform(input_reshaped)\n",
    "\n",
    "#prediction\n",
    "prediction = model.predict(input_std)\n",
    "print(prediction)"
   ]
  },
  {
   "cell_type": "code",
   "execution_count": 175,
   "id": "4e8eb667",
   "metadata": {},
   "outputs": [
    {
     "name": "stdout",
     "output_type": "stream",
     "text": [
      "[1]\n"
     ]
    }
   ],
   "source": [
    "# labels for the prediction\n",
    "prediction_label = [np.argmax(prediction)]\n",
    "print(prediction_label)"
   ]
  },
  {
   "cell_type": "code",
   "execution_count": 173,
   "id": "212b8bd7",
   "metadata": {},
   "outputs": [
    {
     "name": "stdout",
     "output_type": "stream",
     "text": [
      "Safe\n"
     ]
    }
   ],
   "source": [
    "if(prediction_label[0]==0):\n",
    "    print('Tumor Malignant')\n",
    "else:\n",
    "    print('Safe')"
   ]
  },
  {
   "cell_type": "code",
   "execution_count": null,
   "id": "049b9e81",
   "metadata": {},
   "outputs": [],
   "source": []
  }
 ],
 "metadata": {
  "kernelspec": {
   "display_name": "Python 3 (ipykernel)",
   "language": "python",
   "name": "python3"
  },
  "language_info": {
   "codemirror_mode": {
    "name": "ipython",
    "version": 3
   },
   "file_extension": ".py",
   "mimetype": "text/x-python",
   "name": "python",
   "nbconvert_exporter": "python",
   "pygments_lexer": "ipython3",
   "version": "3.10.5"
  }
 },
 "nbformat": 4,
 "nbformat_minor": 5
}
