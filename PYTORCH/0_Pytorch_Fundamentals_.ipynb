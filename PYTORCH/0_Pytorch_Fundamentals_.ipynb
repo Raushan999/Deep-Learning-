{
  "nbformat": 4,
  "nbformat_minor": 0,
  "metadata": {
    "colab": {
      "provenance": [],
      "gpuType": "T4"
    },
    "kernelspec": {
      "name": "python3",
      "display_name": "Python 3"
    },
    "language_info": {
      "name": "python"
    },
    "accelerator": "GPU"
  },
  "cells": [
    {
      "cell_type": "markdown",
      "source": [
        "## **Fundamentals of PyTorch**"
      ],
      "metadata": {
        "id": "t6rj8d__w_Q5"
      }
    },
    {
      "cell_type": "code",
      "execution_count": null,
      "metadata": {
        "id": "3u8oie0Bv9rk"
      },
      "outputs": [],
      "source": []
    },
    {
      "cell_type": "markdown",
      "source": [
        "Resources: https://www.learnpytorch.io/00_pytorch_fundamentals/"
      ],
      "metadata": {
        "id": "XANxDtHMxRPZ"
      }
    },
    {
      "cell_type": "code",
      "source": [
        "import torch\n",
        "print(torch.__version__)"
      ],
      "metadata": {
        "colab": {
          "base_uri": "https://localhost:8080/"
        },
        "id": "oo0NPfzfxQtD",
        "outputId": "cf19e737-529f-4e88-a1b3-82c9599c48dc"
      },
      "execution_count": null,
      "outputs": [
        {
          "output_type": "stream",
          "name": "stdout",
          "text": [
            "2.0.1+cu118\n"
          ]
        }
      ]
    },
    {
      "cell_type": "markdown",
      "source": [
        "# Introduction to Tensors"
      ],
      "metadata": {
        "id": "HfGRLkQOxrQ7"
      }
    },
    {
      "cell_type": "markdown",
      "source": [
        "Scalar"
      ],
      "metadata": {
        "id": "A871nWAgzPTK"
      }
    },
    {
      "cell_type": "code",
      "source": [
        "# scalar\n",
        "scalar = torch.tensor(18)\n",
        "scalar"
      ],
      "metadata": {
        "colab": {
          "base_uri": "https://localhost:8080/"
        },
        "id": "_lkZ9vqpxt6i",
        "outputId": "66427dda-e203-4399-babf-efc1728af621"
      },
      "execution_count": null,
      "outputs": [
        {
          "output_type": "execute_result",
          "data": {
            "text/plain": [
              "tensor(18)"
            ]
          },
          "metadata": {},
          "execution_count": 5
        }
      ]
    },
    {
      "cell_type": "markdown",
      "source": [
        "Pytorch tensors are created using `torch.Tensor()`"
      ],
      "metadata": {
        "id": "hiGbyViqyy9_"
      }
    },
    {
      "cell_type": "code",
      "source": [
        "# checking the dimenison of scalar = 0 [ number of square bracket ]\n",
        "print(scalar.shape)\n",
        "print(scalar.ndim)"
      ],
      "metadata": {
        "colab": {
          "base_uri": "https://localhost:8080/"
        },
        "id": "NHzCqfQsx5SL",
        "outputId": "099cf7b4-248e-41ec-ea23-0b969c35c375"
      },
      "execution_count": null,
      "outputs": [
        {
          "output_type": "stream",
          "name": "stdout",
          "text": [
            "torch.Size([])\n",
            "0\n"
          ]
        }
      ]
    },
    {
      "cell_type": "code",
      "source": [
        "# get back the scalar from the tensor\n",
        "scalar.item()"
      ],
      "metadata": {
        "colab": {
          "base_uri": "https://localhost:8080/"
        },
        "id": "ZyD4Noujx5vp",
        "outputId": "f26c0a39-f051-4483-f6cb-1516775a3983"
      },
      "execution_count": null,
      "outputs": [
        {
          "output_type": "execute_result",
          "data": {
            "text/plain": [
              "18"
            ]
          },
          "metadata": {},
          "execution_count": 9
        }
      ]
    },
    {
      "cell_type": "markdown",
      "source": [
        "Vector"
      ],
      "metadata": {
        "id": "JsLW6JHNzRnL"
      }
    },
    {
      "cell_type": "code",
      "source": [
        "vector = torch.tensor([3,3,2,2])\n",
        "vector"
      ],
      "metadata": {
        "colab": {
          "base_uri": "https://localhost:8080/"
        },
        "id": "QPi0vgcKx6n8",
        "outputId": "3e7cf31f-ca8d-4411-a556-3196f0f0ae18"
      },
      "execution_count": null,
      "outputs": [
        {
          "output_type": "execute_result",
          "data": {
            "text/plain": [
              "tensor([3, 3, 2, 2])"
            ]
          },
          "metadata": {},
          "execution_count": 13
        }
      ]
    },
    {
      "cell_type": "code",
      "source": [
        "# dimension of vector = 1 (number of square bracket)\n",
        "vector.ndim"
      ],
      "metadata": {
        "colab": {
          "base_uri": "https://localhost:8080/"
        },
        "id": "__vIKmOdzci_",
        "outputId": "88fd3e94-ad26-4829-bbac-156011118f81"
      },
      "execution_count": null,
      "outputs": [
        {
          "output_type": "execute_result",
          "data": {
            "text/plain": [
              "1"
            ]
          },
          "metadata": {},
          "execution_count": 14
        }
      ]
    },
    {
      "cell_type": "code",
      "source": [
        "vector.shape # elements in a vector."
      ],
      "metadata": {
        "colab": {
          "base_uri": "https://localhost:8080/"
        },
        "id": "aLe5sMmyzqHM",
        "outputId": "fe210c32-197c-4e1b-eedb-3c0a587208fc"
      },
      "execution_count": null,
      "outputs": [
        {
          "output_type": "execute_result",
          "data": {
            "text/plain": [
              "torch.Size([4])"
            ]
          },
          "metadata": {},
          "execution_count": 15
        }
      ]
    },
    {
      "cell_type": "markdown",
      "source": [
        "MATRIX"
      ],
      "metadata": {
        "id": "DnvaMPZqz3EH"
      }
    },
    {
      "cell_type": "code",
      "source": [
        "MATRIX = torch.tensor([[2,3,2,2],[3,2,3,1],[2,4,2,1]])\n",
        "MATRIX"
      ],
      "metadata": {
        "colab": {
          "base_uri": "https://localhost:8080/"
        },
        "id": "eThzGU0Tzu6S",
        "outputId": "0aea5027-2e60-4489-d0b4-04ba2b8cce69"
      },
      "execution_count": null,
      "outputs": [
        {
          "output_type": "execute_result",
          "data": {
            "text/plain": [
              "tensor([[2, 3, 2, 2],\n",
              "        [3, 2, 3, 1],\n",
              "        [2, 4, 2, 1]])"
            ]
          },
          "metadata": {},
          "execution_count": 16
        }
      ]
    },
    {
      "cell_type": "code",
      "source": [
        "MATRIX.ndim\n",
        "# number of square brackets"
      ],
      "metadata": {
        "colab": {
          "base_uri": "https://localhost:8080/"
        },
        "id": "CNr6GvUw0HsX",
        "outputId": "0493d3ef-8904-4e88-80f8-7a0e77074043"
      },
      "execution_count": null,
      "outputs": [
        {
          "output_type": "execute_result",
          "data": {
            "text/plain": [
              "2"
            ]
          },
          "metadata": {},
          "execution_count": 18
        }
      ]
    },
    {
      "cell_type": "code",
      "source": [
        "MATRIX.shape"
      ],
      "metadata": {
        "colab": {
          "base_uri": "https://localhost:8080/"
        },
        "id": "jltLePr70Knt",
        "outputId": "fae239ce-8304-4d2e-9d7e-d2a0c3ea16f0"
      },
      "execution_count": null,
      "outputs": [
        {
          "output_type": "execute_result",
          "data": {
            "text/plain": [
              "torch.Size([3, 4])"
            ]
          },
          "metadata": {},
          "execution_count": 19
        }
      ]
    },
    {
      "cell_type": "code",
      "source": [
        "MATRIX[0][0].item()"
      ],
      "metadata": {
        "colab": {
          "base_uri": "https://localhost:8080/"
        },
        "id": "zvysK9po0Sls",
        "outputId": "1a649f00-658e-421f-9518-85e1b5b4015e"
      },
      "execution_count": null,
      "outputs": [
        {
          "output_type": "execute_result",
          "data": {
            "text/plain": [
              "2"
            ]
          },
          "metadata": {},
          "execution_count": 22
        }
      ]
    },
    {
      "cell_type": "markdown",
      "source": [
        "TENSOR"
      ],
      "metadata": {
        "id": "m4XBx-cW1jAG"
      }
    },
    {
      "cell_type": "code",
      "source": [
        "TENSOR = torch.tensor([[[2,4,2],[1,2,1],[1,31,1]]])\n",
        "TENSOR"
      ],
      "metadata": {
        "colab": {
          "base_uri": "https://localhost:8080/"
        },
        "id": "67ajOnLQ0WID",
        "outputId": "56465c49-871b-4771-96fc-67bdb1e51c72"
      },
      "execution_count": null,
      "outputs": [
        {
          "output_type": "execute_result",
          "data": {
            "text/plain": [
              "tensor([[[ 2,  4,  2],\n",
              "         [ 1,  2,  1],\n",
              "         [ 1, 31,  1]]])"
            ]
          },
          "metadata": {},
          "execution_count": 35
        }
      ]
    },
    {
      "cell_type": "code",
      "source": [
        "print(TENSOR.ndim)\n",
        "print(TENSOR.shape)"
      ],
      "metadata": {
        "colab": {
          "base_uri": "https://localhost:8080/"
        },
        "id": "uyIDjTna1sOl",
        "outputId": "c9e3ea87-455c-4270-8782-85ba80c34f73"
      },
      "execution_count": null,
      "outputs": [
        {
          "output_type": "stream",
          "name": "stdout",
          "text": [
            "3\n",
            "torch.Size([1, 3, 3])\n"
          ]
        }
      ]
    },
    {
      "cell_type": "code",
      "source": [
        " # shape is 1*3*3 --> One 3*3 matrix [ 3 square brackets.]"
      ],
      "metadata": {
        "id": "1JaU37G71uYh"
      },
      "execution_count": null,
      "outputs": []
    },
    {
      "cell_type": "code",
      "source": [
        "TENSOR2 = torch.tensor([[[2,4,2],[1,2,1],[1,31,1]],\n",
        "                        [[2,4,2],[1,2,1],[1,31,1]]])\n",
        "TENSOR2"
      ],
      "metadata": {
        "colab": {
          "base_uri": "https://localhost:8080/"
        },
        "id": "YxiTKSZ216Jz",
        "outputId": "3d6b2d8a-4e90-4f33-a050-8ff140a29095"
      },
      "execution_count": null,
      "outputs": [
        {
          "output_type": "execute_result",
          "data": {
            "text/plain": [
              "tensor([[[ 2,  4,  2],\n",
              "         [ 1,  2,  1],\n",
              "         [ 1, 31,  1]],\n",
              "\n",
              "        [[ 2,  4,  2],\n",
              "         [ 1,  2,  1],\n",
              "         [ 1, 31,  1]]])"
            ]
          },
          "metadata": {},
          "execution_count": 33
        }
      ]
    },
    {
      "cell_type": "code",
      "source": [
        "TENSOR2.shape\n",
        "# Two 3*3 matrix."
      ],
      "metadata": {
        "colab": {
          "base_uri": "https://localhost:8080/"
        },
        "id": "U2WQgPPN2DZ7",
        "outputId": "b1ed956a-7ba7-4879-9657-9159e7dada6e"
      },
      "execution_count": null,
      "outputs": [
        {
          "output_type": "execute_result",
          "data": {
            "text/plain": [
              "torch.Size([2, 3, 3])"
            ]
          },
          "metadata": {},
          "execution_count": 34
        }
      ]
    },
    {
      "cell_type": "code",
      "source": [],
      "metadata": {
        "id": "6JHAXuG72F1v"
      },
      "execution_count": null,
      "outputs": []
    },
    {
      "cell_type": "markdown",
      "source": [
        "### Random tensors"
      ],
      "metadata": {
        "id": "UGyRqakG2tJo"
      }
    },
    {
      "cell_type": "markdown",
      "source": [
        "Why Random Tensors?\n",
        "Random tensors are important because the way the Neural Network learn is that they start with tensors full of random numbers and then adjust them to better represent the data"
      ],
      "metadata": {
        "id": "OJHWv0BF233G"
      }
    },
    {
      "cell_type": "code",
      "source": [
        "# create a random tensor size( 3*2)\n",
        "rand_tens = torch.rand(3,2)\n",
        "rand_tens"
      ],
      "metadata": {
        "colab": {
          "base_uri": "https://localhost:8080/"
        },
        "id": "FcM8lOC52m7A",
        "outputId": "b52c20ad-31a5-4411-9396-e132f1f5257d"
      },
      "execution_count": null,
      "outputs": [
        {
          "output_type": "execute_result",
          "data": {
            "text/plain": [
              "tensor([[0.7596, 0.9454],\n",
              "        [0.9966, 0.8929],\n",
              "        [0.7324, 0.7488]])"
            ]
          },
          "metadata": {},
          "execution_count": 42
        }
      ]
    },
    {
      "cell_type": "code",
      "source": [
        "rand_tens.ndim\n",
        "# = 2 [[2 square brackets ]]"
      ],
      "metadata": {
        "colab": {
          "base_uri": "https://localhost:8080/"
        },
        "id": "BKfPJ1ht3Rqd",
        "outputId": "11ee9fed-14c8-42b7-d8c9-1a6ca7098da1"
      },
      "execution_count": null,
      "outputs": [
        {
          "output_type": "execute_result",
          "data": {
            "text/plain": [
              "2"
            ]
          },
          "metadata": {},
          "execution_count": 43
        }
      ]
    },
    {
      "cell_type": "code",
      "source": [
        "rand_tens = torch.rand(2,2,4)\n",
        "rand_tens\n",
        "# one 2*4 matrix"
      ],
      "metadata": {
        "colab": {
          "base_uri": "https://localhost:8080/"
        },
        "id": "RM5NWVna3WMO",
        "outputId": "d7bbb3ce-84cd-4781-fa7b-2ab448322ac1"
      },
      "execution_count": null,
      "outputs": [
        {
          "output_type": "execute_result",
          "data": {
            "text/plain": [
              "tensor([[[0.9600, 0.6095, 0.4068, 0.8055],\n",
              "         [0.4641, 0.8179, 0.6979, 0.4893]],\n",
              "\n",
              "        [[0.2973, 0.2920, 0.0016, 0.0011],\n",
              "         [0.5666, 0.5275, 0.6513, 0.2440]]])"
            ]
          },
          "metadata": {},
          "execution_count": 46
        }
      ]
    },
    {
      "cell_type": "code",
      "source": [
        "rand_tens.ndim"
      ],
      "metadata": {
        "colab": {
          "base_uri": "https://localhost:8080/"
        },
        "id": "Ay5wN1dR3nKU",
        "outputId": "632d666e-bb03-4539-b69d-4dd414ff8161"
      },
      "execution_count": null,
      "outputs": [
        {
          "output_type": "execute_result",
          "data": {
            "text/plain": [
              "3"
            ]
          },
          "metadata": {},
          "execution_count": 47
        }
      ]
    },
    {
      "cell_type": "markdown",
      "source": [],
      "metadata": {
        "id": "66qoEEXD4bw6"
      }
    },
    {
      "cell_type": "code",
      "source": [
        "# Create a random tensor with similar shape to an image tensor\n",
        "rand_img_tens = torch.rand(size=(3,224,224)) # color(RGB),height,width\n",
        "rand_img_tens.shape, rand_img_tens.ndim"
      ],
      "metadata": {
        "colab": {
          "base_uri": "https://localhost:8080/"
        },
        "id": "pe-GXpd13ogM",
        "outputId": "aeded85a-562b-45c2-b300-200e1750fd40"
      },
      "execution_count": null,
      "outputs": [
        {
          "output_type": "execute_result",
          "data": {
            "text/plain": [
              "(torch.Size([3, 224, 224]), 3)"
            ]
          },
          "metadata": {},
          "execution_count": 48
        }
      ]
    },
    {
      "cell_type": "markdown",
      "source": [
        "## Creating random tensors with ```1's``` and ```0's```"
      ],
      "metadata": {
        "id": "KiqagRlp4yub"
      }
    },
    {
      "cell_type": "code",
      "source": [
        "# all zeros\n",
        "zeros = torch.zeros(size=(2,3))\n",
        "zeros"
      ],
      "metadata": {
        "colab": {
          "base_uri": "https://localhost:8080/"
        },
        "id": "KmOLhlO35Yw5",
        "outputId": "6503b1ae-2316-474e-ad98-361072599022"
      },
      "execution_count": null,
      "outputs": [
        {
          "output_type": "execute_result",
          "data": {
            "text/plain": [
              "tensor([[0., 0., 0.],\n",
              "        [0., 0., 0.]])"
            ]
          },
          "metadata": {},
          "execution_count": 52
        }
      ]
    },
    {
      "cell_type": "code",
      "source": [
        " # all ones.\n",
        " ones = torch.ones(size=(3,2))\n",
        " ones"
      ],
      "metadata": {
        "colab": {
          "base_uri": "https://localhost:8080/"
        },
        "id": "KtXgEKtF5e38",
        "outputId": "3bff3501-ba26-4c12-fc00-f5017f13f990"
      },
      "execution_count": null,
      "outputs": [
        {
          "output_type": "execute_result",
          "data": {
            "text/plain": [
              "tensor([[1., 1.],\n",
              "        [1., 1.],\n",
              "        [1., 1.]])"
            ]
          },
          "metadata": {},
          "execution_count": 54
        }
      ]
    },
    {
      "cell_type": "code",
      "source": [
        "ones.dtype # DATA type"
      ],
      "metadata": {
        "colab": {
          "base_uri": "https://localhost:8080/"
        },
        "id": "1EctTj8h5q4W",
        "outputId": "472989e5-109c-4b62-af5c-a63a84f5a1da"
      },
      "execution_count": null,
      "outputs": [
        {
          "output_type": "execute_result",
          "data": {
            "text/plain": [
              "torch.float32"
            ]
          },
          "metadata": {},
          "execution_count": 55
        }
      ]
    },
    {
      "cell_type": "markdown",
      "source": [
        "## Creating a range of tensors and tensors-like"
      ],
      "metadata": {
        "id": "yqGdzM686AaJ"
      }
    },
    {
      "cell_type": "code",
      "source": [
        "# torch.arange(start = 0, end = 100, step = 10)\n",
        "# or simply ~~~ torch.arange(3,2)\n",
        "one_to_N = torch.arange(start = 1, end = 15, step = 2)\n",
        "one_to_N"
      ],
      "metadata": {
        "colab": {
          "base_uri": "https://localhost:8080/"
        },
        "id": "1AvbtSrW50cQ",
        "outputId": "e54a4115-3636-4de5-e0ce-a2be8f875259"
      },
      "execution_count": null,
      "outputs": [
        {
          "output_type": "execute_result",
          "data": {
            "text/plain": [
              "tensor([ 1,  3,  5,  7,  9, 11, 13])"
            ]
          },
          "metadata": {},
          "execution_count": 70
        }
      ]
    },
    {
      "cell_type": "code",
      "source": [
        "# creating tensors-like (  in same shape )\n",
        "like_one_to_N = torch.zeros_like(input = one_to_N)\n",
        "like_one_to_N"
      ],
      "metadata": {
        "colab": {
          "base_uri": "https://localhost:8080/"
        },
        "id": "ptwiFVuo5_WE",
        "outputId": "3fcd68bf-97c4-4a4f-8772-07e49f3e2f05"
      },
      "execution_count": null,
      "outputs": [
        {
          "output_type": "execute_result",
          "data": {
            "text/plain": [
              "tensor([0, 0, 0, 0, 0, 0, 0])"
            ]
          },
          "metadata": {},
          "execution_count": 71
        }
      ]
    },
    {
      "cell_type": "markdown",
      "source": [
        "### Tensor Datatypes"
      ],
      "metadata": {
        "id": "-XrGGJO-71Nr"
      }
    },
    {
      "cell_type": "code",
      "source": [
        "# float 32 tensor\n",
        "float_32_tens = torch.tensor([3.2,4.0,2.],dtype = None)\n",
        "float_32_tens"
      ],
      "metadata": {
        "colab": {
          "base_uri": "https://localhost:8080/"
        },
        "id": "CNieU5QB59sd",
        "outputId": "36c29c21-2e6b-412d-fa49-9af91cd8181f"
      },
      "execution_count": null,
      "outputs": [
        {
          "output_type": "execute_result",
          "data": {
            "text/plain": [
              "tensor([3.2000, 4.0000, 2.0000])"
            ]
          },
          "metadata": {},
          "execution_count": 72
        }
      ]
    },
    {
      "cell_type": "code",
      "source": [
        "float_32_tens.dtype # default data type is float 32"
      ],
      "metadata": {
        "colab": {
          "base_uri": "https://localhost:8080/"
        },
        "id": "SBcAordk8Ezt",
        "outputId": "9f6ebacd-001d-4845-e326-f4d199d2d57a"
      },
      "execution_count": null,
      "outputs": [
        {
          "output_type": "execute_result",
          "data": {
            "text/plain": [
              "torch.float32"
            ]
          },
          "metadata": {},
          "execution_count": 73
        }
      ]
    },
    {
      "cell_type": "code",
      "source": [
        "float_32_tens = torch.tensor([3.2,4.0,2.],\n",
        "                             dtype = None,\n",
        "                             device = \"cpu\",\n",
        "                             requires_grad= False)\n",
        "float_32_tens\n",
        "# dtype = float32,float64,float16 or float.half\n",
        "# device: if we want to run on a specific device\n",
        "# grad_ : if need to track the gradient to do some computations."
      ],
      "metadata": {
        "colab": {
          "base_uri": "https://localhost:8080/"
        },
        "id": "-ZlOkHSp8IJ-",
        "outputId": "4b032f67-bd94-4104-80b4-4218c2d89516"
      },
      "execution_count": null,
      "outputs": [
        {
          "output_type": "execute_result",
          "data": {
            "text/plain": [
              "tensor([3.2000, 4.0000, 2.0000])"
            ]
          },
          "metadata": {},
          "execution_count": 79
        }
      ]
    },
    {
      "cell_type": "markdown",
      "source": [
        "So 32-bit is normal precision, 16-bit is half precision, and if we need more higher precision 64-bit (double the precision)"
      ],
      "metadata": {
        "id": "AXRF2iE3807w"
      }
    },
    {
      "cell_type": "code",
      "source": [
        "# Common mistakes in Pytorch and deep learning"
      ],
      "metadata": {
        "id": "JrdAoFbI8XMg"
      },
      "execution_count": null,
      "outputs": []
    },
    {
      "cell_type": "markdown",
      "source": [
        "**Note**: Tensor datatypes is one of the 3 big errors we'll run into with PyTorch and Deep Learning:\n",
        "1. Tensors not right datatype\n",
        "2. Tensors not right shape\n",
        "3. Tensors not on the right device"
      ],
      "metadata": {
        "id": "aaj9cvNG9lVI"
      }
    },
    {
      "cell_type": "code",
      "source": [
        "float_32to16 = float_32_tens.type(torch.float16)\n",
        "float_32to16"
      ],
      "metadata": {
        "colab": {
          "base_uri": "https://localhost:8080/"
        },
        "id": "F7HlCuog9kOJ",
        "outputId": "19b76b65-13cb-4eab-dd19-13d4c2110c0a"
      },
      "execution_count": null,
      "outputs": [
        {
          "output_type": "execute_result",
          "data": {
            "text/plain": [
              "tensor([3.1992, 4.0000, 2.0000], dtype=torch.float16)"
            ]
          },
          "metadata": {},
          "execution_count": 80
        }
      ]
    },
    {
      "cell_type": "code",
      "source": [
        "float_32to16*float_32_tens\n",
        "# here it works: but the error will come in some cases."
      ],
      "metadata": {
        "colab": {
          "base_uri": "https://localhost:8080/"
        },
        "id": "3x4QPeSR-iX3",
        "outputId": "7e3337ad-d851-4f5a-8b03-cfdf66e627e6"
      },
      "execution_count": null,
      "outputs": [
        {
          "output_type": "execute_result",
          "data": {
            "text/plain": [
              "tensor([10.2375, 16.0000,  4.0000])"
            ]
          },
          "metadata": {},
          "execution_count": 81
        }
      ]
    },
    {
      "cell_type": "markdown",
      "source": [
        "Getting Information from Tensors"
      ],
      "metadata": {
        "id": "JgE7Vbva_RMA"
      }
    },
    {
      "cell_type": "code",
      "source": [
        "# to solve the 3 major problems:\n",
        "# 1. some_tensor.dtype\n",
        "# 2. some_tensor.shape\n",
        "# 3. some_tensor.device"
      ],
      "metadata": {
        "id": "fQ324_-5-oVD"
      },
      "execution_count": null,
      "outputs": []
    },
    {
      "cell_type": "markdown",
      "source": [
        "Manipulating tensors: Tensor Operations"
      ],
      "metadata": {
        "id": "qLFhvf-ILi6J"
      }
    },
    {
      "cell_type": "markdown",
      "source": [
        "Operations:\n",
        "1. addition\n",
        "2. subtraction\n",
        "3. multiplication (element-wise)\n",
        "4. div\n",
        "5. Matrix multiplication (dot product)"
      ],
      "metadata": {
        "id": "_9cPmpBxLp_C"
      }
    },
    {
      "cell_type": "code",
      "source": [
        "# adding 10 to each tensor.\n",
        "tensor = torch.tensor([24,2,4])\n",
        "tensor+10"
      ],
      "metadata": {
        "colab": {
          "base_uri": "https://localhost:8080/"
        },
        "id": "tVU038xkLqeZ",
        "outputId": "f519343e-02cf-4bdd-bb73-46479d2b0d43"
      },
      "execution_count": null,
      "outputs": [
        {
          "output_type": "execute_result",
          "data": {
            "text/plain": [
              "tensor([34, 12, 14])"
            ]
          },
          "metadata": {},
          "execution_count": 83
        }
      ]
    },
    {
      "cell_type": "code",
      "source": [
        "# *10 to each tensor element.\n",
        "tensor*10"
      ],
      "metadata": {
        "colab": {
          "base_uri": "https://localhost:8080/"
        },
        "id": "_xw0QlkxLheB",
        "outputId": "7557441f-19d1-410a-afb0-07a6e6886f2d"
      },
      "execution_count": null,
      "outputs": [
        {
          "output_type": "execute_result",
          "data": {
            "text/plain": [
              "tensor([240,  20,  40])"
            ]
          },
          "metadata": {},
          "execution_count": 84
        }
      ]
    },
    {
      "cell_type": "code",
      "source": [
        "tensor/10"
      ],
      "metadata": {
        "colab": {
          "base_uri": "https://localhost:8080/"
        },
        "id": "3xSNKwwmL7me",
        "outputId": "3e36c5bc-8bf5-42a5-8391-c91d4d8b1c97"
      },
      "execution_count": null,
      "outputs": [
        {
          "output_type": "execute_result",
          "data": {
            "text/plain": [
              "tensor([2.4000, 0.2000, 0.4000])"
            ]
          },
          "metadata": {},
          "execution_count": 85
        }
      ]
    },
    {
      "cell_type": "code",
      "source": [
        "# Pytorch in-built functions.\n",
        "torch.mul(tensor,10)"
      ],
      "metadata": {
        "colab": {
          "base_uri": "https://localhost:8080/"
        },
        "id": "H9YUdrGnL9RW",
        "outputId": "f27c2f49-f93d-49c9-c6e9-abbdc2896795"
      },
      "execution_count": null,
      "outputs": [
        {
          "output_type": "execute_result",
          "data": {
            "text/plain": [
              "tensor([240,  20,  40])"
            ]
          },
          "metadata": {},
          "execution_count": 86
        }
      ]
    },
    {
      "cell_type": "code",
      "source": [
        "# Matrix-Multiplication\n",
        "tensor*tensor"
      ],
      "metadata": {
        "colab": {
          "base_uri": "https://localhost:8080/"
        },
        "id": "kGpBq1fzMIEC",
        "outputId": "3cc0e82c-a3ed-4150-8ce0-7ddc31ee9f79"
      },
      "execution_count": null,
      "outputs": [
        {
          "output_type": "execute_result",
          "data": {
            "text/plain": [
              "tensor([576,   4,  16])"
            ]
          },
          "metadata": {},
          "execution_count": 88
        }
      ]
    },
    {
      "cell_type": "code",
      "source": [
        "torch.matmul(tensor,tensor)\n",
        "# it adds all the elements of the product matrix"
      ],
      "metadata": {
        "colab": {
          "base_uri": "https://localhost:8080/"
        },
        "id": "yOR5uybqMLjE",
        "outputId": "5bea4db3-aa5d-48d3-8e1c-8102f72d4000"
      },
      "execution_count": null,
      "outputs": [
        {
          "output_type": "execute_result",
          "data": {
            "text/plain": [
              "tensor(596)"
            ]
          },
          "metadata": {},
          "execution_count": 89
        }
      ]
    },
    {
      "cell_type": "code",
      "source": [
        "# using %%time we can find which method is less time consuming.(matmul) offcourse."
      ],
      "metadata": {
        "id": "JUZcCEicNGZ0"
      },
      "execution_count": null,
      "outputs": []
    },
    {
      "cell_type": "code",
      "source": [
        "%%time\n",
        "torch.matmul(tensor,tensor)"
      ],
      "metadata": {
        "colab": {
          "base_uri": "https://localhost:8080/"
        },
        "id": "5EhbysuuN3la",
        "outputId": "51a80355-64af-49f1-f325-9e200a05af07"
      },
      "execution_count": null,
      "outputs": [
        {
          "output_type": "stream",
          "name": "stdout",
          "text": [
            "CPU times: user 1.12 ms, sys: 0 ns, total: 1.12 ms\n",
            "Wall time: 1.14 ms\n"
          ]
        },
        {
          "output_type": "execute_result",
          "data": {
            "text/plain": [
              "tensor(596)"
            ]
          },
          "metadata": {},
          "execution_count": 92
        }
      ]
    },
    {
      "cell_type": "markdown",
      "source": [
        "To fix the tensor shape issue, we manipulate the shape: use **transpose**\n",
        "It switches the axes or dimension."
      ],
      "metadata": {
        "id": "jgznPkQYSP3Q"
      }
    },
    {
      "cell_type": "code",
      "source": [
        "tensor1 = torch.tensor([[2,4,2],[2,342,2]])\n",
        "tensor1.T"
      ],
      "metadata": {
        "colab": {
          "base_uri": "https://localhost:8080/"
        },
        "id": "whJJnMc3Se5F",
        "outputId": "3394f1bf-63e3-47b8-dded-6dc4ff5783b4"
      },
      "execution_count": null,
      "outputs": [
        {
          "output_type": "execute_result",
          "data": {
            "text/plain": [
              "tensor([[  2,   2],\n",
              "        [  4, 342],\n",
              "        [  2,   2]])"
            ]
          },
          "metadata": {},
          "execution_count": 93
        }
      ]
    },
    {
      "cell_type": "code",
      "source": [
        "tensor1.shape,tensor1.T.shape"
      ],
      "metadata": {
        "colab": {
          "base_uri": "https://localhost:8080/"
        },
        "id": "YHzVvN1MSk9i",
        "outputId": "3311b665-48f1-448f-ba35-45f661190b97"
      },
      "execution_count": null,
      "outputs": [
        {
          "output_type": "execute_result",
          "data": {
            "text/plain": [
              "(torch.Size([2, 3]), torch.Size([3, 2]))"
            ]
          },
          "metadata": {},
          "execution_count": 95
        }
      ]
    },
    {
      "cell_type": "markdown",
      "source": [
        "## Tensor Aggregation"
      ],
      "metadata": {
        "id": "9H8ji2i5SrM6"
      }
    },
    {
      "cell_type": "code",
      "source": [
        "# finding min, max,sum etc.\n",
        "x = torch.arange(0,100,15)\n",
        "x"
      ],
      "metadata": {
        "colab": {
          "base_uri": "https://localhost:8080/"
        },
        "id": "MIC9lITnTEOh",
        "outputId": "7f9bb591-63dd-4a21-d77c-2300b0fb260a"
      },
      "execution_count": null,
      "outputs": [
        {
          "output_type": "execute_result",
          "data": {
            "text/plain": [
              "tensor([ 0, 15, 30, 45, 60, 75, 90])"
            ]
          },
          "metadata": {},
          "execution_count": 96
        }
      ]
    },
    {
      "cell_type": "code",
      "source": [
        "torch.max(x)"
      ],
      "metadata": {
        "colab": {
          "base_uri": "https://localhost:8080/"
        },
        "id": "LQ8C0z4_TOTI",
        "outputId": "80aef0ab-ece8-481c-f8c7-bcc712a471c0"
      },
      "execution_count": null,
      "outputs": [
        {
          "output_type": "execute_result",
          "data": {
            "text/plain": [
              "tensor(90)"
            ]
          },
          "metadata": {},
          "execution_count": 97
        }
      ]
    },
    {
      "cell_type": "code",
      "source": [
        "torch.mean(x)"
      ],
      "metadata": {
        "colab": {
          "base_uri": "https://localhost:8080/",
          "height": 183
        },
        "id": "g04E1pcSTR8R",
        "outputId": "57d872a2-4a50-414e-bbd5-b8b1263abfdd"
      },
      "execution_count": null,
      "outputs": [
        {
          "output_type": "error",
          "ename": "RuntimeError",
          "evalue": "ignored",
          "traceback": [
            "\u001b[0;31m---------------------------------------------------------------------------\u001b[0m",
            "\u001b[0;31mRuntimeError\u001b[0m                              Traceback (most recent call last)",
            "\u001b[0;32m<ipython-input-100-455868396db1>\u001b[0m in \u001b[0;36m<cell line: 1>\u001b[0;34m()\u001b[0m\n\u001b[0;32m----> 1\u001b[0;31m \u001b[0mtorch\u001b[0m\u001b[0;34m.\u001b[0m\u001b[0mmean\u001b[0m\u001b[0;34m(\u001b[0m\u001b[0mx\u001b[0m\u001b[0;34m)\u001b[0m\u001b[0;34m\u001b[0m\u001b[0;34m\u001b[0m\u001b[0m\n\u001b[0m",
            "\u001b[0;31mRuntimeError\u001b[0m: mean(): could not infer output dtype. Input dtype must be either a floating point or complex dtype. Got: Long"
          ]
        }
      ]
    },
    {
      "cell_type": "code",
      "source": [
        "x.dtype"
      ],
      "metadata": {
        "colab": {
          "base_uri": "https://localhost:8080/"
        },
        "id": "A44dd1gUTWzg",
        "outputId": "2f1d93c6-34c7-4640-cca3-b678bd41a7ea"
      },
      "execution_count": null,
      "outputs": [
        {
          "output_type": "execute_result",
          "data": {
            "text/plain": [
              "torch.int64"
            ]
          },
          "metadata": {},
          "execution_count": 101
        }
      ]
    },
    {
      "cell_type": "code",
      "source": [
        "# we need to change the datatype to float.\n",
        "torch.mean(x.type(torch.float32))\n",
        "# mean requires the float datatype"
      ],
      "metadata": {
        "colab": {
          "base_uri": "https://localhost:8080/"
        },
        "id": "8G_hDIWGTnZt",
        "outputId": "ffe01328-ca2c-48be-eba6-294edee2fb16"
      },
      "execution_count": null,
      "outputs": [
        {
          "output_type": "execute_result",
          "data": {
            "text/plain": [
              "tensor(45.)"
            ]
          },
          "metadata": {},
          "execution_count": 104
        }
      ]
    },
    {
      "cell_type": "code",
      "source": [
        "x.sum()"
      ],
      "metadata": {
        "colab": {
          "base_uri": "https://localhost:8080/"
        },
        "id": "KqIGSIOzTvhK",
        "outputId": "9d2dca93-5f9a-4ca1-b303-9fa224d9f459"
      },
      "execution_count": null,
      "outputs": [
        {
          "output_type": "execute_result",
          "data": {
            "text/plain": [
              "tensor(315)"
            ]
          },
          "metadata": {},
          "execution_count": 106
        }
      ]
    },
    {
      "cell_type": "markdown",
      "source": [
        "## Finding the positional min and max"
      ],
      "metadata": {
        "id": "FO6A2OT4T_oa"
      }
    },
    {
      "cell_type": "code",
      "source": [
        "# gives the position of the required functional value.\n",
        "x.argmin()"
      ],
      "metadata": {
        "colab": {
          "base_uri": "https://localhost:8080/"
        },
        "id": "jY8q5oB5UihO",
        "outputId": "0ff9a26e-36c3-428b-a76a-89de22dd87e2"
      },
      "execution_count": null,
      "outputs": [
        {
          "output_type": "execute_result",
          "data": {
            "text/plain": [
              "tensor(0)"
            ]
          },
          "metadata": {},
          "execution_count": 109
        }
      ]
    },
    {
      "cell_type": "code",
      "source": [
        "x[0] # is the minimum value."
      ],
      "metadata": {
        "colab": {
          "base_uri": "https://localhost:8080/"
        },
        "id": "bJdnL7MBUtvR",
        "outputId": "5868d9f9-47d0-4165-e355-071b95aa1e07"
      },
      "execution_count": null,
      "outputs": [
        {
          "output_type": "execute_result",
          "data": {
            "text/plain": [
              "tensor(0)"
            ]
          },
          "metadata": {},
          "execution_count": 110
        }
      ]
    },
    {
      "cell_type": "code",
      "source": [
        "x.argmax()"
      ],
      "metadata": {
        "colab": {
          "base_uri": "https://localhost:8080/"
        },
        "id": "r-KmkStrUxSv",
        "outputId": "11cf7dd3-9a0d-4a63-ea0a-1155717965fc"
      },
      "execution_count": null,
      "outputs": [
        {
          "output_type": "execute_result",
          "data": {
            "text/plain": [
              "tensor(6)"
            ]
          },
          "metadata": {},
          "execution_count": 111
        }
      ]
    },
    {
      "cell_type": "code",
      "source": [
        "x[6] # is the maximum value"
      ],
      "metadata": {
        "colab": {
          "base_uri": "https://localhost:8080/"
        },
        "id": "PffrsHhmU1An",
        "outputId": "4ece272e-754a-4e0e-943b-54d245620ee2"
      },
      "execution_count": null,
      "outputs": [
        {
          "output_type": "execute_result",
          "data": {
            "text/plain": [
              "tensor(90)"
            ]
          },
          "metadata": {},
          "execution_count": 112
        }
      ]
    },
    {
      "cell_type": "markdown",
      "source": [
        "## Reshaping, viewing, stacking, Squeezing, unsqueezing\n",
        "* Reshaping: reshape the shape to desired\n",
        "* view: return the view of input tensor.\n",
        "* stacking: combine the multiple tensors on top of each other(vstack) or side by side ( hstack)\n",
        "* squeeze: remove all `1` dimensions from a tensor\n",
        "* unsqueeze: add a `1` dimension from a tensor.\n",
        "* permute: return a view of the input with dimensions permuted(swapped) in a certain way."
      ],
      "metadata": {
        "id": "IxBrqoKXU4jY"
      }
    },
    {
      "cell_type": "code",
      "source": [
        "import torch\n",
        "x = torch.arange(1.,10.)\n",
        "x,x.shape"
      ],
      "metadata": {
        "colab": {
          "base_uri": "https://localhost:8080/"
        },
        "id": "Up5xT2G-VNiM",
        "outputId": "b64e3c5c-37d6-4c34-fd24-869dee3276df"
      },
      "execution_count": null,
      "outputs": [
        {
          "output_type": "execute_result",
          "data": {
            "text/plain": [
              "(tensor([1., 2., 3., 4., 5., 6., 7., 8., 9.]), torch.Size([9]))"
            ]
          },
          "metadata": {},
          "execution_count": 113
        }
      ]
    },
    {
      "cell_type": "code",
      "source": [
        "# reshape adds an extra dimension:\n",
        "x_reshaped = x.reshape(1,9)\n",
        "x_reshaped,x_reshaped.shape"
      ],
      "metadata": {
        "colab": {
          "base_uri": "https://localhost:8080/"
        },
        "id": "kYUdtmv3VOpv",
        "outputId": "74797d4e-d841-49c8-cb43-af20b1ebef1f"
      },
      "execution_count": null,
      "outputs": [
        {
          "output_type": "execute_result",
          "data": {
            "text/plain": [
              "(tensor([[1., 2., 3., 4., 5., 6., 7., 8., 9.]]), torch.Size([1, 9]))"
            ]
          },
          "metadata": {},
          "execution_count": 114
        }
      ]
    },
    {
      "cell_type": "code",
      "source": [
        "# view change the view in which we want to see:\n",
        "# it share the same memory location: and any change in z would be reflected in x too:\n",
        "z = x.view(1,9)\n",
        "z, z.shape"
      ],
      "metadata": {
        "colab": {
          "base_uri": "https://localhost:8080/"
        },
        "id": "h4o9zPNFcfLS",
        "outputId": "c3c9328e-2619-4045-c628-2d16f75559b5"
      },
      "execution_count": null,
      "outputs": [
        {
          "output_type": "execute_result",
          "data": {
            "text/plain": [
              "(tensor([[1., 2., 3., 4., 5., 6., 7., 8., 9.]]), torch.Size([1, 9]))"
            ]
          },
          "metadata": {},
          "execution_count": 115
        }
      ]
    },
    {
      "cell_type": "code",
      "source": [
        "z[:,0] = 100\n",
        "z,x\n",
        "# first element got changed in both."
      ],
      "metadata": {
        "colab": {
          "base_uri": "https://localhost:8080/"
        },
        "id": "lGoRab97cmsD",
        "outputId": "59a98dff-8486-426c-aec2-65d13083f281"
      },
      "execution_count": null,
      "outputs": [
        {
          "output_type": "execute_result",
          "data": {
            "text/plain": [
              "(tensor([[100.,   2.,   3.,   4.,   5.,   6.,   7.,   8.,   9.]]),\n",
              " tensor([100.,   2.,   3.,   4.,   5.,   6.,   7.,   8.,   9.]))"
            ]
          },
          "metadata": {},
          "execution_count": 117
        }
      ]
    },
    {
      "cell_type": "code",
      "source": [
        "# stack"
      ],
      "metadata": {
        "id": "6MZprM9IczpW"
      },
      "execution_count": null,
      "outputs": []
    },
    {
      "cell_type": "code",
      "source": [
        "# it puts tensors on above another along different axes (0 , 1)\n",
        "x_stacked = torch.stack([x,x]) # vertical stacking:\n",
        "x_stacked,x_stacked.shape"
      ],
      "metadata": {
        "colab": {
          "base_uri": "https://localhost:8080/"
        },
        "id": "W0Nr--tWc7gR",
        "outputId": "8a1661b8-d3b8-48c1-f626-16f7bbc77dfd"
      },
      "execution_count": null,
      "outputs": [
        {
          "output_type": "execute_result",
          "data": {
            "text/plain": [
              "(tensor([[100.,   2.,   3.,   4.,   5.,   6.,   7.,   8.,   9.],\n",
              "         [100.,   2.,   3.,   4.,   5.,   6.,   7.,   8.,   9.]]),\n",
              " torch.Size([2, 9]))"
            ]
          },
          "metadata": {},
          "execution_count": 120
        }
      ]
    },
    {
      "cell_type": "code",
      "source": [
        "x_stacked = torch.stack([x,x],dim= 1) # side by side || column wise\n",
        "x_stacked, x_stacked.shape"
      ],
      "metadata": {
        "colab": {
          "base_uri": "https://localhost:8080/"
        },
        "id": "2SO5JQCRdJWf",
        "outputId": "016a362c-973b-424f-8ea6-e77cd354f49e"
      },
      "execution_count": null,
      "outputs": [
        {
          "output_type": "execute_result",
          "data": {
            "text/plain": [
              "(tensor([[100., 100.],\n",
              "         [  2.,   2.],\n",
              "         [  3.,   3.],\n",
              "         [  4.,   4.],\n",
              "         [  5.,   5.],\n",
              "         [  6.,   6.],\n",
              "         [  7.,   7.],\n",
              "         [  8.,   8.],\n",
              "         [  9.,   9.]]),\n",
              " torch.Size([9, 2]))"
            ]
          },
          "metadata": {},
          "execution_count": 121
        }
      ]
    },
    {
      "cell_type": "code",
      "source": [
        "# squeezing: [1,1,1,9]---->[9]"
      ],
      "metadata": {
        "id": "rB2A8cDxdTEQ"
      },
      "execution_count": null,
      "outputs": []
    },
    {
      "cell_type": "markdown",
      "source": [
        "squeezing removes the `1` from the tensors"
      ],
      "metadata": {
        "id": "5zf74dWndi05"
      }
    },
    {
      "cell_type": "code",
      "source": [
        "x_squeeze = x_reshaped.squeeze()\n",
        "x_reshaped.shape,x_squeeze,x_squeeze.shape"
      ],
      "metadata": {
        "colab": {
          "base_uri": "https://localhost:8080/"
        },
        "id": "bqa6zMsleQaw",
        "outputId": "5dd7fba9-a34a-4452-f670-6bf95ab71419"
      },
      "execution_count": null,
      "outputs": [
        {
          "output_type": "execute_result",
          "data": {
            "text/plain": [
              "(torch.Size([1, 9]),\n",
              " tensor([100.,   2.,   3.,   4.,   5.,   6.,   7.,   8.,   9.]),\n",
              " torch.Size([9]))"
            ]
          },
          "metadata": {},
          "execution_count": 137
        }
      ]
    },
    {
      "cell_type": "code",
      "source": [
        "x_reshaped.shape, x_reshaped.squeeze(), x_reshaped.squeeze().shape"
      ],
      "metadata": {
        "colab": {
          "base_uri": "https://localhost:8080/"
        },
        "id": "Ux9uBDpBdt6X",
        "outputId": "9186d130-74f4-4f0c-9371-d6cc5fc2b575"
      },
      "execution_count": null,
      "outputs": [
        {
          "output_type": "execute_result",
          "data": {
            "text/plain": [
              "(torch.Size([1, 9]),\n",
              " tensor([100.,   2.,   3.,   4.,   5.,   6.,   7.,   8.,   9.]),\n",
              " torch.Size([9]))"
            ]
          },
          "metadata": {},
          "execution_count": 124
        }
      ]
    },
    {
      "cell_type": "code",
      "source": [
        "# Unsqeeze"
      ],
      "metadata": {
        "id": "2Xfw_9PVd0zn"
      },
      "execution_count": null,
      "outputs": []
    },
    {
      "cell_type": "code",
      "source": [
        "# unsqueeze adds an extra dimension at a specific dim\n",
        "x_unsqueezed = x_squeeze.unsqueeze(dim = 0)\n",
        "x_squeeze,x_unsqueezed"
      ],
      "metadata": {
        "colab": {
          "base_uri": "https://localhost:8080/"
        },
        "id": "-uCuW5nHeBnu",
        "outputId": "b7e75f8e-1e02-4161-94c8-b83f20aa2a3f"
      },
      "execution_count": null,
      "outputs": [
        {
          "output_type": "execute_result",
          "data": {
            "text/plain": [
              "(tensor([100.,   2.,   3.,   4.,   5.,   6.,   7.,   8.,   9.]),\n",
              " tensor([[100.,   2.,   3.,   4.,   5.,   6.,   7.,   8.,   9.]]))"
            ]
          },
          "metadata": {},
          "execution_count": 140
        }
      ]
    },
    {
      "cell_type": "code",
      "source": [
        "x_squeeze.shape,x_unsqueezed.shape"
      ],
      "metadata": {
        "colab": {
          "base_uri": "https://localhost:8080/"
        },
        "id": "uL4AzimNfFBh",
        "outputId": "0f5a72e7-0880-44f8-90ad-9646863d9c2e"
      },
      "execution_count": null,
      "outputs": [
        {
          "output_type": "execute_result",
          "data": {
            "text/plain": [
              "(torch.Size([9]), torch.Size([1, 9]))"
            ]
          },
          "metadata": {},
          "execution_count": 141
        }
      ]
    },
    {
      "cell_type": "code",
      "source": [
        "# torch.permute -- > rearranges the dimensions of a target tensor in specified order."
      ],
      "metadata": {
        "id": "F9R07_4xfOKq"
      },
      "execution_count": null,
      "outputs": []
    },
    {
      "cell_type": "code",
      "source": [
        "x = torch.rand(224,224,3) # H * W * Color(RGB)\n",
        "x.shape"
      ],
      "metadata": {
        "colab": {
          "base_uri": "https://localhost:8080/"
        },
        "id": "KkJ1LMW4fYxv",
        "outputId": "d7bff31a-8cdd-4fbb-8842-06b851b73621"
      },
      "execution_count": null,
      "outputs": [
        {
          "output_type": "execute_result",
          "data": {
            "text/plain": [
              "torch.Size([224, 224, 3])"
            ]
          },
          "metadata": {},
          "execution_count": 152
        }
      ]
    },
    {
      "cell_type": "code",
      "source": [
        "# changing the dimensions:\n",
        "x_permuted = x.permute(2,0,1) # 0->2, 1->0, 2->1\n",
        "x_permuted.shape"
      ],
      "metadata": {
        "colab": {
          "base_uri": "https://localhost:8080/"
        },
        "id": "L9uZUov1fZXb",
        "outputId": "0556d64a-ce16-451a-94cc-b751bfa178ea"
      },
      "execution_count": null,
      "outputs": [
        {
          "output_type": "execute_result",
          "data": {
            "text/plain": [
              "torch.Size([3, 224, 224])"
            ]
          },
          "metadata": {},
          "execution_count": 153
        }
      ]
    },
    {
      "cell_type": "code",
      "source": [
        "# x and x_permuted share the same memory:\n",
        "x[0,0,0] = 9999\n",
        "x[0,0,0],x_permuted[0,0,0]"
      ],
      "metadata": {
        "colab": {
          "base_uri": "https://localhost:8080/"
        },
        "id": "i-BGKe0egof9",
        "outputId": "c11aaf7e-b3b0-43c2-8ee8-a1d74fbcb85b"
      },
      "execution_count": null,
      "outputs": [
        {
          "output_type": "execute_result",
          "data": {
            "text/plain": [
              "(tensor(9999.), tensor(9999.))"
            ]
          },
          "metadata": {},
          "execution_count": 154
        }
      ]
    },
    {
      "cell_type": "markdown",
      "source": [
        "## Selecting data form tensors: Indexing"
      ],
      "metadata": {
        "id": "xgY3teJ5fcx7"
      }
    },
    {
      "cell_type": "code",
      "source": [
        "# create a tensor:\n",
        "x = torch.arange(1,10).reshape(1,3,3) # 9 elements so: one 3*3 matrix:\n",
        "x,x.shape"
      ],
      "metadata": {
        "colab": {
          "base_uri": "https://localhost:8080/"
        },
        "id": "huuOBF2qgkNX",
        "outputId": "2cfc7d7f-57ae-4508-b570-4c1cd94d5601"
      },
      "execution_count": null,
      "outputs": [
        {
          "output_type": "execute_result",
          "data": {
            "text/plain": [
              "(tensor([[[1, 2, 3],\n",
              "          [4, 5, 6],\n",
              "          [7, 8, 9]]]),\n",
              " torch.Size([1, 3, 3]))"
            ]
          },
          "metadata": {},
          "execution_count": 155
        }
      ]
    },
    {
      "cell_type": "code",
      "source": [
        "# index on our tensor:\n",
        "x[0] # first tensor of x: 3*3 matrix:"
      ],
      "metadata": {
        "colab": {
          "base_uri": "https://localhost:8080/"
        },
        "id": "xxK3keHUihrz",
        "outputId": "e7878bbf-74e8-4bab-d309-2ab36fb24373"
      },
      "execution_count": null,
      "outputs": [
        {
          "output_type": "execute_result",
          "data": {
            "text/plain": [
              "tensor([[1, 2, 3],\n",
              "        [4, 5, 6],\n",
              "        [7, 8, 9]])"
            ]
          },
          "metadata": {},
          "execution_count": 156
        }
      ]
    },
    {
      "cell_type": "code",
      "source": [
        "# let's index on middle bracket\n",
        "x[0][0]"
      ],
      "metadata": {
        "colab": {
          "base_uri": "https://localhost:8080/"
        },
        "id": "-AyPxe8niqOO",
        "outputId": "944bd74b-bd86-41fb-a701-de1caecf9604"
      },
      "execution_count": null,
      "outputs": [
        {
          "output_type": "execute_result",
          "data": {
            "text/plain": [
              "tensor([1, 2, 3])"
            ]
          },
          "metadata": {},
          "execution_count": 157
        }
      ]
    },
    {
      "cell_type": "code",
      "source": [
        "# lets index on the most inner bracket(last dim)\n",
        "x[0][0][0]"
      ],
      "metadata": {
        "colab": {
          "base_uri": "https://localhost:8080/"
        },
        "id": "Zb_B_iLgiz--",
        "outputId": "23ba86a5-262e-4306-8375-f5b35158d069"
      },
      "execution_count": null,
      "outputs": [
        {
          "output_type": "execute_result",
          "data": {
            "text/plain": [
              "tensor(1)"
            ]
          },
          "metadata": {},
          "execution_count": 158
        }
      ]
    },
    {
      "cell_type": "code",
      "source": [
        "x[1]\n",
        "# error: since we have only one 3*3 matrix:\n",
        "# we could have accessed x[1] if x--> x.shape= N,3,3, N>1"
      ],
      "metadata": {
        "colab": {
          "base_uri": "https://localhost:8080/",
          "height": 166
        },
        "id": "YW_k1Hxei6oQ",
        "outputId": "7ca1bea1-0c39-4b13-d70c-387b100f846f"
      },
      "execution_count": null,
      "outputs": [
        {
          "output_type": "error",
          "ename": "IndexError",
          "evalue": "ignored",
          "traceback": [
            "\u001b[0;31m---------------------------------------------------------------------------\u001b[0m",
            "\u001b[0;31mIndexError\u001b[0m                                Traceback (most recent call last)",
            "\u001b[0;32m<ipython-input-159-fb0e0080324e>\u001b[0m in \u001b[0;36m<cell line: 1>\u001b[0;34m()\u001b[0m\n\u001b[0;32m----> 1\u001b[0;31m \u001b[0mx\u001b[0m\u001b[0;34m[\u001b[0m\u001b[0;36m1\u001b[0m\u001b[0;34m]\u001b[0m\u001b[0;34m\u001b[0m\u001b[0;34m\u001b[0m\u001b[0m\n\u001b[0m",
            "\u001b[0;31mIndexError\u001b[0m: index 1 is out of bounds for dimension 0 with size 1"
          ]
        }
      ]
    },
    {
      "cell_type": "code",
      "source": [
        "x[0][1][1]"
      ],
      "metadata": {
        "colab": {
          "base_uri": "https://localhost:8080/"
        },
        "id": "Nsct3zsXi93B",
        "outputId": "31cf1552-3d4d-4b27-ffde-e829ca90fc3e"
      },
      "execution_count": null,
      "outputs": [
        {
          "output_type": "execute_result",
          "data": {
            "text/plain": [
              "tensor(5)"
            ]
          },
          "metadata": {},
          "execution_count": 160
        }
      ]
    },
    {
      "cell_type": "code",
      "source": [
        "# Indexing using \":\" to select all of the target dimensions:\n",
        "# all of first dimension, but 0th of second dimension\n",
        "x[:,0]"
      ],
      "metadata": {
        "colab": {
          "base_uri": "https://localhost:8080/"
        },
        "id": "40XlnHtBjO0Z",
        "outputId": "73fec2a6-e63b-43fa-fed1-272b0072274e"
      },
      "execution_count": null,
      "outputs": [
        {
          "output_type": "execute_result",
          "data": {
            "text/plain": [
              "tensor([[1, 2, 3]])"
            ]
          },
          "metadata": {},
          "execution_count": 161
        }
      ]
    },
    {
      "cell_type": "code",
      "source": [
        "# all values of 0,1 dim but index-1 values of 2nd dim\n",
        "x[:,:,1]"
      ],
      "metadata": {
        "colab": {
          "base_uri": "https://localhost:8080/"
        },
        "id": "7eRf7NAKjXGY",
        "outputId": "bbccbfc6-3b9d-4f5f-c9e0-056acbd248e1"
      },
      "execution_count": null,
      "outputs": [
        {
          "output_type": "execute_result",
          "data": {
            "text/plain": [
              "tensor([[2, 5, 8]])"
            ]
          },
          "metadata": {},
          "execution_count": 162
        }
      ]
    },
    {
      "cell_type": "code",
      "source": [
        "# get all values of 0-dim, only 1 of dim-1 and 2.\n",
        "x[:,1,1]"
      ],
      "metadata": {
        "colab": {
          "base_uri": "https://localhost:8080/"
        },
        "id": "UWTKef9ajd-O",
        "outputId": "c85c0d42-28b3-4301-e935-5a02652ac1c4"
      },
      "execution_count": null,
      "outputs": [
        {
          "output_type": "execute_result",
          "data": {
            "text/plain": [
              "tensor([5])"
            ]
          },
          "metadata": {},
          "execution_count": 163
        }
      ]
    },
    {
      "cell_type": "code",
      "source": [
        "\n",
        "x[0,0,:]\n",
        "# same as x[0][0]"
      ],
      "metadata": {
        "colab": {
          "base_uri": "https://localhost:8080/"
        },
        "id": "YneUXe3cj5pe",
        "outputId": "a25f4dbf-ab2d-4ce6-e1fc-f6ff5b3424f7"
      },
      "execution_count": null,
      "outputs": [
        {
          "output_type": "execute_result",
          "data": {
            "text/plain": [
              "tensor([1, 2, 3])"
            ]
          },
          "metadata": {},
          "execution_count": 164
        }
      ]
    },
    {
      "cell_type": "code",
      "source": [
        "x"
      ],
      "metadata": {
        "colab": {
          "base_uri": "https://localhost:8080/"
        },
        "id": "s6htxS7AkcvU",
        "outputId": "9f4302e9-cfa8-40e6-eb75-30aef6094f08"
      },
      "execution_count": null,
      "outputs": [
        {
          "output_type": "execute_result",
          "data": {
            "text/plain": [
              "tensor([[[1, 2, 3],\n",
              "         [4, 5, 6],\n",
              "         [7, 8, 9]]])"
            ]
          },
          "metadata": {},
          "execution_count": 165
        }
      ]
    },
    {
      "cell_type": "code",
      "source": [
        "# index on x to return 9\n",
        "x[0,2,2]\n"
      ],
      "metadata": {
        "colab": {
          "base_uri": "https://localhost:8080/"
        },
        "id": "lhBoSibMj_v_",
        "outputId": "ba095ac9-2a4f-42a1-cc5d-fa1313f6dc29"
      },
      "execution_count": null,
      "outputs": [
        {
          "output_type": "execute_result",
          "data": {
            "text/plain": [
              "tensor(9)"
            ]
          },
          "metadata": {},
          "execution_count": 168
        }
      ]
    },
    {
      "cell_type": "code",
      "source": [
        "# index on x to return 3,6,9\n",
        "x[:,:,2]"
      ],
      "metadata": {
        "colab": {
          "base_uri": "https://localhost:8080/"
        },
        "id": "k9y5O-vnkwyK",
        "outputId": "3eb91f9e-1a9e-4aaa-9cb6-0e854dd09dba"
      },
      "execution_count": null,
      "outputs": [
        {
          "output_type": "execute_result",
          "data": {
            "text/plain": [
              "tensor([[3, 6, 9]])"
            ]
          },
          "metadata": {},
          "execution_count": 172
        }
      ]
    },
    {
      "cell_type": "markdown",
      "source": [
        "## PyTorch tensors and NumPy"
      ],
      "metadata": {
        "id": "Q53kNTGKkyvs"
      }
    },
    {
      "cell_type": "markdown",
      "source": [
        "- Data in Numpy: --> PyTorch: -> `torch.from_numpy(ndarray)`\n",
        "- Datt in Pytorch:--> Numpy:  -> `torch.tensor.numpy()`"
      ],
      "metadata": {
        "id": "wv7pPNvfq8v5"
      }
    },
    {
      "cell_type": "code",
      "source": [
        "# numpy array to tensor:\n",
        "import torch\n",
        "import numpy as np\n",
        "\n",
        "array = np.arange(1.,7.)\n",
        "tensor = torch.from_numpy(array) # warning:\n",
        "# it reflects default numpy datatype of float64.\n",
        "# convert it to float32 if needed."
      ],
      "metadata": {
        "id": "fIhpXv0FlMTF"
      },
      "execution_count": null,
      "outputs": []
    },
    {
      "cell_type": "code",
      "source": [
        "array,tensor"
      ],
      "metadata": {
        "colab": {
          "base_uri": "https://localhost:8080/"
        },
        "id": "OX4brYd-q0tX",
        "outputId": "a53882b3-3db8-4b3b-e6cb-28e4f9be1877"
      },
      "execution_count": null,
      "outputs": [
        {
          "output_type": "execute_result",
          "data": {
            "text/plain": [
              "(array([1., 2., 3., 4., 5., 6.]),\n",
              " tensor([1., 2., 3., 4., 5., 6.], dtype=torch.float64))"
            ]
          },
          "metadata": {},
          "execution_count": 181
        }
      ]
    },
    {
      "cell_type": "code",
      "source": [
        "array.dtype\n",
        "# by default the data type of numpy float is 64-bit\n"
      ],
      "metadata": {
        "colab": {
          "base_uri": "https://localhost:8080/"
        },
        "id": "ydAYhe2iq3nH",
        "outputId": "354d451f-3398-4ff5-86c5-a2ac019cdc27"
      },
      "execution_count": null,
      "outputs": [
        {
          "output_type": "execute_result",
          "data": {
            "text/plain": [
              "dtype('float64')"
            ]
          },
          "metadata": {},
          "execution_count": 182
        }
      ]
    },
    {
      "cell_type": "code",
      "source": [
        "array = array+1\n",
        "array,tensor"
      ],
      "metadata": {
        "colab": {
          "base_uri": "https://localhost:8080/"
        },
        "id": "0iWWubYbrQWd",
        "outputId": "c7a69c02-2ce1-4e08-c4ce-1e8222506884"
      },
      "execution_count": null,
      "outputs": [
        {
          "output_type": "execute_result",
          "data": {
            "text/plain": [
              "(array([2., 3., 4., 5., 6., 7.]),\n",
              " tensor([1., 2., 3., 4., 5., 6.], dtype=torch.float64))"
            ]
          },
          "metadata": {},
          "execution_count": 183
        }
      ]
    },
    {
      "cell_type": "code",
      "source": [
        "# different: so they dont share the same memory:"
      ],
      "metadata": {
        "id": "qWHwgYkarqAK"
      },
      "execution_count": null,
      "outputs": []
    },
    {
      "cell_type": "markdown",
      "source": [
        "Tensor to Numpy array"
      ],
      "metadata": {
        "id": "w-iFGkvKr1Ai"
      }
    },
    {
      "cell_type": "code",
      "source": [
        "tensor = torch.ones(5)\n",
        "numpy_tensor = tensor.numpy()\n",
        "tensor,numpy_tensor"
      ],
      "metadata": {
        "colab": {
          "base_uri": "https://localhost:8080/"
        },
        "id": "-WhdIpckr4mb",
        "outputId": "68fa0111-2cd5-4bac-9c52-c6e836ca87e9"
      },
      "execution_count": null,
      "outputs": [
        {
          "output_type": "execute_result",
          "data": {
            "text/plain": [
              "(tensor([1., 1., 1., 1., 1.]), array([1., 1., 1., 1., 1.], dtype=float32))"
            ]
          },
          "metadata": {},
          "execution_count": 185
        }
      ]
    },
    {
      "cell_type": "code",
      "source": [
        "tensor.dtype,numpy_tensor.dtype\n",
        "# by default the numpy_array get assigned the default data type of tensor: float32."
      ],
      "metadata": {
        "colab": {
          "base_uri": "https://localhost:8080/"
        },
        "id": "uvUrEgDWr-5y",
        "outputId": "1cad0f17-1161-4a50-951d-7b7faf369a8c"
      },
      "execution_count": null,
      "outputs": [
        {
          "output_type": "execute_result",
          "data": {
            "text/plain": [
              "(torch.float32, dtype('float32'))"
            ]
          },
          "metadata": {},
          "execution_count": 186
        }
      ]
    },
    {
      "cell_type": "markdown",
      "source": [
        "## Reproducibility( random of random )"
      ],
      "metadata": {
        "id": "uGHGHMqKsEN2"
      }
    },
    {
      "cell_type": "code",
      "source": [
        "# if we want to fix the numerals in the random data:\n",
        "# create two random tensors:\n",
        "RANDOM_SEED = 42\n",
        "torch.manual_seed(RANDOM_SEED)\n",
        "y = torch.rand(2,4)\n",
        "torch.manual_seed(RANDOM_SEED)\n",
        "z = torch.rand(2,4)\n",
        "print(y==z)"
      ],
      "metadata": {
        "colab": {
          "base_uri": "https://localhost:8080/"
        },
        "id": "oVkgU0XRsSFe",
        "outputId": "228f72d6-e0e4-4854-ced1-5ebc9f0f32fc"
      },
      "execution_count": null,
      "outputs": [
        {
          "output_type": "stream",
          "name": "stdout",
          "text": [
            "tensor([[True, True, True, True],\n",
            "        [True, True, True, True]])\n"
          ]
        }
      ]
    },
    {
      "cell_type": "markdown",
      "source": [
        "## Running tensors and PyTorch objects on the GPUs(fast---- computing)"
      ],
      "metadata": {
        "id": "IWsgakyZsTdZ"
      }
    },
    {
      "cell_type": "code",
      "source": [
        "!nvidia-smi"
      ],
      "metadata": {
        "colab": {
          "base_uri": "https://localhost:8080/"
        },
        "id": "IBJyddSesT1e",
        "outputId": "913ab1a4-5db1-407f-e17a-426054bb1b47"
      },
      "execution_count": null,
      "outputs": [
        {
          "output_type": "stream",
          "name": "stdout",
          "text": [
            "Mon Jun 19 13:08:06 2023       \n",
            "+-----------------------------------------------------------------------------+\n",
            "| NVIDIA-SMI 525.85.12    Driver Version: 525.85.12    CUDA Version: 12.0     |\n",
            "|-------------------------------+----------------------+----------------------+\n",
            "| GPU  Name        Persistence-M| Bus-Id        Disp.A | Volatile Uncorr. ECC |\n",
            "| Fan  Temp  Perf  Pwr:Usage/Cap|         Memory-Usage | GPU-Util  Compute M. |\n",
            "|                               |                      |               MIG M. |\n",
            "|===============================+======================+======================|\n",
            "|   0  Tesla T4            Off  | 00000000:00:04.0 Off |                    0 |\n",
            "| N/A   42C    P8     9W /  70W |      0MiB / 15360MiB |      0%      Default |\n",
            "|                               |                      |                  N/A |\n",
            "+-------------------------------+----------------------+----------------------+\n",
            "                                                                               \n",
            "+-----------------------------------------------------------------------------+\n",
            "| Processes:                                                                  |\n",
            "|  GPU   GI   CI        PID   Type   Process name                  GPU Memory |\n",
            "|        ID   ID                                                   Usage      |\n",
            "|=============================================================================|\n",
            "|  No running processes found                                                 |\n",
            "+-----------------------------------------------------------------------------+\n"
          ]
        }
      ]
    },
    {
      "cell_type": "markdown",
      "source": [
        "# check for GPU access with pytorch"
      ],
      "metadata": {
        "id": "cpoST_98sUHj"
      }
    },
    {
      "cell_type": "code",
      "source": [
        "import torch\n",
        "torch.cuda.is_available()"
      ],
      "metadata": {
        "colab": {
          "base_uri": "https://localhost:8080/"
        },
        "id": "oXYUgjrOsUSp",
        "outputId": "13d67dc9-e0bf-40f5-ffd8-5288d535b098"
      },
      "execution_count": null,
      "outputs": [
        {
          "output_type": "execute_result",
          "data": {
            "text/plain": [
              "True"
            ]
          },
          "metadata": {},
          "execution_count": 2
        }
      ]
    },
    {
      "cell_type": "code",
      "source": [
        "# setup device agnostic code:\n",
        "device = \"cuda\" if torch.cuda.is_available() else \"cpu\"\n",
        "device"
      ],
      "metadata": {
        "colab": {
          "base_uri": "https://localhost:8080/",
          "height": 36
        },
        "id": "yCtdXu2csUfM",
        "outputId": "dea34d12-6e5c-4d8a-ff7b-1eb4d23cd841"
      },
      "execution_count": null,
      "outputs": [
        {
          "output_type": "execute_result",
          "data": {
            "text/plain": [
              "'cuda'"
            ],
            "application/vnd.google.colaboratory.intrinsic+json": {
              "type": "string"
            }
          },
          "metadata": {},
          "execution_count": 3
        }
      ]
    },
    {
      "cell_type": "code",
      "source": [
        "# counting the number of GPU\n",
        "torch.cuda.device_count()"
      ],
      "metadata": {
        "colab": {
          "base_uri": "https://localhost:8080/"
        },
        "id": "KegYffWNsStZ",
        "outputId": "918dfddb-374f-42ef-f369-937da1190ff9"
      },
      "execution_count": null,
      "outputs": [
        {
          "output_type": "execute_result",
          "data": {
            "text/plain": [
              "1"
            ]
          },
          "metadata": {},
          "execution_count": 5
        }
      ]
    },
    {
      "cell_type": "markdown",
      "source": [
        "## Putting the tensors/ models on the GPU\n",
        "- FASSSSSSSSST COMPUTING"
      ],
      "metadata": {
        "id": "svFQrqhdx6w4"
      }
    },
    {
      "cell_type": "code",
      "source": [
        "# create a tensor (default on cpu)\n",
        "tensor = torch.tensor([3,3,4,3])\n",
        "\n",
        "# tensor not on GPU\n",
        "print(tensor, tensor.device)"
      ],
      "metadata": {
        "colab": {
          "base_uri": "https://localhost:8080/"
        },
        "id": "zGBBd6TIyCeN",
        "outputId": "176494f4-6091-4bb4-e613-224e448b5ff4"
      },
      "execution_count": null,
      "outputs": [
        {
          "output_type": "stream",
          "name": "stdout",
          "text": [
            "tensor([3, 3, 4, 3]) cpu\n"
          ]
        }
      ]
    },
    {
      "cell_type": "code",
      "source": [
        "# Moving to GPU ( if available)\n",
        "tensor_on_gpu = tensor.to(device)\n",
        "tensor_on_gpu"
      ],
      "metadata": {
        "colab": {
          "base_uri": "https://localhost:8080/"
        },
        "id": "Hdn5TsjzySVf",
        "outputId": "f0ce88e9-e03f-4091-f46f-553fa066dca8"
      },
      "execution_count": null,
      "outputs": [
        {
          "output_type": "execute_result",
          "data": {
            "text/plain": [
              "tensor([3, 3, 4, 3], device='cuda:0')"
            ]
          },
          "metadata": {},
          "execution_count": 7
        }
      ]
    },
    {
      "cell_type": "markdown",
      "source": [
        "# Moving tensors back on CPU"
      ],
      "metadata": {
        "id": "XHRysHXwybFK"
      }
    },
    {
      "cell_type": "code",
      "source": [
        "tensor_on_gpu.numpy()\n",
        "# if a tensor is on GPU, cna't transform it to NumPy."
      ],
      "metadata": {
        "colab": {
          "base_uri": "https://localhost:8080/",
          "height": 183
        },
        "id": "AYiBgSULyhoe",
        "outputId": "4eaa0c47-0963-466c-b198-fc71b43cc7d4"
      },
      "execution_count": null,
      "outputs": [
        {
          "output_type": "error",
          "ename": "TypeError",
          "evalue": "ignored",
          "traceback": [
            "\u001b[0;31m---------------------------------------------------------------------------\u001b[0m",
            "\u001b[0;31mTypeError\u001b[0m                                 Traceback (most recent call last)",
            "\u001b[0;32m<ipython-input-8-e0c96c7436fd>\u001b[0m in \u001b[0;36m<cell line: 1>\u001b[0;34m()\u001b[0m\n\u001b[0;32m----> 1\u001b[0;31m \u001b[0mtensor_on_gpu\u001b[0m\u001b[0;34m.\u001b[0m\u001b[0mnumpy\u001b[0m\u001b[0;34m(\u001b[0m\u001b[0;34m)\u001b[0m\u001b[0;34m\u001b[0m\u001b[0;34m\u001b[0m\u001b[0m\n\u001b[0m",
            "\u001b[0;31mTypeError\u001b[0m: can't convert cuda:0 device type tensor to numpy. Use Tensor.cpu() to copy the tensor to host memory first."
          ]
        }
      ]
    },
    {
      "cell_type": "code",
      "source": [
        "# We first need to set the device to cpu:\n",
        "tensor_back_on_cpu = tensor_on_gpu.cpu().numpy()\n",
        "tensor_back_on_cpu"
      ],
      "metadata": {
        "colab": {
          "base_uri": "https://localhost:8080/"
        },
        "id": "nhxQs1EwylMl",
        "outputId": "4639e1e1-477a-4a2b-e296-487d63623d97"
      },
      "execution_count": null,
      "outputs": [
        {
          "output_type": "execute_result",
          "data": {
            "text/plain": [
              "array([3, 3, 4, 3])"
            ]
          },
          "metadata": {},
          "execution_count": 9
        }
      ]
    },
    {
      "cell_type": "markdown",
      "source": [
        "## Exercises and Extra-curricular:: Practice Module"
      ],
      "metadata": {
        "id": "mtsv-Dsay2Te"
      }
    },
    {
      "cell_type": "markdown",
      "source": [
        "00. PyTorch Fundamentals Exercises\n"
      ],
      "metadata": {
        "id": "nO4ZS4SIzBLV"
      }
    },
    {
      "cell_type": "markdown",
      "source": [
        "2. Create a random tensor with shape (7, 7)."
      ],
      "metadata": {
        "id": "TjS4Ex-wr92G"
      }
    },
    {
      "cell_type": "code",
      "source": [
        "import torch\n",
        "t1 = torch.rand(7,7)\n",
        "t1"
      ],
      "metadata": {
        "colab": {
          "base_uri": "https://localhost:8080/"
        },
        "id": "zd7ORX1XsDkl",
        "outputId": "4a4e1d8c-0004-4518-936b-aaf598495872"
      },
      "execution_count": 4,
      "outputs": [
        {
          "output_type": "execute_result",
          "data": {
            "text/plain": [
              "tensor([[0.2513, 0.6041, 0.9316, 0.8245, 0.6101, 0.7923, 0.7542],\n",
              "        [0.0924, 0.8685, 0.0132, 0.3041, 0.4978, 0.3740, 0.5849],\n",
              "        [0.1912, 0.2273, 0.2653, 0.2597, 0.4104, 0.4594, 0.8783],\n",
              "        [0.9660, 0.1202, 0.5389, 0.0574, 0.6336, 0.2540, 0.6160],\n",
              "        [0.2344, 0.0728, 0.4634, 0.1616, 0.8444, 0.9854, 0.0158],\n",
              "        [0.7262, 0.7256, 0.1179, 0.7026, 0.6488, 0.2399, 0.1973],\n",
              "        [0.9961, 0.4044, 0.9531, 0.0541, 0.3575, 0.8394, 0.0974]])"
            ]
          },
          "metadata": {},
          "execution_count": 4
        }
      ]
    },
    {
      "cell_type": "markdown",
      "source": [
        "3. Perform a matrix multiplication on the tensor from 2 with another random tensor with shape (1, 7) (hint: you may have to transpose the second tensor)."
      ],
      "metadata": {
        "id": "UrTTmYSssMED"
      }
    },
    {
      "cell_type": "code",
      "source": [
        "t2 = torch.rand(1,7)\n",
        "# perform matrix multiplication:\n",
        "t1.matmul(t2.T)"
      ],
      "metadata": {
        "colab": {
          "base_uri": "https://localhost:8080/"
        },
        "id": "iieEoSU_sazj",
        "outputId": "1fe82220-ca77-4798-bd7a-e90972308fdc"
      },
      "execution_count": 6,
      "outputs": [
        {
          "output_type": "execute_result",
          "data": {
            "text/plain": [
              "tensor([[1.5003],\n",
              "        [0.9487],\n",
              "        [0.9294],\n",
              "        [0.8744],\n",
              "        [0.5842],\n",
              "        [0.8229],\n",
              "        [0.9918]])"
            ]
          },
          "metadata": {},
          "execution_count": 6
        }
      ]
    },
    {
      "cell_type": "markdown",
      "source": [
        "4. Set the random seed to 0 and do 2 & 3 over again."
      ],
      "metadata": {
        "id": "qrNx_JkQshJd"
      }
    },
    {
      "cell_type": "code",
      "source": [
        "RANDOM_SEED = 0\n",
        "torch.manual_seed(RANDOM_SEED)\n",
        "t1 = torch.rand(7,7)\n",
        "t1\n"
      ],
      "metadata": {
        "colab": {
          "base_uri": "https://localhost:8080/"
        },
        "id": "nw0THTdZsuOl",
        "outputId": "7cea5eed-0bec-4589-e39c-bec4644dee2f"
      },
      "execution_count": 8,
      "outputs": [
        {
          "output_type": "execute_result",
          "data": {
            "text/plain": [
              "tensor([[0.4963, 0.7682, 0.0885, 0.1320, 0.3074, 0.6341, 0.4901],\n",
              "        [0.8964, 0.4556, 0.6323, 0.3489, 0.4017, 0.0223, 0.1689],\n",
              "        [0.2939, 0.5185, 0.6977, 0.8000, 0.1610, 0.2823, 0.6816],\n",
              "        [0.9152, 0.3971, 0.8742, 0.4194, 0.5529, 0.9527, 0.0362],\n",
              "        [0.1852, 0.3734, 0.3051, 0.9320, 0.1759, 0.2698, 0.1507],\n",
              "        [0.0317, 0.2081, 0.9298, 0.7231, 0.7423, 0.5263, 0.2437],\n",
              "        [0.5846, 0.0332, 0.1387, 0.2422, 0.8155, 0.7932, 0.2783]])"
            ]
          },
          "metadata": {},
          "execution_count": 8
        }
      ]
    },
    {
      "cell_type": "code",
      "source": [
        "torch.manual_seed(RANDOM_SEED)\n",
        "t2 = torch.rand(1,7)\n",
        "# perform matrix multiplication:\n",
        "t1.matmul(t2.T)"
      ],
      "metadata": {
        "colab": {
          "base_uri": "https://localhost:8080/"
        },
        "id": "YlpallPEs8gu",
        "outputId": "0f84a782-ab3a-42d5-e12b-c9f662d11db8"
      },
      "execution_count": 11,
      "outputs": [
        {
          "output_type": "execute_result",
          "data": {
            "text/plain": [
              "tensor([[1.5985],\n",
              "        [1.1173],\n",
              "        [1.2741],\n",
              "        [1.6838],\n",
              "        [0.8279],\n",
              "        [1.0347],\n",
              "        [1.2498]])"
            ]
          },
          "metadata": {},
          "execution_count": 11
        }
      ]
    },
    {
      "cell_type": "markdown",
      "source": [
        "5. Speaking of random seeds, we saw how to set it with torch.manual_seed() but is there a GPU equivalent? (hint: you'll need to look into the documentation for torch.cuda for this one)"
      ],
      "metadata": {
        "id": "QIWbRXmAtK3S"
      }
    },
    {
      "cell_type": "code",
      "source": [
        "# set random seed on the GPU\n",
        "SEED = 1234\n",
        "torch.cuda.manual_seed(SEED)"
      ],
      "metadata": {
        "id": "V8SQw5VPtT6H"
      },
      "execution_count": 12,
      "outputs": []
    },
    {
      "cell_type": "markdown",
      "source": [
        "6. Create two random tensors of shape (2, 3) and send them both to the GPU (you'll need access to a GPU for this). Set torch.manual_seed(1234) when creating the tensors (this doesn't have to be the GPU random seed). The output should be something like:\n",
        "\n",
        "Device: cuda\n",
        "```(tensor([[0.0290, 0.4019, 0.2598],\n",
        "         [0.3666, 0.0583, 0.7006]], device=\"cuda:0\"),\n",
        " tensor([[0.0518, 0.4681, 0.6738],\n",
        "         [0.3315, 0.7837, 0.5631]], device=\"cuda:0\"))```\n",
        ""
      ],
      "metadata": {
        "id": "_czzXM4-t97N"
      }
    },
    {
      "cell_type": "code",
      "source": [
        "# Set random seed\n",
        "SEED = 1234\n",
        "torch.manual_seed(SEED)\n",
        "t1 = torch.rand(2,3)\n",
        "t2 = torch.rand(2,3)\n",
        "t1,t2\n",
        "# Check for access to GPU\n",
        "\n",
        "# Create two random tensors on GPU"
      ],
      "metadata": {
        "colab": {
          "base_uri": "https://localhost:8080/"
        },
        "id": "QaI7PEdXuLum",
        "outputId": "ae4b3dc4-27df-411b-8168-4c1cb0af1a6b"
      },
      "execution_count": 15,
      "outputs": [
        {
          "output_type": "execute_result",
          "data": {
            "text/plain": [
              "(tensor([[0.0290, 0.4019, 0.2598],\n",
              "         [0.3666, 0.0583, 0.7006]]),\n",
              " tensor([[0.0518, 0.4681, 0.6738],\n",
              "         [0.3315, 0.7837, 0.5631]]))"
            ]
          },
          "metadata": {},
          "execution_count": 15
        }
      ]
    },
    {
      "cell_type": "code",
      "source": [
        "# setup device agnostic code:\n",
        "device = \"cuda\" if torch.cuda.is_available() else \"cpu\"\n",
        "device"
      ],
      "metadata": {
        "colab": {
          "base_uri": "https://localhost:8080/",
          "height": 36
        },
        "id": "33nQekAtvRG6",
        "outputId": "14f91faf-1d08-4c98-941d-9c3bfb7f3dbe"
      },
      "execution_count": 16,
      "outputs": [
        {
          "output_type": "execute_result",
          "data": {
            "text/plain": [
              "'cuda'"
            ],
            "application/vnd.google.colaboratory.intrinsic+json": {
              "type": "string"
            }
          },
          "metadata": {},
          "execution_count": 16
        }
      ]
    },
    {
      "cell_type": "code",
      "source": [
        "# Moving to GPU ( if available)\n",
        "device = \"cuda\"\n",
        "t1_on_gpu = t1.to(device)\n",
        "t2_on_gpu = t2.to(device)\n",
        "t1_on_gpu,t2_on_gpu"
      ],
      "metadata": {
        "colab": {
          "base_uri": "https://localhost:8080/"
        },
        "id": "c6hEoATRu9pg",
        "outputId": "ee0b8e78-e8be-4c1d-d59c-08c81aeb0eb9"
      },
      "execution_count": 19,
      "outputs": [
        {
          "output_type": "execute_result",
          "data": {
            "text/plain": [
              "(tensor([[0.0290, 0.4019, 0.2598],\n",
              "         [0.3666, 0.0583, 0.7006]], device='cuda:0'),\n",
              " tensor([[0.0518, 0.4681, 0.6738],\n",
              "         [0.3315, 0.7837, 0.5631]], device='cuda:0'))"
            ]
          },
          "metadata": {},
          "execution_count": 19
        }
      ]
    },
    {
      "cell_type": "markdown",
      "source": [
        "7. Perform a matrix multiplication on the tensors you created in 6 (again, you may have to adjust the shapes of one of the tensors)."
      ],
      "metadata": {
        "id": "m4CzsFmevUX-"
      }
    },
    {
      "cell_type": "code",
      "source": [
        "#perform matmul on the two tensors.\n",
        "t1_mat_t2 = t1_on_gpu.matmul(t2_on_gpu.T)\n",
        "t1_mat_t2"
      ],
      "metadata": {
        "colab": {
          "base_uri": "https://localhost:8080/"
        },
        "id": "gNEmnW64vn1u",
        "outputId": "6149708e-c649-4ec1-80c9-885c56d0c480"
      },
      "execution_count": 22,
      "outputs": [
        {
          "output_type": "execute_result",
          "data": {
            "text/plain": [
              "tensor([[0.3647, 0.4709],\n",
              "        [0.5184, 0.5617]], device='cuda:0')"
            ]
          },
          "metadata": {},
          "execution_count": 22
        }
      ]
    },
    {
      "cell_type": "markdown",
      "source": [
        "8. Find the maximum and minimum values of the output of 7.\n"
      ],
      "metadata": {
        "id": "a5xiH7hDvyIB"
      }
    },
    {
      "cell_type": "code",
      "source": [
        "# find max:\n",
        "t1_mat_t2.max()"
      ],
      "metadata": {
        "colab": {
          "base_uri": "https://localhost:8080/"
        },
        "id": "5TLzUUcBv3ky",
        "outputId": "7abc81c5-0cc7-4ab3-e29c-6f5787894b21"
      },
      "execution_count": 25,
      "outputs": [
        {
          "output_type": "execute_result",
          "data": {
            "text/plain": [
              "tensor(0.5617, device='cuda:0')"
            ]
          },
          "metadata": {},
          "execution_count": 25
        }
      ]
    },
    {
      "cell_type": "code",
      "source": [
        "# find min\n",
        "t1_mat_t2.min()"
      ],
      "metadata": {
        "colab": {
          "base_uri": "https://localhost:8080/"
        },
        "id": "-ugakEATwDg3",
        "outputId": "4ebade17-e48c-49d7-e5f1-5ec5005ce844"
      },
      "execution_count": 26,
      "outputs": [
        {
          "output_type": "execute_result",
          "data": {
            "text/plain": [
              "tensor(0.3647, device='cuda:0')"
            ]
          },
          "metadata": {},
          "execution_count": 26
        }
      ]
    },
    {
      "cell_type": "markdown",
      "source": [
        "9. Find the maximum and minimum index values of the output of 7."
      ],
      "metadata": {
        "id": "KcYg-ax7wLGr"
      }
    },
    {
      "cell_type": "code",
      "source": [
        "# find arg max:\n",
        "t1_mat_t2.argmax()"
      ],
      "metadata": {
        "colab": {
          "base_uri": "https://localhost:8080/"
        },
        "id": "xPkPMtI1wOB7",
        "outputId": "06dbe87b-fa5a-41ce-9963-d70aa4bb5ce4"
      },
      "execution_count": 28,
      "outputs": [
        {
          "output_type": "execute_result",
          "data": {
            "text/plain": [
              "tensor(3, device='cuda:0')"
            ]
          },
          "metadata": {},
          "execution_count": 28
        }
      ]
    },
    {
      "cell_type": "code",
      "source": [
        "# find arg min\n",
        "t1_mat_t2.argmin().item()"
      ],
      "metadata": {
        "colab": {
          "base_uri": "https://localhost:8080/"
        },
        "id": "8LxCiQOEwUKW",
        "outputId": "1e37cd69-5516-4f95-d00f-452e2cd0e110"
      },
      "execution_count": 30,
      "outputs": [
        {
          "output_type": "execute_result",
          "data": {
            "text/plain": [
              "0"
            ]
          },
          "metadata": {},
          "execution_count": 30
        }
      ]
    },
    {
      "cell_type": "markdown",
      "source": [
        "10. Make a random tensor with shape (1, 1, 1, 10) and then create a new tensor with all the 1 dimensions removed to be left with a tensor of shape (10). Set the seed to 7 when you create it and print out the first tensor and it's shape as well as the second tensor and it's shape.\n",
        "The output should look like:\n",
        "\n",
        "```\n",
        "tensor([[[[0.5349, 0.1988, 0.6592, 0.6569, 0.2328, 0.4251, 0.2071, 0.6297,\n",
        "           0.3653, 0.8513]]]]) torch.Size([1, 1, 1, 10])\n",
        "tensor([0.5349, 0.1988, 0.6592, 0.6569, 0.2328, 0.4251, 0.2071, 0.6297, 0.3653,\n",
        "        0.8513]) torch.Size([10])\n",
        "```"
      ],
      "metadata": {
        "id": "W830V6RiwctD"
      }
    },
    {
      "cell_type": "code",
      "source": [
        "SEED = 7\n",
        "torch.manual_seed(SEED)\n",
        "t3 = torch.rand(1,1,1,10)\n",
        "t3"
      ],
      "metadata": {
        "colab": {
          "base_uri": "https://localhost:8080/"
        },
        "id": "uQdMpasYwpdt",
        "outputId": "68fa321b-c4fe-4a85-d31e-95a5f1377804"
      },
      "execution_count": 32,
      "outputs": [
        {
          "output_type": "execute_result",
          "data": {
            "text/plain": [
              "tensor([[[[0.5349, 0.1988, 0.6592, 0.6569, 0.2328, 0.4251, 0.2071, 0.6297,\n",
              "           0.3653, 0.8513]]]])"
            ]
          },
          "metadata": {},
          "execution_count": 32
        }
      ]
    },
    {
      "cell_type": "code",
      "source": [
        "# REMOVE ALL SINGLE DIMENSIONS:\n",
        "t3.squeeze()"
      ],
      "metadata": {
        "colab": {
          "base_uri": "https://localhost:8080/"
        },
        "id": "1ojD3Aa8ww9h",
        "outputId": "a7feaddb-b121-480e-c6cd-0af6cfe126c1"
      },
      "execution_count": 33,
      "outputs": [
        {
          "output_type": "execute_result",
          "data": {
            "text/plain": [
              "tensor([0.5349, 0.1988, 0.6592, 0.6569, 0.2328, 0.4251, 0.2071, 0.6297, 0.3653,\n",
              "        0.8513])"
            ]
          },
          "metadata": {},
          "execution_count": 33
        }
      ]
    },
    {
      "cell_type": "code",
      "source": [
        "t3.shape, t3.squeeze().shape"
      ],
      "metadata": {
        "colab": {
          "base_uri": "https://localhost:8080/"
        },
        "id": "tdLUJq38xE6H",
        "outputId": "60b54c7a-5737-45a0-f717-370670578624"
      },
      "execution_count": 35,
      "outputs": [
        {
          "output_type": "execute_result",
          "data": {
            "text/plain": [
              "(torch.Size([1, 1, 1, 10]), torch.Size([10]))"
            ]
          },
          "metadata": {},
          "execution_count": 35
        }
      ]
    },
    {
      "cell_type": "markdown",
      "source": [
        " ## See the documentation on [torch.Tensor](https://pytorch.org/docs/stable/tensors.html#torch-tensor) and for [torch.cuda.](https://pytorch.org/docs/master/notes/cuda.html#cuda-semantics)"
      ],
      "metadata": {
        "id": "MtnrWlV-xLZF"
      }
    },
    {
      "cell_type": "code",
      "source": [],
      "metadata": {
        "id": "O9P3yrjNyf4P"
      },
      "execution_count": null,
      "outputs": []
    }
  ]
}