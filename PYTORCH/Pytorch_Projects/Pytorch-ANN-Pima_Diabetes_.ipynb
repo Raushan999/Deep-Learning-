{
 "cells": [
  {
   "cell_type": "markdown",
   "id": "a3dd9e7c",
   "metadata": {},
   "source": [
    "# Creating an ANN Using PyTorch"
   ]
  },
  {
   "cell_type": "code",
   "execution_count": 1,
   "id": "fb11f7ed",
   "metadata": {},
   "outputs": [],
   "source": [
    "import pandas as pd\n",
    "df = pd.read_csv('diabetes.csv')"
   ]
  },
  {
   "cell_type": "code",
   "execution_count": 2,
   "id": "33d289b2",
   "metadata": {},
   "outputs": [
    {
     "data": {
      "text/html": [
       "<div>\n",
       "<style scoped>\n",
       "    .dataframe tbody tr th:only-of-type {\n",
       "        vertical-align: middle;\n",
       "    }\n",
       "\n",
       "    .dataframe tbody tr th {\n",
       "        vertical-align: top;\n",
       "    }\n",
       "\n",
       "    .dataframe thead th {\n",
       "        text-align: right;\n",
       "    }\n",
       "</style>\n",
       "<table border=\"1\" class=\"dataframe\">\n",
       "  <thead>\n",
       "    <tr style=\"text-align: right;\">\n",
       "      <th></th>\n",
       "      <th>Pregnancies</th>\n",
       "      <th>Glucose</th>\n",
       "      <th>BloodPressure</th>\n",
       "      <th>SkinThickness</th>\n",
       "      <th>Insulin</th>\n",
       "      <th>BMI</th>\n",
       "      <th>DiabetesPedigreeFunction</th>\n",
       "      <th>Age</th>\n",
       "      <th>Outcome</th>\n",
       "    </tr>\n",
       "  </thead>\n",
       "  <tbody>\n",
       "    <tr>\n",
       "      <th>0</th>\n",
       "      <td>6</td>\n",
       "      <td>148</td>\n",
       "      <td>72</td>\n",
       "      <td>35</td>\n",
       "      <td>0</td>\n",
       "      <td>33.6</td>\n",
       "      <td>0.627</td>\n",
       "      <td>50</td>\n",
       "      <td>1</td>\n",
       "    </tr>\n",
       "    <tr>\n",
       "      <th>1</th>\n",
       "      <td>1</td>\n",
       "      <td>85</td>\n",
       "      <td>66</td>\n",
       "      <td>29</td>\n",
       "      <td>0</td>\n",
       "      <td>26.6</td>\n",
       "      <td>0.351</td>\n",
       "      <td>31</td>\n",
       "      <td>0</td>\n",
       "    </tr>\n",
       "    <tr>\n",
       "      <th>2</th>\n",
       "      <td>8</td>\n",
       "      <td>183</td>\n",
       "      <td>64</td>\n",
       "      <td>0</td>\n",
       "      <td>0</td>\n",
       "      <td>23.3</td>\n",
       "      <td>0.672</td>\n",
       "      <td>32</td>\n",
       "      <td>1</td>\n",
       "    </tr>\n",
       "    <tr>\n",
       "      <th>3</th>\n",
       "      <td>1</td>\n",
       "      <td>89</td>\n",
       "      <td>66</td>\n",
       "      <td>23</td>\n",
       "      <td>94</td>\n",
       "      <td>28.1</td>\n",
       "      <td>0.167</td>\n",
       "      <td>21</td>\n",
       "      <td>0</td>\n",
       "    </tr>\n",
       "    <tr>\n",
       "      <th>4</th>\n",
       "      <td>0</td>\n",
       "      <td>137</td>\n",
       "      <td>40</td>\n",
       "      <td>35</td>\n",
       "      <td>168</td>\n",
       "      <td>43.1</td>\n",
       "      <td>2.288</td>\n",
       "      <td>33</td>\n",
       "      <td>1</td>\n",
       "    </tr>\n",
       "  </tbody>\n",
       "</table>\n",
       "</div>"
      ],
      "text/plain": [
       "   Pregnancies  Glucose  BloodPressure  SkinThickness  Insulin   BMI  \\\n",
       "0            6      148             72             35        0  33.6   \n",
       "1            1       85             66             29        0  26.6   \n",
       "2            8      183             64              0        0  23.3   \n",
       "3            1       89             66             23       94  28.1   \n",
       "4            0      137             40             35      168  43.1   \n",
       "\n",
       "   DiabetesPedigreeFunction  Age  Outcome  \n",
       "0                     0.627   50        1  \n",
       "1                     0.351   31        0  \n",
       "2                     0.672   32        1  \n",
       "3                     0.167   21        0  \n",
       "4                     2.288   33        1  "
      ]
     },
     "execution_count": 2,
     "metadata": {},
     "output_type": "execute_result"
    }
   ],
   "source": [
    "df.head()"
   ]
  },
  {
   "cell_type": "code",
   "execution_count": 3,
   "id": "20d6d101",
   "metadata": {},
   "outputs": [
    {
     "data": {
      "text/plain": [
       "Pregnancies                 0\n",
       "Glucose                     0\n",
       "BloodPressure               0\n",
       "SkinThickness               0\n",
       "Insulin                     0\n",
       "BMI                         0\n",
       "DiabetesPedigreeFunction    0\n",
       "Age                         0\n",
       "Outcome                     0\n",
       "dtype: int64"
      ]
     },
     "execution_count": 3,
     "metadata": {},
     "output_type": "execute_result"
    }
   ],
   "source": [
    "df.isnull().sum()"
   ]
  },
  {
   "cell_type": "code",
   "execution_count": 4,
   "id": "b3b8ef2f",
   "metadata": {},
   "outputs": [],
   "source": [
    "#clearly no null values."
   ]
  },
  {
   "cell_type": "code",
   "execution_count": 5,
   "id": "242855f1",
   "metadata": {},
   "outputs": [],
   "source": [
    "# in order to do pair-plot we can use seaborn:\n",
    "# for that we need to change the hue = \"outcome\" in categorical feature(string)\n"
   ]
  },
  {
   "cell_type": "code",
   "execution_count": 6,
   "id": "bf9a6707",
   "metadata": {},
   "outputs": [],
   "source": [
    "# df['Outcome'] = np.where(df['Outcome']==1,\"Diabetic\",\"No Diabetic\")"
   ]
  },
  {
   "cell_type": "markdown",
   "id": "e08f1191",
   "metadata": {},
   "source": [
    "# Separating the independent and dependent features"
   ]
  },
  {
   "cell_type": "code",
   "execution_count": 7,
   "id": "b60cef45",
   "metadata": {},
   "outputs": [],
   "source": [
    "y = df['Outcome'].values\n",
    "x = df.drop('Outcome',axis=1).values\n"
   ]
  },
  {
   "cell_type": "code",
   "execution_count": 9,
   "id": "66bd6a43",
   "metadata": {},
   "outputs": [
    {
     "data": {
      "text/plain": [
       "((768, 8), (768,))"
      ]
     },
     "execution_count": 9,
     "metadata": {},
     "output_type": "execute_result"
    }
   ],
   "source": [
    "x.shape,y.shape"
   ]
  },
  {
   "cell_type": "markdown",
   "id": "0716a7dc",
   "metadata": {},
   "source": [
    "# Train-Test split"
   ]
  },
  {
   "cell_type": "code",
   "execution_count": 10,
   "id": "e3093cef",
   "metadata": {},
   "outputs": [],
   "source": [
    "from sklearn.model_selection import train_test_split\n",
    "x_train,x_test,y_train,y_test = train_test_split(x,y,test_size=0.2,random_state=0)"
   ]
  },
  {
   "cell_type": "markdown",
   "id": "bb3ecb1b",
   "metadata": {},
   "source": [
    "# Converting these data into Tensors"
   ]
  },
  {
   "cell_type": "code",
   "execution_count": 103,
   "id": "ef67368e",
   "metadata": {},
   "outputs": [],
   "source": [
    "# importing libraries from pytorch\n",
    "import torch\n",
    "import torch.nn as nn\n",
    "import torch.nn.functional as F"
   ]
  },
  {
   "cell_type": "code",
   "execution_count": 104,
   "id": "f89aa628",
   "metadata": {},
   "outputs": [],
   "source": [
    "# Creating tensors\n",
    "x_train = torch.FloatTensor(x_train)\n",
    "x_test = torch.FloatTensor(x_test)\n",
    "y_train = torch.LongTensor(y_train)\n",
    "y_test = torch.LongTensor(y_test)"
   ]
  },
  {
   "cell_type": "code",
   "execution_count": 105,
   "id": "15265b3a",
   "metadata": {},
   "outputs": [],
   "source": [
    "## creating the model with pytorch\n",
    "# for that we need to declare a class and it must inherit the nn.Module"
   ]
  },
  {
   "cell_type": "code",
   "execution_count": 106,
   "id": "56cf4c66",
   "metadata": {},
   "outputs": [
    {
     "data": {
      "text/plain": [
       "(768, 9)"
      ]
     },
     "execution_count": 106,
     "metadata": {},
     "output_type": "execute_result"
    }
   ],
   "source": [
    "df.shape\n",
    "# 8 independent features /input layer."
   ]
  },
  {
   "cell_type": "markdown",
   "id": "82263d96",
   "metadata": {},
   "source": [
    "__inside__ ```__init__()``` \n",
    "1. we used self to access all properties of its class\n",
    "2. We used keyword arguments to declare the number of input, hidden, output features.\n",
    "3. Output features = 2 --> we'll find the probability of each class: categorical_crossentropy.\n",
    "4. ```super().__init__()``` to get inherit everything from nn.Module class\n"
   ]
  },
  {
   "cell_type": "markdown",
   "id": "83bb1772",
   "metadata": {},
   "source": [
    "__inside__ ```forward()```\n",
    "1. we passed x which is the input features which will be used to find the gradients.\n",
    "2. .F function contains all the activaition functions like ```sigmoid```, ```relu```.\n",
    "3. Applied the relu activation function on fully-connected layer1 ( input-hidden1)\n",
    "4. On the output of the first layer,again applied relu.\n",
    "5. Finally fed the output of previous layers to output layer and returned it."
   ]
  },
  {
   "cell_type": "code",
   "execution_count": 135,
   "id": "59f54002",
   "metadata": {},
   "outputs": [],
   "source": [
    "# here we are inheriting everything from nn.Module class\n",
    "class ANN_Model(nn.Module):\n",
    "    def __init__(self,input_features=8,hidden1=20,hidden2=20,out_features=2):\n",
    "        super().__init__()\n",
    "        self.f_connect1 = nn.Linear(input_features,hidden1)\n",
    "        self.f_connect2 = nn.Linear(hidden1,hidden2)\n",
    "        self.out = nn.Linear(hidden2,out_features)\n",
    "        \n",
    "    #method:\n",
    "    def forward(self,x):\n",
    "        x = F.relu(self.f_connect1(x))\n",
    "        x = F.relu(self.f_connect2(x))\n",
    "        x = self.out(x)\n",
    "        return x"
   ]
  },
  {
   "cell_type": "code",
   "execution_count": 136,
   "id": "f4ac7191",
   "metadata": {},
   "outputs": [],
   "source": [
    "## instantiate ANN_Model\n",
    "# so that same weights get applied.\n",
    "torch.manual_seed(20) \n",
    "model = ANN_Model()"
   ]
  },
  {
   "cell_type": "code",
   "execution_count": 137,
   "id": "be719a4f",
   "metadata": {},
   "outputs": [
    {
     "data": {
      "text/plain": [
       "<bound method Module.parameters of ANN_Model(\n",
       "  (f_connect1): Linear(in_features=8, out_features=20, bias=True)\n",
       "  (f_connect2): Linear(in_features=20, out_features=20, bias=True)\n",
       "  (out): Linear(in_features=20, out_features=2, bias=True)\n",
       ")>"
      ]
     },
     "execution_count": 137,
     "metadata": {},
     "output_type": "execute_result"
    }
   ],
   "source": [
    "model.parameters\n",
    "# model parameters() are generators and they get passed one-by-one."
   ]
  },
  {
   "cell_type": "code",
   "execution_count": 138,
   "id": "340d3584",
   "metadata": {},
   "outputs": [],
   "source": [
    "# BackWard propagation: Loss_function, Optimizer\n",
    "loss_function = nn.CrossEntropyLoss()\n",
    "optimizer = torch.optim.Adam(model.parameters(),lr=0.01)"
   ]
  },
  {
   "cell_type": "markdown",
   "id": "04060cbb",
   "metadata": {},
   "source": [
    "Now our ```Model```, ```Loss_function```,```Optimizer``` are ready.\n",
    "We now need to trigger them"
   ]
  },
  {
   "cell_type": "markdown",
   "id": "62c5d7f2",
   "metadata": {},
   "source": [
    "What We did below:\n",
    "1. For performed forward<->backward prop for 100 iterations.\n",
    "2. Called the ```forward()`` method of ```model()``` with ```x_train``` as input.\n",
    "3. ....\n",
    "4. Reset the gradient = 0, before calculating new gradient for current iterations.\n",
    "5. Computed new_gradients with respect to the model parameters.\n",
    "6. Called ```.step()``` function to update the model params based on the computed gradients."
   ]
  },
  {
   "cell_type": "code",
   "execution_count": 139,
   "id": "37152e51",
   "metadata": {},
   "outputs": [
    {
     "name": "stdout",
     "output_type": "stream",
     "text": [
      "Epoch number is:1 and loss is: 3.4572105407714844\n",
      "Epoch number is:11 and loss is: 0.8019207715988159\n",
      "Epoch number is:21 and loss is: 0.609032154083252\n",
      "Epoch number is:31 and loss is: 0.5917771458625793\n",
      "Epoch number is:41 and loss is: 0.5679708123207092\n",
      "Epoch number is:51 and loss is: 0.5529041886329651\n",
      "Epoch number is:61 and loss is: 0.5410095453262329\n",
      "Epoch number is:71 and loss is: 0.5310389995574951\n",
      "Epoch number is:81 and loss is: 0.5220361351966858\n",
      "Epoch number is:91 and loss is: 0.5135971903800964\n"
     ]
    }
   ],
   "source": [
    "epochs = 100\n",
    "final_losses=[]\n",
    "for i in range(epochs):\n",
    "    y_pred = model.forward(x_train)\n",
    "    loss = loss_function(y_pred,y_train)\n",
    "    final_losses.append(loss.item())\n",
    "    if i%10 == 0:\n",
    "        print(\"Epoch number is:{} and loss is: {}\".format(i+1,loss.item()))\n",
    "    # grad=0, reset to 0,before calculating new grad in current epoch.\n",
    "    optimizer.zero_grad()\n",
    "    \n",
    "    #backward function: compute grad wrt model parameters.\n",
    "    loss.backward()\n",
    "    # step function called to update the model params based on computed grads.\n",
    "    optimizer.step()"
   ]
  },
  {
   "cell_type": "markdown",
   "id": "75bcbc80",
   "metadata": {},
   "source": [
    "# plotting the loss function"
   ]
  },
  {
   "cell_type": "code",
   "execution_count": 140,
   "id": "18e96225",
   "metadata": {},
   "outputs": [],
   "source": [
    "import matplotlib.pyplot as plt\n",
    "%matplotlib inline"
   ]
  },
  {
   "cell_type": "code",
   "execution_count": 141,
   "id": "29bb8e5b",
   "metadata": {},
   "outputs": [],
   "source": [
    "import numpy as np"
   ]
  },
  {
   "cell_type": "markdown",
   "id": "f338e8ee",
   "metadata": {},
   "source": [
    "# Mistake"
   ]
  },
  {
   "cell_type": "markdown",
   "id": "7d2aac50",
   "metadata": {},
   "source": [
    "While appending the losses to final_loss I was just using:\n",
    "    ```final_losses.apeend(loss)``` instead of ```loss.item()```.\n",
    "    So the final list was also having the gradient history. And I was \n",
    "    unable to plot it direclty. So using .item() we just take the ```Scalar``` value in the list"
   ]
  },
  {
   "cell_type": "code",
   "execution_count": 143,
   "id": "83499ba9",
   "metadata": {},
   "outputs": [
    {
     "data": {
      "image/png": "[encoded data removed]",
      "text/plain": [
       "<Figure size 432x288 with 1 Axes>"
      ]
     },
     "metadata": {
      "needs_background": "light"
     },
     "output_type": "display_data"
    }
   ],
   "source": [
    "plt.plot(range(epochs),final_losses)\n",
    "plt.ylabel('losses')\n",
    "plt.xlabel(\"epoch\")\n",
    "plt.show()"
   ]
  },
  {
   "cell_type": "code",
   "execution_count": 144,
   "id": "7edf38b0",
   "metadata": {},
   "outputs": [],
   "source": [
    "# Clearly we see that the Loss is decreasing"
   ]
  },
  {
   "cell_type": "markdown",
   "id": "367a5720",
   "metadata": {},
   "source": [
    "# Prediction on x_test data"
   ]
  },
  {
   "cell_type": "code",
   "execution_count": 153,
   "id": "896cc8f2",
   "metadata": {},
   "outputs": [
    {
     "name": "stdout",
     "output_type": "stream",
     "text": [
      "tensor([0.5537, 2.5778])\n",
      "tensor([-0.8834, -0.5931])\n",
      "tensor([1.0995, 1.1648])\n",
      "tensor([0.5773, 0.0471])\n",
      "tensor([ 1.1782, -0.2654])\n",
      "tensor([0.7982, 1.3615])\n",
      "tensor([-0.1447, -0.9190])\n",
      "tensor([1.4828, 0.6052])\n",
      "tensor([1.2350, 0.6157])\n",
      "tensor([1.4747, 0.7296])\n",
      "tensor([-0.8857, -2.5924])\n",
      "tensor([1.3045, 0.2050])\n",
      "tensor([1.3915, 0.6839])\n",
      "tensor([-0.4651,  0.0631])\n",
      "tensor([ 1.6942, -0.0674])\n",
      "tensor([ 1.3332, -0.0727])\n"
     ]
    }
   ],
   "source": [
    "with torch.no_grad(): #while prediciton, we don't require the gradients.\n",
    "    for i,data in enumerate(x_test): # for all the test data.\n",
    "        if i%10 == 0:\n",
    "            print(model(data))"
   ]
  },
  {
   "cell_type": "code",
   "execution_count": 154,
   "id": "f337cd39",
   "metadata": {},
   "outputs": [],
   "source": [
    "# but now we want to the output in terms of 0/1."
   ]
  },
  {
   "cell_type": "code",
   "execution_count": 160,
   "id": "f6ee57ca",
   "metadata": {},
   "outputs": [],
   "source": [
    "predictions = []\n",
    "with torch.no_grad():\n",
    "    for i, data in enumerate(x_test):\n",
    "        y_pred = model(data)\n",
    "        predictions.append(y_pred.argmax().item())\n",
    "      "
   ]
  },
  {
   "cell_type": "code",
   "execution_count": 168,
   "id": "d54c7b80",
   "metadata": {},
   "outputs": [],
   "source": [
    "# first N element of list = []:\n",
    "N = 10\n",
    "test_rest = predictions[:N]"
   ]
  },
  {
   "cell_type": "code",
   "execution_count": 169,
   "id": "a73cf621",
   "metadata": {},
   "outputs": [
    {
     "data": {
      "text/plain": [
       "[1, 0, 0, 0, 0, 0, 1, 0, 0, 1]"
      ]
     },
     "execution_count": 169,
     "metadata": {},
     "output_type": "execute_result"
    }
   ],
   "source": [
    "test_rest"
   ]
  },
  {
   "cell_type": "code",
   "execution_count": 170,
   "id": "6499a85d",
   "metadata": {},
   "outputs": [
    {
     "data": {
      "text/plain": [
       "array([[86, 21],\n",
       "       [23, 24]], dtype=int64)"
      ]
     },
     "execution_count": 170,
     "metadata": {},
     "output_type": "execute_result"
    }
   ],
   "source": [
    "# Checking the accuracy on the training data:\n",
    "from sklearn.metrics import confusion_matrix,accuracy_score\n",
    "cm = confusion_matrix(y_test,predictions)\n",
    "cm"
   ]
  },
  {
   "cell_type": "code",
   "execution_count": 172,
   "id": "0d96c37f",
   "metadata": {},
   "outputs": [
    {
     "data": {
      "text/plain": [
       "Text(33.0, 0.5, 'predicted value')"
      ]
     },
     "execution_count": 172,
     "metadata": {},
     "output_type": "execute_result"
    },
    {
     "data": {
      "image/png": "[encoded data removed]",
      "text/plain": [
       "<Figure size 432x216 with 2 Axes>"
      ]
     },
     "metadata": {
      "needs_background": "light"
     },
     "output_type": "display_data"
    }
   ],
   "source": [
    "import seaborn as sns\n",
    "plt.figure(figsize=(6,3))\n",
    "sns.heatmap(cm,annot=True)\n",
    "plt.xlabel('acutal value')\n",
    "plt.ylabel('predicted value')"
   ]
  },
  {
   "cell_type": "code",
   "execution_count": 173,
   "id": "bd5e18df",
   "metadata": {},
   "outputs": [
    {
     "data": {
      "text/plain": [
       "0.7142857142857143"
      ]
     },
     "execution_count": 173,
     "metadata": {},
     "output_type": "execute_result"
    }
   ],
   "source": [
    "acc = accuracy_score(y_test,predictions)\n",
    "acc"
   ]
  },
  {
   "cell_type": "markdown",
   "id": "dfaa7870",
   "metadata": {},
   "source": [
    "# save the model"
   ]
  },
  {
   "cell_type": "code",
   "execution_count": 175,
   "id": "e4a3b9e1",
   "metadata": {},
   "outputs": [],
   "source": [
    "torch.save(model,'diabetes.pt')\n",
    "# as pytorch file (.pt)"
   ]
  },
  {
   "cell_type": "code",
   "execution_count": 176,
   "id": "60a19347",
   "metadata": {},
   "outputs": [],
   "source": [
    "# load the file.\n",
    "model = torch.load('diabetes.pt')"
   ]
  },
  {
   "cell_type": "code",
   "execution_count": 178,
   "id": "af3319e6",
   "metadata": {},
   "outputs": [
    {
     "data": {
      "text/plain": [
       "ANN_Model(\n",
       "  (f_connect1): Linear(in_features=8, out_features=20, bias=True)\n",
       "  (f_connect2): Linear(in_features=20, out_features=20, bias=True)\n",
       "  (out): Linear(in_features=20, out_features=2, bias=True)\n",
       ")"
      ]
     },
     "execution_count": 178,
     "metadata": {},
     "output_type": "execute_result"
    }
   ],
   "source": [
    "model.eval()\n",
    "# we see the same model-parameters and fetures."
   ]
  },
  {
   "cell_type": "markdown",
   "id": "d2856821",
   "metadata": {},
   "source": [
    "## Prediction of new Data points"
   ]
  },
  {
   "cell_type": "code",
   "execution_count": 179,
   "id": "8cc22834",
   "metadata": {},
   "outputs": [],
   "source": [
    "# taking any random row.\n",
    "new_data = [6,150,72,45,0,39.6,0.627,40]"
   ]
  },
  {
   "cell_type": "code",
   "execution_count": 183,
   "id": "0ee7b907",
   "metadata": {},
   "outputs": [],
   "source": [
    "new_data_tens = torch.FloatTensor(new_data)"
   ]
  },
  {
   "cell_type": "code",
   "execution_count": 198,
   "id": "9bea20c9",
   "metadata": {},
   "outputs": [],
   "source": [
    "with torch.no_grad():\n",
    "    y_prediction = model(new_data_tens)"
   ]
  },
  {
   "cell_type": "code",
   "execution_count": 200,
   "id": "efec9a56",
   "metadata": {},
   "outputs": [
    {
     "data": {
      "text/plain": [
       "tensor([0.7484, 1.1948])"
      ]
     },
     "execution_count": 200,
     "metadata": {},
     "output_type": "execute_result"
    }
   ],
   "source": [
    "y_prediction "
   ]
  },
  {
   "cell_type": "code",
   "execution_count": 201,
   "id": "f77397c9",
   "metadata": {},
   "outputs": [
    {
     "data": {
      "text/plain": [
       "tensor([0.7484, 1.1948])"
      ]
     },
     "execution_count": 201,
     "metadata": {},
     "output_type": "execute_result"
    }
   ],
   "source": [
    "y_prediction"
   ]
  },
  {
   "cell_type": "code",
   "execution_count": 204,
   "id": "8ea22cbf",
   "metadata": {},
   "outputs": [],
   "source": [
    "# we can also access any row data:\n",
    "row_data = df.iloc[0,:-1]\n",
    "lst1  = list(row_data)"
   ]
  },
  {
   "cell_type": "code",
   "execution_count": 205,
   "id": "73ad7c56",
   "metadata": {},
   "outputs": [
    {
     "data": {
      "text/plain": [
       "[6.0, 148.0, 72.0, 35.0, 0.0, 33.6, 0.627, 50.0]"
      ]
     },
     "execution_count": 205,
     "metadata": {},
     "output_type": "execute_result"
    }
   ],
   "source": [
    "lst1"
   ]
  },
  {
   "cell_type": "code",
   "execution_count": 206,
   "id": "3ff56684",
   "metadata": {},
   "outputs": [],
   "source": [
    "# converting to tensor.\n",
    "new_data = torch.tensor(lst1)"
   ]
  },
  {
   "cell_type": "code",
   "execution_count": 207,
   "id": "9aedf7ba",
   "metadata": {},
   "outputs": [
    {
     "name": "stdout",
     "output_type": "stream",
     "text": [
      "tensor([0.7484, 1.1948])\n",
      "1\n"
     ]
    }
   ],
   "source": [
    "# prediction\n",
    "with torch.no_grad():\n",
    "    print(model(new_data))\n",
    "    print(new_data.argmax().item())"
   ]
  },
  {
   "cell_type": "code",
   "execution_count": 208,
   "id": "68f07160",
   "metadata": {},
   "outputs": [],
   "source": [
    "# 1st class is the output, means person is diabetic."
   ]
  },
  {
   "cell_type": "code",
   "execution_count": null,
   "id": "efba5184",
   "metadata": {},
   "outputs": [],
   "source": []
  },
  {
   "cell_type": "code",
   "execution_count": null,
   "id": "318a1f65",
   "metadata": {},
   "outputs": [],
   "source": []
  }
 ],
 "metadata": {
  "kernelspec": {
   "display_name": "Python 3 (ipykernel)",
   "language": "python",
   "name": "python3"
  },
  "language_info": {
   "codemirror_mode": {
    "name": "ipython",
    "version": 3
   },
   "file_extension": ".py",
   "mimetype": "text/x-python",
   "name": "python",
   "nbconvert_exporter": "python",
   "pygments_lexer": "ipython3",
   "version": "3.10.5"
  }
 },
 "nbformat": 4,
 "nbformat_minor": 5
}
