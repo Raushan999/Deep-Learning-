{
 "cells": [
  {
   "cell_type": "markdown",
   "id": "217ff353",
   "metadata": {},
   "source": [
    "# Building a simple linear regression model using PyTorch"
   ]
  },
  {
   "cell_type": "markdown",
   "id": "75236b9a",
   "metadata": {},
   "source": [
    "## Steps\n",
    "1. Design model (input, output size, forward pass)\n",
    "2. Construct loss and optimizer\n",
    "3. Training Loop\n",
    " - forward pass: computing prediction and loss\n",
    " - backward pass: gradients\n",
    " - update weights"
   ]
  },
  {
   "cell_type": "code",
   "execution_count": 1,
   "id": "cc2cdf93",
   "metadata": {},
   "outputs": [],
   "source": [
    "# importing basic dependencies\n",
    "import torch\n",
    "import torch.nn as nn\n",
    "import numpy as np\n",
    "from sklearn import datasets\n",
    "import matplotlib.pyplot as plt"
   ]
  },
  {
   "cell_type": "markdown",
   "id": "bf4c233c",
   "metadata": {},
   "source": [
    "# steps: \n",
    "0. Prepare Data\n"
   ]
  },
  {
   "cell_type": "code",
   "execution_count": 2,
   "id": "45026053",
   "metadata": {},
   "outputs": [],
   "source": [
    "x_numpy, y_numpy = datasets.make_regression(n_samples=100,n_features=1,noise=20,random_state=1)\n",
    "# numpy array --> tensor data (float type)\n",
    "x = torch.from_numpy(x_numpy.astype(np.float32))\n",
    "y = torch.from_numpy(y_numpy.astype(np.float32))\n"
   ]
  },
  {
   "cell_type": "code",
   "execution_count": 5,
   "id": "fd0a6fc6",
   "metadata": {},
   "outputs": [
    {
     "data": {
      "text/plain": [
       "(torch.Size([100, 1]), torch.Size([100]))"
      ]
     },
     "execution_count": 5,
     "metadata": {},
     "output_type": "execute_result"
    }
   ],
   "source": [
    "x.shape,y.shape"
   ]
  },
  {
   "cell_type": "code",
   "execution_count": 6,
   "id": "77baf09e",
   "metadata": {},
   "outputs": [],
   "source": [
    "# changing y as column form 100*1\n",
    "y = y.view(y.shape[0],1) # [0]--> 100 , 1 --> no of columns."
   ]
  },
  {
   "cell_type": "code",
   "execution_count": 7,
   "id": "4238d5ee",
   "metadata": {},
   "outputs": [
    {
     "data": {
      "text/plain": [
       "torch.Size([100, 1])"
      ]
     },
     "execution_count": 7,
     "metadata": {},
     "output_type": "execute_result"
    }
   ],
   "source": [
    "y.shape"
   ]
  },
  {
   "cell_type": "code",
   "execution_count": 8,
   "id": "06dbdf0f",
   "metadata": {},
   "outputs": [],
   "source": [
    "n_samples, n_features = x.shape"
   ]
  },
  {
   "cell_type": "code",
   "execution_count": null,
   "id": "56b40f34",
   "metadata": {},
   "outputs": [],
   "source": []
  },
  {
   "cell_type": "markdown",
   "id": "9d75f751",
   "metadata": {},
   "source": [
    "# 1. Model"
   ]
  },
  {
   "cell_type": "code",
   "execution_count": 10,
   "id": "99481596",
   "metadata": {},
   "outputs": [],
   "source": [
    "# Model building.\n",
    "input_size = n_features\n",
    "output_size = 1\n",
    "model = nn.Linear(input_size,output_size)"
   ]
  },
  {
   "cell_type": "markdown",
   "id": "7e18b041",
   "metadata": {},
   "source": [
    "# 2. Loss and Optimizers"
   ]
  },
  {
   "cell_type": "code",
   "execution_count": 11,
   "id": "018a0362",
   "metadata": {},
   "outputs": [],
   "source": [
    "# loss function\n",
    "criterion = nn.MSELoss()\n",
    "learning_rate = 0.01\n",
    "# optimizer\n",
    "optimizer = torch.optim.SGD(model.parameters(),lr=learning_rate)"
   ]
  },
  {
   "cell_type": "markdown",
   "id": "719b0fc7",
   "metadata": {},
   "source": [
    "# 3.Training Loop"
   ]
  },
  {
   "cell_type": "markdown",
   "id": "1473bf53",
   "metadata": {},
   "source": [
    "1. Forward Pass\n",
    "2. Backward Pass\n",
    "3. Update weights"
   ]
  },
  {
   "cell_type": "code",
   "execution_count": null,
   "id": "edeed50f",
   "metadata": {},
   "outputs": [],
   "source": []
  },
  {
   "cell_type": "code",
   "execution_count": 32,
   "id": "60f59098",
   "metadata": {},
   "outputs": [
    {
     "name": "stdout",
     "output_type": "stream",
     "text": [
      "epoch: 1, w=24.144067764282227,l=3109.32666\n",
      "epoch: 11, w=32.71372985839844,l=2348.36694\n",
      "epoch: 21, w=40.017948150634766,l=1797.14050\n",
      "epoch: 31, w=46.24480056762695,l=1397.44861\n",
      "epoch: 41, w=51.55418014526367,l=1107.37073\n",
      "epoch: 51, w=56.08208084106445,l=896.66882\n",
      "epoch: 61, w=59.944183349609375,l=743.50482\n",
      "epoch: 71, w=63.23892593383789,l=632.08740\n",
      "epoch: 81, w=66.05010223388672,l=550.98511\n",
      "epoch: 91, w=68.44904327392578,l=491.91406\n"
     ]
    }
   ],
   "source": [
    "n_iters = 100\n",
    "x_test = torch.tensor(4.,dtype=torch.float32)\n",
    "for epoch in range(n_iters):\n",
    "    # forward pass\n",
    "    y_pred = model(x)\n",
    "    # loss\n",
    "    l = criterion(y_pred,y)\n",
    "    # backward pass\n",
    "    l.backward()\n",
    "    # update the weights.\n",
    "    optimizer.step()\n",
    "    # stopping gradient accumulation: otw it will accumulate in .grad data.\n",
    "    optimizer.zero_grad()\n",
    "    \n",
    "    if epoch % 10 == 0:\n",
    "        [w,b] = model.parameters()\n",
    "        print(f'epoch: {epoch+1}, w={w[0][0]},l={l.item():.5f}')\n",
    "  \n"
   ]
  },
  {
   "cell_type": "markdown",
   "id": "559f2ac6",
   "metadata": {},
   "source": [
    "# plot"
   ]
  },
  {
   "cell_type": "code",
   "execution_count": 33,
   "id": "5137eff2",
   "metadata": {},
   "outputs": [
    {
     "data": {
      "image/png": "[encoded data removed]",
      "text/plain": [
       "<Figure size 432x288 with 1 Axes>"
      ]
     },
     "metadata": {
      "needs_background": "light"
     },
     "output_type": "display_data"
    }
   ],
   "source": [
    "# now we don't want the gradient-item to be true.\n",
    "predicted = model(x).detach()\n",
    "predicted = predicted.numpy() # converted to numpy\n",
    "plt.plot(x_numpy,y_numpy,'ro') # original dataset\n",
    "plt.plot(x_numpy,predicted,'b') # vs predicted\n",
    "plt.show()\n"
   ]
  },
  {
   "cell_type": "markdown",
   "id": "2f69ae6f",
   "metadata": {},
   "source": [
    "# Logistic Regression"
   ]
  },
  {
   "cell_type": "markdown",
   "id": "9fe68a1d",
   "metadata": {},
   "source": [
    "## 0. Dataset preparation"
   ]
  },
  {
   "cell_type": "code",
   "execution_count": 40,
   "id": "0a962e2a",
   "metadata": {},
   "outputs": [],
   "source": [
    "from sklearn.preprocessing import StandardScaler\n",
    "from sklearn.model_selection import train_test_split"
   ]
  },
  {
   "cell_type": "code",
   "execution_count": 46,
   "id": "481bc2b3",
   "metadata": {},
   "outputs": [],
   "source": [
    "bc = datasets.load_breast_cancer()"
   ]
  },
  {
   "cell_type": "code",
   "execution_count": 50,
   "id": "57f5ed50",
   "metadata": {},
   "outputs": [],
   "source": [
    "x,y = bc.data,bc.target"
   ]
  },
  {
   "cell_type": "code",
   "execution_count": 51,
   "id": "a273863e",
   "metadata": {},
   "outputs": [],
   "source": [
    "n_samples,n_features = x.shape"
   ]
  },
  {
   "cell_type": "code",
   "execution_count": 54,
   "id": "68d8403a",
   "metadata": {},
   "outputs": [
    {
     "data": {
      "text/plain": [
       "(569, 30)"
      ]
     },
     "execution_count": 54,
     "metadata": {},
     "output_type": "execute_result"
    }
   ],
   "source": [
    "n_samples,n_features"
   ]
  },
  {
   "cell_type": "code",
   "execution_count": 55,
   "id": "b99f3c8f",
   "metadata": {},
   "outputs": [],
   "source": [
    "x_train,x_test,y_train,y_test = train_test_split(x,y,test_size=0.2,random_state=1234)"
   ]
  },
  {
   "cell_type": "code",
   "execution_count": 59,
   "id": "5ec3c1f7",
   "metadata": {},
   "outputs": [],
   "source": [
    "# scaling the data\n",
    "sc = StandardScaler()\n",
    "x_train = sc.fit_transform(x_train)\n",
    "x_test = sc.transform(x_test)"
   ]
  },
  {
   "cell_type": "code",
   "execution_count": 60,
   "id": "ff24ed55",
   "metadata": {},
   "outputs": [],
   "source": [
    "# converting numpy to torch tensors.\n",
    "x_train = torch.from_numpy(x_train.astype(np.float32))\n",
    "y_train = torch.from_numpy(y_train.astype(np.float32))\n",
    "x_test = torch.from_numpy(x_test.astype(np.float32))\n",
    "y_test = torch.from_numpy(y_test.astype(np.float32))"
   ]
  },
  {
   "cell_type": "code",
   "execution_count": 63,
   "id": "35e46e7f",
   "metadata": {},
   "outputs": [
    {
     "data": {
      "text/plain": [
       "torch.Size([455])"
      ]
     },
     "execution_count": 63,
     "metadata": {},
     "output_type": "execute_result"
    }
   ],
   "source": [
    "y_train.shape \n",
    "# it has to be converted to column vector"
   ]
  },
  {
   "cell_type": "code",
   "execution_count": 70,
   "id": "bd3542c0",
   "metadata": {},
   "outputs": [],
   "source": [
    "y_train = y_train.view(y_train.shape[0],1)\n",
    "y_test = y_test.view(y_test.shape[0],1)"
   ]
  },
  {
   "cell_type": "code",
   "execution_count": 71,
   "id": "a67a7724",
   "metadata": {},
   "outputs": [
    {
     "data": {
      "text/plain": [
       "(torch.Size([455, 1]), torch.Size([114, 1]))"
      ]
     },
     "execution_count": 71,
     "metadata": {},
     "output_type": "execute_result"
    }
   ],
   "source": [
    "y_train.shape,y_test.shape"
   ]
  },
  {
   "cell_type": "markdown",
   "id": "86ec9fd3",
   "metadata": {},
   "source": [
    "# 1. Model building"
   ]
  },
  {
   "cell_type": "code",
   "execution_count": 88,
   "id": "92e1342b",
   "metadata": {},
   "outputs": [],
   "source": [
    "# f = wx + b, sigmoid activation function at end\n",
    "# n_features = 30 \n",
    "class LogisticRegression(nn.Module):\n",
    "    def __init__(self,n_input_features):\n",
    "        super(LogisticRegression,self).__init__()\n",
    "        self.linear = nn.Linear(n_input_features,1)\n",
    "    \n",
    "    def forward(self,x):\n",
    "        y_pred = torch.sigmoid(self.linear(x))\n",
    "        return y_pred\n",
    "\n",
    "model = LogisticRegression(n_features)"
   ]
  },
  {
   "cell_type": "markdown",
   "id": "313504e5",
   "metadata": {},
   "source": [
    "# 3.Loss and optimizer"
   ]
  },
  {
   "cell_type": "code",
   "execution_count": 89,
   "id": "180544f9",
   "metadata": {},
   "outputs": [],
   "source": [
    "#### classification problem with binary output.(0/1)\n",
    "learning_rate = 0.01\n",
    "criterion = nn.BCELoss()\n",
    "optimizer = torch.optim.SGD(model.parameters(),lr=learning_rate)"
   ]
  },
  {
   "cell_type": "markdown",
   "id": "5f45ac77",
   "metadata": {},
   "source": [
    "# 4.Training Loop"
   ]
  },
  {
   "cell_type": "code",
   "execution_count": 90,
   "id": "a3be8e21",
   "metadata": {},
   "outputs": [
    {
     "name": "stdout",
     "output_type": "stream",
     "text": [
      "epoch: 6,loss=0.7673\n",
      "epoch: 12,loss=0.6417\n",
      "epoch: 18,loss=0.5545\n",
      "epoch: 24,loss=0.4922\n",
      "epoch: 30,loss=0.4458\n",
      "epoch: 36,loss=0.4099\n",
      "epoch: 42,loss=0.3812\n",
      "epoch: 48,loss=0.3577\n",
      "epoch: 54,loss=0.3379\n",
      "epoch: 60,loss=0.3212\n",
      "epoch: 66,loss=0.3066\n",
      "epoch: 72,loss=0.2939\n",
      "epoch: 78,loss=0.2827\n",
      "epoch: 84,loss=0.2727\n",
      "epoch: 90,loss=0.2637\n",
      "epoch: 96,loss=0.2555\n"
     ]
    }
   ],
   "source": [
    "num_epochs = 100\n",
    "for epoch in range(num_epochs):\n",
    "    \n",
    "    #forward prop\n",
    "    y_pred = model(x_train)\n",
    "    \n",
    "    #loss\n",
    "    loss = criterion(y_pred,y_train)\n",
    "    \n",
    "    #backward\n",
    "    loss.backward()\n",
    "    \n",
    "    #updates weight\n",
    "    optimizer.step()\n",
    "    \n",
    "    #zero gradient\n",
    "    optimizer.zero_grad()\n",
    "    \n",
    "    if (epoch+1)%6 == 0:\n",
    "        print(f'epoch: {epoch+1},loss={loss.item():.4f}' )"
   ]
  },
  {
   "cell_type": "markdown",
   "id": "caf633b8",
   "metadata": {},
   "source": [
    "# Model evaluation"
   ]
  },
  {
   "cell_type": "code",
   "execution_count": 91,
   "id": "06ed259d",
   "metadata": {},
   "outputs": [
    {
     "name": "stdout",
     "output_type": "stream",
     "text": [
      "accuracy: 0.9035\n"
     ]
    }
   ],
   "source": [
    "# Evaluation should not be the part of history of the computaion like the gradients calculated.\n",
    "## So\n",
    "with torch.no_grad():\n",
    "    y_pred = model(x_test)\n",
    "    pred_class = y_pred.round()\n",
    "    acc = pred_class.eq(y_test).sum()/float(y_test.shape[0]) \n",
    "    print(f'accuracy: {acc:.4f}')"
   ]
  },
  {
   "cell_type": "markdown",
   "id": "db5cfe97",
   "metadata": {},
   "source": [
    "# Simply We can see the accuracy using confusion matrix"
   ]
  },
  {
   "cell_type": "code",
   "execution_count": 94,
   "id": "1859145f",
   "metadata": {},
   "outputs": [],
   "source": [
    "#confusion matrix:\n",
    "from sklearn.metrics import confusion_matrix\n",
    "# Convert predicted probabilities to binary labels\n",
    "y_pred_binary = np.where(y_pred >= 0.5, 1, 0)\n",
    "# Compute the confusion matrix\n",
    "cm = confusion_matrix(y_test, y_pred_binary)"
   ]
  },
  {
   "cell_type": "code",
   "execution_count": 95,
   "id": "bea7d883",
   "metadata": {},
   "outputs": [
    {
     "data": {
      "text/plain": [
       "array([[36,  9],\n",
       "       [ 2, 67]], dtype=int64)"
      ]
     },
     "execution_count": 95,
     "metadata": {},
     "output_type": "execute_result"
    }
   ],
   "source": [
    "cm"
   ]
  },
  {
   "cell_type": "code",
   "execution_count": null,
   "id": "a7f0d7bc",
   "metadata": {},
   "outputs": [],
   "source": []
  },
  {
   "cell_type": "code",
   "execution_count": null,
   "id": "8d93ceb7",
   "metadata": {},
   "outputs": [],
   "source": []
  }
 ],
 "metadata": {
  "kernelspec": {
   "display_name": "Python 3 (ipykernel)",
   "language": "python",
   "name": "python3"
  },
  "language_info": {
   "codemirror_mode": {
    "name": "ipython",
    "version": 3
   },
   "file_extension": ".py",
   "mimetype": "text/x-python",
   "name": "python",
   "nbconvert_exporter": "python",
   "pygments_lexer": "ipython3",
   "version": "3.10.5"
  }
 },
 "nbformat": 4,
 "nbformat_minor": 5
}
