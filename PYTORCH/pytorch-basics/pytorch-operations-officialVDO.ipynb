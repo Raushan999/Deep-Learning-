{
 "cells": [
  {
   "cell_type": "markdown",
   "id": "2190841b",
   "metadata": {},
   "source": [
    "# Creating tensors"
   ]
  },
  {
   "cell_type": "markdown",
   "id": "677756fa",
   "metadata": {},
   "source": [
    "simplest way to create tensors is ```torch.empty()``` function call:"
   ]
  },
  {
   "cell_type": "code",
   "execution_count": 3,
   "id": "1c1cbdd9",
   "metadata": {},
   "outputs": [],
   "source": [
    "import torch"
   ]
  },
  {
   "cell_type": "code",
   "execution_count": 4,
   "id": "af75f97d",
   "metadata": {},
   "outputs": [
    {
     "name": "stdout",
     "output_type": "stream",
     "text": [
      "<class 'torch.Tensor'>\n",
      "tensor([[-2.9028e-33,  7.3428e-43, -2.9028e-33],\n",
      "        [ 7.3428e-43, -2.8765e-33,  7.3428e-43]])\n"
     ]
    }
   ],
   "source": [
    "x = torch.empty(2,3)\n",
    "print(type(x))\n",
    "print(x)"
   ]
  },
  {
   "cell_type": "markdown",
   "id": "a4b90281",
   "metadata": {},
   "source": [
    "What we did just now\n",
    "- Torch.empty() doesnot initialize x with any values. They are just random memory allocation\n",
    "- 1-D tensor is vector\n",
    "- 2-D tensor is matrix and rest simply called tensor"
   ]
  },
  {
   "cell_type": "code",
   "execution_count": 8,
   "id": "732076f3",
   "metadata": {},
   "outputs": [
    {
     "name": "stdout",
     "output_type": "stream",
     "text": [
      "tensor([[0., 0., 0., 0.],\n",
      "        [0., 0., 0., 0.],\n",
      "        [0., 0., 0., 0.]])\n",
      "tensor([[1., 1.],\n",
      "        [1., 1.],\n",
      "        [1., 1.]])\n"
     ]
    }
   ],
   "source": [
    "zeros = torch.zeros(3,4)\n",
    "print(zeros)\n",
    "ones = torch.ones(3,2)\n",
    "print(ones)\n"
   ]
  },
  {
   "cell_type": "code",
   "execution_count": 16,
   "id": "1d36806b",
   "metadata": {},
   "outputs": [
    {
     "name": "stdout",
     "output_type": "stream",
     "text": [
      "tensor([[0.2961, 0.5166, 0.2517],\n",
      "        [0.6886, 0.0740, 0.8665]])\n"
     ]
    }
   ],
   "source": [
    "torch.manual_seed(123) # same as random state: to prevent rand() function from changing values after each iteration.\n",
    "random=torch.rand(2,3)\n",
    "print(random)"
   ]
  },
  {
   "cell_type": "code",
   "execution_count": 17,
   "id": "22df99f5",
   "metadata": {},
   "outputs": [],
   "source": [
    "# While performing tensors operation: the shape must be taken care of"
   ]
  },
  {
   "cell_type": "code",
   "execution_count": 53,
   "id": "5e1dc79d",
   "metadata": {},
   "outputs": [
    {
     "name": "stdout",
     "output_type": "stream",
     "text": [
      "torch.Size([2, 2, 3])\n",
      "tensor([[[0., 0., 0.],\n",
      "         [0., 0., 0.]],\n",
      "\n",
      "        [[0., 0., 0.],\n",
      "         [0., 0., 0.]]])\n",
      "tensor([[[0., 0., 0.],\n",
      "         [0., 0., 0.]],\n",
      "\n",
      "        [[0., 0., 0.],\n",
      "         [0., 0., 0.]]])\n"
     ]
    }
   ],
   "source": [
    "x = torch.empty(2,2,3)\n",
    "print(x.shape)\n",
    "\n",
    "empty_like_x = torch.empty_like(x)\n",
    "print(empty_like_x)\n",
    "\n",
    "zeros_like_x = torch.zeros_like(x)\n",
    "print(zeros_like_x)"
   ]
  },
  {
   "cell_type": "markdown",
   "id": "9d1c3d89",
   "metadata": {},
   "source": [
    "Tensor Data Types \n",
    "=="
   ]
  },
  {
   "cell_type": "code",
   "execution_count": 60,
   "id": "4223149e",
   "metadata": {},
   "outputs": [
    {
     "name": "stdout",
     "output_type": "stream",
     "text": [
      "tensor([[1, 1],\n",
      "        [1, 1],\n",
      "        [1, 1]], dtype=torch.int16)\n"
     ]
    }
   ],
   "source": [
    "# setting the data-type in advance\n",
    "a = torch.ones((3,2),dtype=torch.int16)\n",
    "print(a)"
   ]
  },
  {
   "cell_type": "code",
   "execution_count": 62,
   "id": "2dc9f729",
   "metadata": {},
   "outputs": [
    {
     "name": "stdout",
     "output_type": "stream",
     "text": [
      "tensor([[ 9.2400,  2.7271, 19.0301],\n",
      "        [ 8.7879, 15.1914, 19.6322],\n",
      "        [13.6425, 14.6447, 22.6005]])\n"
     ]
    }
   ],
   "source": [
    "b = torch.rand((3,3),dtype=torch.float32)*23\n",
    "print(b)"
   ]
  },
  {
   "cell_type": "code",
   "execution_count": 63,
   "id": "c40420a3",
   "metadata": {},
   "outputs": [
    {
     "name": "stdout",
     "output_type": "stream",
     "text": [
      "tensor([[ 9,  2, 19],\n",
      "        [ 8, 15, 19],\n",
      "        [13, 14, 22]], dtype=torch.int32)\n"
     ]
    }
   ],
   "source": [
    "# converting the above b data-type to 32-bit integer\n",
    "c = b.to(torch.int32)\n",
    "print(c) # gives the integer value of the data."
   ]
  },
  {
   "cell_type": "markdown",
   "id": "3133fb23",
   "metadata": {},
   "source": [
    "Available datatypes are:\n",
    "\n",
    "```torch.bool ```\n",
    "```torch.int8 ```\n",
    "```torch.int32 ```\n",
    "```torch.int64 ```\n",
    "```torch.float ```\n",
    "```torch.double ```\n",
    "```torch.bfloat ```\n",
    "```torch.half ```\n",
    "```torch.uint8 ```"
   ]
  },
  {
   "cell_type": "markdown",
   "id": "675315dc",
   "metadata": {},
   "source": [
    "# Maths and & logic with pytorhc tensors"
   ]
  },
  {
   "cell_type": "code",
   "execution_count": 68,
   "id": "baacecde",
   "metadata": {},
   "outputs": [
    {
     "name": "stdout",
     "output_type": "stream",
     "text": [
      "tensor([[1., 1., 1., 1.],\n",
      "        [1., 1., 1., 1.],\n",
      "        [1., 1., 1., 1.]])\n",
      "tensor([[2., 2.],\n",
      "        [2., 2.],\n",
      "        [2., 2.]])\n",
      "tensor([[3., 3.],\n",
      "        [3., 3.],\n",
      "        [3., 3.]])\n",
      "tensor([[1.4142, 1.4142],\n",
      "        [1.4142, 1.4142],\n",
      "        [1.4142, 1.4142]])\n"
     ]
    }
   ],
   "source": [
    "ones = torch.zeros(3,4)+1\n",
    "print(ones)\n",
    "twos = torch.ones(3,2)+1\n",
    "print(twos)\n",
    "threes = torch.ones(3,2)*3\n",
    "print(threes)\n",
    "sqrt2s = twos**0.5\n",
    "print(sqrt2s)"
   ]
  },
  {
   "cell_type": "markdown",
   "id": "6aecd3a1",
   "metadata": {},
   "source": [
    "# Exponents-matrix"
   ]
  },
  {
   "cell_type": "code",
   "execution_count": 71,
   "id": "76640454",
   "metadata": {},
   "outputs": [
    {
     "name": "stdout",
     "output_type": "stream",
     "text": [
      "tensor([[ 1.,  2.],\n",
      "        [ 8., 32.],\n",
      "        [ 4., 16.]])\n"
     ]
    }
   ],
   "source": [
    "powers2 = twos**(torch.tensor([[0,1],[3,5],[2,4]]))\n",
    "print(powers2)"
   ]
  },
  {
   "cell_type": "code",
   "execution_count": 72,
   "id": "95b9e6aa",
   "metadata": {},
   "outputs": [],
   "source": [
    "# In matrix multiplication the shape of the matrices must be taken care of"
   ]
  },
  {
   "cell_type": "markdown",
   "id": "13d36127",
   "metadata": {},
   "source": [
    "# Tensor Broadcasting"
   ]
  },
  {
   "cell_type": "markdown",
   "id": "372cf98f",
   "metadata": {},
   "source": [
    "Multiplying ```2*4 matrix with 1*4 matrix```:"
   ]
  },
  {
   "cell_type": "code",
   "execution_count": 73,
   "id": "a3e9347d",
   "metadata": {},
   "outputs": [
    {
     "name": "stdout",
     "output_type": "stream",
     "text": [
      "tensor([[0.2745, 0.6584, 0.2775, 0.8573],\n",
      "        [0.8993, 0.0390, 0.9268, 0.7388]])\n",
      "tensor([[2.7450, 6.5838, 2.7754, 8.5732],\n",
      "        [8.9933, 0.3901, 9.2682, 7.3876]])\n"
     ]
    }
   ],
   "source": [
    "rand = torch.rand(2,4)\n",
    "doubled = rand*(torch.ones(1,4)*10)\n",
    "print(rand)\n",
    "print(doubled)"
   ]
  },
  {
   "cell_type": "markdown",
   "id": "d8ab36b5",
   "metadata": {},
   "source": [
    "### each row of the rand matrix is multiplied by the row matrix of doubled.\n",
    "### rules of tensor broadcasting:\n",
    "1. One of the dimensions must of of size 1\n",
    "2. Similar sized matrix\n",
    "3. Dimension doesnot exist in one of the tensors"
   ]
  },
  {
   "cell_type": "markdown",
   "id": "e5bfce83",
   "metadata": {},
   "source": [
    "# More Math With Tensors"
   ]
  },
  {
   "cell_type": "code",
   "execution_count": 81,
   "id": "56a5a011",
   "metadata": {},
   "outputs": [],
   "source": [
    "import math"
   ]
  },
  {
   "cell_type": "code",
   "execution_count": 79,
   "id": "cf539b44",
   "metadata": {},
   "outputs": [
    {
     "name": "stdout",
     "output_type": "stream",
     "text": [
      "Common functions: \n",
      "abs tensor([[0.5043, 1.6003, 0.9169, 1.2253],\n",
      "        [0.9372, 2.6707, 3.6944, 3.0281]]) \n",
      "\n",
      "ceil tensor([[1., 2., 1., 2.],\n",
      "        [-0., 3., 4., 4.]]) \n",
      "\n",
      "torch tensor([[ 0.,  1.,  0.,  1.],\n",
      "        [-1.,  2.,  3.,  3.]]) \n",
      "\n",
      "tensor([[ 0.5000,  0.5000,  0.5000,  0.5000],\n",
      "        [-0.5000,  0.5000,  0.5000,  0.5000]])\n"
     ]
    }
   ],
   "source": [
    "# common functions\n",
    "a = torch.rand(2,4)*5-1\n",
    "print('Common functions: ')\n",
    "print('abs',torch.abs(a),'\\n')\n",
    "print('ceil',torch.ceil(a),'\\n')\n",
    "print('torch',torch.floor(a),'\\n')\n",
    "print(torch.clamp(a,-0.5,0.5))\n",
    "# the .clamp(),value less than min replaced by min, and greter than max--> max "
   ]
  },
  {
   "cell_type": "code",
   "execution_count": 82,
   "id": "3acc08ea",
   "metadata": {},
   "outputs": [
    {
     "name": "stdout",
     "output_type": "stream",
     "text": [
      "\n",
      "Sines and arcsine:\n",
      "tensor([0.0000, 0.7854, 1.5708, 2.3562])\n",
      "tensor([0.0000, 0.7071, 1.0000, 0.7071])\n",
      "tensor([0.0000, 0.7854, 1.5708, 0.7854])\n"
     ]
    }
   ],
   "source": [
    "# trigonometric functions\n",
    "angles = torch.tensor([0,math.pi/4,math.pi/2,3*math.pi/4])\n",
    "sines = torch.sin(angles)\n",
    "inverses = torch.asin(sines)\n",
    "print('\\nSines and arcsine:')\n",
    "print(angles)\n",
    "print(sines)\n",
    "print(inverses)"
   ]
  },
  {
   "cell_type": "code",
   "execution_count": 83,
   "id": "53d1ee67",
   "metadata": {},
   "outputs": [
    {
     "name": "stdout",
     "output_type": "stream",
     "text": [
      "\n",
      "bitwise XOR:\n",
      "tensor([ 5, 37,  9])\n"
     ]
    }
   ],
   "source": [
    "# Bit wise operations\n",
    "print('\\nbitwise XOR:')\n",
    "b = torch.tensor([1,5,13])\n",
    "c = torch.tensor([4,32,4])\n",
    "print(torch.bitwise_xor(b,c))"
   ]
  },
  {
   "cell_type": "code",
   "execution_count": 96,
   "id": "b96b6086",
   "metadata": {},
   "outputs": [
    {
     "name": "stdout",
     "output_type": "stream",
     "text": [
      "\n",
      "Reduction ops:\n",
      "tensor(13)\n",
      "234.0\n",
      "tensor(65)\n",
      "tensor([1, 2, 3, 4, 5])\n"
     ]
    }
   ],
   "source": [
    "# Reduction operations\n",
    "print('\\nReduction ops:')\n",
    "print(torch.max(b))\n",
    "d = torch.tensor([[3.,4.,3.],[234.,4.3,2.],[2.,3.,4.]])\n",
    "print(torch.max(d).item())\n",
    "# print(torch.mean(b))\n",
    "# print(torch.std(b))\n",
    "print(torch.prod(b)) # product of all numbers\n",
    "print(torch.unique(torch.tensor([2,2,4,3,1,4,5]))) # filter unique valeus"
   ]
  },
  {
   "cell_type": "markdown",
   "id": "5ae166ef",
   "metadata": {},
   "source": [
    "# 4.altering tensors in place."
   ]
  },
  {
   "cell_type": "markdown",
   "id": "600f7c40",
   "metadata": {},
   "source": [
    "# 5. copying tensors"
   ]
  },
  {
   "cell_type": "markdown",
   "id": "a4f50a00",
   "metadata": {},
   "source": [
    "# 6.Moving to GPU"
   ]
  },
  {
   "cell_type": "markdown",
   "id": "027ff48f",
   "metadata": {},
   "source": [
    "# 7. Manipulating Tensor Shapes"
   ]
  },
  {
   "cell_type": "code",
   "execution_count": 100,
   "id": "9a758f79",
   "metadata": {},
   "outputs": [],
   "source": [
    "# sometimes we need to change the shape of  tensor."
   ]
  },
  {
   "cell_type": "markdown",
   "id": "8b87faec",
   "metadata": {},
   "source": [
    "### changing the number of dimensions"
   ]
  },
  {
   "cell_type": "code",
   "execution_count": 102,
   "id": "6b482af9",
   "metadata": {},
   "outputs": [
    {
     "name": "stdout",
     "output_type": "stream",
     "text": [
      "torch.Size([3, 226, 226])\n",
      "torch.Size([1, 3, 226, 226])\n"
     ]
    }
   ],
   "source": [
    "a = torch.rand(3,226,226) # a 226-pixel square with 3-color channels\n",
    "b = a.unsqueeze(0) # adds a new 0 the column-batch of one elment of 226*226 pixel having 3 colors.\n",
    "print(a.shape)\n",
    "print(b.shape)"
   ]
  },
  {
   "cell_type": "markdown",
   "id": "f01e49ad",
   "metadata": {},
   "source": [
    "### squeeze"
   ]
  },
  {
   "cell_type": "code",
   "execution_count": 104,
   "id": "af457948",
   "metadata": {},
   "outputs": [
    {
     "name": "stdout",
     "output_type": "stream",
     "text": [
      "torch.Size([1, 10])\n",
      "tensor([[0.6056, 0.3244, 0.9140, 0.7369, 0.7267, 0.6998, 0.5229, 0.4763, 0.2782,\n",
      "         0.6759]])\n"
     ]
    }
   ],
   "source": [
    "a = torch.rand(1,10)\n",
    "print(a.shape)\n",
    "print(a)"
   ]
  },
  {
   "cell_type": "code",
   "execution_count": 106,
   "id": "2efced52",
   "metadata": {},
   "outputs": [
    {
     "name": "stdout",
     "output_type": "stream",
     "text": [
      "torch.Size([10])\n",
      "tensor([0.6056, 0.3244, 0.9140, 0.7369, 0.7267, 0.6998, 0.5229, 0.4763, 0.2782,\n",
      "        0.6759])\n"
     ]
    }
   ],
   "source": [
    "# we see that a is 2-d tensor: [[]]->1*20\n",
    "b = a.squeeze(0) # squeeze makes it 1-d tensor: ie. matrix---> vector\n",
    "print(b.shape)\n",
    "print(b)"
   ]
  },
  {
   "cell_type": "code",
   "execution_count": 110,
   "id": "e0fc3262",
   "metadata": {},
   "outputs": [
    {
     "name": "stdout",
     "output_type": "stream",
     "text": [
      "torch.Size([2, 2])\n"
     ]
    }
   ],
   "source": [
    "c = torch.rand(2,2)\n",
    "print(c.shape)"
   ]
  },
  {
   "cell_type": "code",
   "execution_count": 113,
   "id": "e485c0ae",
   "metadata": {},
   "outputs": [
    {
     "name": "stdout",
     "output_type": "stream",
     "text": [
      "torch.Size([2, 2])\n"
     ]
    }
   ],
   "source": [
    "d = c.squeeze(0)\n",
    "print(d.shape)"
   ]
  },
  {
   "cell_type": "markdown",
   "id": "c33c175e",
   "metadata": {},
   "source": [
    "``` No change in the dimension is seen ```"
   ]
  },
  {
   "cell_type": "markdown",
   "id": "741e2d4d",
   "metadata": {},
   "source": [
    "So the ``` squeeze(), unsqeeeze() ``` works only with dimension of one."
   ]
  },
  {
   "cell_type": "code",
   "execution_count": 114,
   "id": "5bac32b0",
   "metadata": {},
   "outputs": [],
   "source": [
    "#"
   ]
  },
  {
   "cell_type": "markdown",
   "id": "97c20182",
   "metadata": {},
   "source": [
    "The ```squeeze()``` and ```unsqueeze()``` methods also have the in-place versions, ```squeeze_()``` and ```unsqueeze()```:`"
   ]
  },
  {
   "cell_type": "code",
   "execution_count": 119,
   "id": "e3cc7cf0",
   "metadata": {},
   "outputs": [
    {
     "name": "stdout",
     "output_type": "stream",
     "text": [
      "torch.Size([3, 222, 222])\n",
      "torch.Size([1, 3, 222, 222])\n"
     ]
    }
   ],
   "source": [
    "#changing the shape in-place without creating a copy of the tensor\n",
    "batch_me = torch.rand(3,222,222)\n",
    "print(batch_me.shape)\n",
    "batch_me.unsqueeze_(0)\n",
    "print(batch_me.shape)"
   ]
  },
  {
   "cell_type": "markdown",
   "id": "163fd4bb",
   "metadata": {},
   "source": [
    " - Numpy Bridge: numpy <--> tensor"
   ]
  },
  {
   "cell_type": "code",
   "execution_count": 127,
   "id": "faeb937e",
   "metadata": {},
   "outputs": [
    {
     "name": "stdout",
     "output_type": "stream",
     "text": [
      "[[1. 1. 1.]\n",
      " [1. 1. 1.]]\n",
      "tensor([[1., 1., 1.],\n",
      "        [1., 1., 1.]], dtype=torch.float64)\n"
     ]
    }
   ],
   "source": [
    "import numpy as np\n",
    "numpy_array=np.ones((2,3)) # 2-d array\n",
    "print(numpy_array)\n",
    "pytorch_tensor = torch.from_numpy(numpy_array)\n",
    "print(pytorch_tensor)"
   ]
  },
  {
   "cell_type": "code",
   "execution_count": 128,
   "id": "cf5b4611",
   "metadata": {},
   "outputs": [],
   "source": [
    "# other way"
   ]
  },
  {
   "cell_type": "code",
   "execution_count": 129,
   "id": "3e93b329",
   "metadata": {},
   "outputs": [
    {
     "name": "stdout",
     "output_type": "stream",
     "text": [
      "tensor([[0.5283, 0.2906, 0.1328],\n",
      "        [0.5763, 0.2216, 0.5283]])\n",
      "[[0.5283123  0.29061335 0.13281071]\n",
      " [0.5763394  0.22155994 0.5282548 ]]\n"
     ]
    }
   ],
   "source": [
    "pytorch_rand=torch.rand(2,3)\n",
    "print(pytorch_rand)\n",
    "numpy_rand = pytorch_rand.numpy()\n",
    "print(numpy_rand)"
   ]
  },
  {
   "cell_type": "markdown",
   "id": "e3ff3c96",
   "metadata": {},
   "source": [
    "##### These converted objects are using the same underlying memory as their source objects, meaning the change in one will affect the other"
   ]
  },
  {
   "cell_type": "code",
   "execution_count": null,
   "id": "859cda38",
   "metadata": {},
   "outputs": [],
   "source": []
  }
 ],
 "metadata": {
  "kernelspec": {
   "display_name": "Python 3 (ipykernel)",
   "language": "python",
   "name": "python3"
  },
  "language_info": {
   "codemirror_mode": {
    "name": "ipython",
    "version": 3
   },
   "file_extension": ".py",
   "mimetype": "text/x-python",
   "name": "python",
   "nbconvert_exporter": "python",
   "pygments_lexer": "ipython3",
   "version": "3.10.5"
  }
 },
 "nbformat": 4,
 "nbformat_minor": 5
}
