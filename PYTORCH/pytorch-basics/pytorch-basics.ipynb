{
 "cells": [
  {
   "cell_type": "markdown",
   "id": "82f7b312",
   "metadata": {},
   "source": [
    "# Pytorch "
   ]
  },
  {
   "cell_type": "markdown",
   "id": "7dc6bff7",
   "metadata": {},
   "source": [
    "### Tensors Basics"
   ]
  },
  {
   "cell_type": "markdown",
   "id": "164de6ad",
   "metadata": {},
   "source": [
    "A tensor is a generalization of vectors and matrices and is easily understood as a\n",
    "multidimensional array. It is a term and set of techniques known in machine learning in th training\n",
    "and operation of deep learning models can be described in terms of tensors. In many cases tensors are used\n",
    "as replacement of NumPy to use the power of GPUs.\n"
   ]
  },
  {
   "cell_type": "markdown",
   "id": "2595377d",
   "metadata": {},
   "source": [
    "Tensors are a type of data structure used in linear algebra, and like vectors and matrices, you can \n",
    "calculate arithmetic operation with tensors."
   ]
  },
  {
   "cell_type": "code",
   "execution_count": 2,
   "id": "f5704271",
   "metadata": {
    "collapsed": true
   },
   "outputs": [
    {
     "name": "stdout",
     "output_type": "stream",
     "text": [
      "Collecting torchvision\n",
      "  Downloading torchvision-0.15.2-cp310-cp310-win_amd64.whl (1.2 MB)\n",
      "     ---------------------------------------- 1.2/1.2 MB 6.3 MB/s eta 0:00:00\n",
      "Requirement already satisfied: numpy in c:\\users\\hp\\appdata\\local\\programs\\python\\python310\\lib\\site-packages (from torchvision) (1.23.1)\n",
      "Requirement already satisfied: requests in c:\\users\\hp\\appdata\\local\\programs\\python\\python310\\lib\\site-packages (from torchvision) (2.28.1)\n",
      "Collecting torch==2.0.1 (from torchvision)\n",
      "  Downloading torch-2.0.1-cp310-cp310-win_amd64.whl (172.3 MB)\n",
      "     -------------------------------------- 172.3/172.3 MB 5.3 MB/s eta 0:00:00\n",
      "Requirement already satisfied: pillow!=8.3.*,>=5.3.0 in c:\\users\\hp\\appdata\\local\\programs\\python\\python310\\lib\\site-packages (from torchvision) (9.5.0)\n",
      "Collecting filelock (from torch==2.0.1->torchvision)\n",
      "  Downloading filelock-3.12.2-py3-none-any.whl (10 kB)\n",
      "Requirement already satisfied: typing-extensions in c:\\users\\hp\\appdata\\local\\programs\\python\\python310\\lib\\site-packages (from torch==2.0.1->torchvision) (4.5.0)\n",
      "Collecting sympy (from torch==2.0.1->torchvision)\n",
      "  Downloading sympy-1.12-py3-none-any.whl (5.7 MB)\n",
      "     ---------------------------------------- 5.7/5.7 MB 5.3 MB/s eta 0:00:00\n",
      "Collecting networkx (from torch==2.0.1->torchvision)\n",
      "  Downloading networkx-3.1-py3-none-any.whl (2.1 MB)\n",
      "     ---------------------------------------- 2.1/2.1 MB 5.5 MB/s eta 0:00:00\n",
      "Requirement already satisfied: jinja2 in c:\\users\\hp\\appdata\\local\\programs\\python\\python310\\lib\\site-packages (from torch==2.0.1->torchvision) (3.1.2)\n",
      "Requirement already satisfied: charset-normalizer<3,>=2 in c:\\users\\hp\\appdata\\local\\programs\\python\\python310\\lib\\site-packages (from requests->torchvision) (2.1.0)\n",
      "Requirement already satisfied: idna<4,>=2.5 in c:\\users\\hp\\appdata\\local\\programs\\python\\python310\\lib\\site-packages (from requests->torchvision) (2.10)\n",
      "Requirement already satisfied: urllib3<1.27,>=1.21.1 in c:\\users\\hp\\appdata\\local\\programs\\python\\python310\\lib\\site-packages (from requests->torchvision) (1.26.9)\n",
      "Requirement already satisfied: certifi>=2017.4.17 in c:\\users\\hp\\appdata\\local\\programs\\python\\python310\\lib\\site-packages (from requests->torchvision) (2022.6.15)\n",
      "Requirement already satisfied: MarkupSafe>=2.0 in c:\\users\\hp\\appdata\\local\\programs\\python\\python310\\lib\\site-packages (from jinja2->torch==2.0.1->torchvision) (2.1.1)\n",
      "Collecting mpmath>=0.19 (from sympy->torch==2.0.1->torchvision)\n",
      "  Downloading mpmath-1.3.0-py3-none-any.whl (536 kB)\n",
      "     -------------------------------------- 536.2/536.2 kB 5.7 MB/s eta 0:00:00\n",
      "Installing collected packages: mpmath, sympy, networkx, filelock, torch, torchvision\n",
      "Successfully installed filelock-3.12.2 mpmath-1.3.0 networkx-3.1 sympy-1.12 torch-2.0.1 torchvision-0.15.2\n",
      "Note: you may need to restart the kernel to use updated packages.\n"
     ]
    },
    {
     "name": "stderr",
     "output_type": "stream",
     "text": [
      "WARNING: Ignoring invalid distribution -illow (c:\\users\\hp\\appdata\\local\\programs\\python\\python310\\lib\\site-packages)\n",
      "WARNING: Ignoring invalid distribution -illow (c:\\users\\hp\\appdata\\local\\programs\\python\\python310\\lib\\site-packages)\n"
     ]
    }
   ],
   "source": [
    "pip install torchvision"
   ]
  },
  {
   "cell_type": "code",
   "execution_count": 3,
   "id": "43566e2f",
   "metadata": {},
   "outputs": [],
   "source": [
    "import torch"
   ]
  },
  {
   "cell_type": "code",
   "execution_count": 4,
   "id": "3d4eb04f",
   "metadata": {},
   "outputs": [
    {
     "data": {
      "text/plain": [
       "'2.0.1+cpu'"
      ]
     },
     "execution_count": 4,
     "metadata": {},
     "output_type": "execute_result"
    }
   ],
   "source": [
    "torch.__version__"
   ]
  },
  {
   "cell_type": "code",
   "execution_count": 5,
   "id": "adb29b6d",
   "metadata": {},
   "outputs": [],
   "source": [
    "import numpy as np"
   ]
  },
  {
   "cell_type": "code",
   "execution_count": 32,
   "id": "2a5021ea",
   "metadata": {},
   "outputs": [],
   "source": [
    "# created list of integers\n",
    "lst = [3,4,43,2]"
   ]
  },
  {
   "cell_type": "code",
   "execution_count": 33,
   "id": "d9755250",
   "metadata": {},
   "outputs": [],
   "source": [
    "# converting list to numpy array.\n",
    "arr  = np.array(lst)"
   ]
  },
  {
   "cell_type": "code",
   "execution_count": 34,
   "id": "5598e4f3",
   "metadata": {},
   "outputs": [
    {
     "data": {
      "text/plain": [
       "array([ 3,  4, 43,  2])"
      ]
     },
     "execution_count": 34,
     "metadata": {},
     "output_type": "execute_result"
    }
   ],
   "source": [
    "arr"
   ]
  },
  {
   "cell_type": "markdown",
   "id": "5172a9d1",
   "metadata": {},
   "source": [
    "# Convert Numpy to Pytorch Tensors"
   ]
  },
  {
   "cell_type": "code",
   "execution_count": 35,
   "id": "42cffec2",
   "metadata": {},
   "outputs": [],
   "source": [
    "tensors = torch.from_numpy(arr)"
   ]
  },
  {
   "cell_type": "code",
   "execution_count": 36,
   "id": "f30255e1",
   "metadata": {},
   "outputs": [
    {
     "data": {
      "text/plain": [
       "tensor([ 3,  4, 43,  2], dtype=torch.int32)"
      ]
     },
     "execution_count": 36,
     "metadata": {},
     "output_type": "execute_result"
    }
   ],
   "source": [
    "tensors"
   ]
  },
  {
   "cell_type": "code",
   "execution_count": 37,
   "id": "823639fd",
   "metadata": {},
   "outputs": [
    {
     "data": {
      "text/plain": [
       "tensor(43, dtype=torch.int32)"
      ]
     },
     "execution_count": 37,
     "metadata": {},
     "output_type": "execute_result"
    }
   ],
   "source": [
    "# indexing similar to numpy\n",
    "tensors[2]"
   ]
  },
  {
   "cell_type": "code",
   "execution_count": 38,
   "id": "bdb37175",
   "metadata": {},
   "outputs": [
    {
     "data": {
      "text/plain": [
       "tensor([ 4, 43], dtype=torch.int32)"
      ]
     },
     "execution_count": 38,
     "metadata": {},
     "output_type": "execute_result"
    }
   ],
   "source": [
    "tensors[1:3]"
   ]
  },
  {
   "cell_type": "code",
   "execution_count": 39,
   "id": "a96dac50",
   "metadata": {},
   "outputs": [
    {
     "data": {
      "text/plain": [
       "tensor([ 3,  4, 43], dtype=torch.int32)"
      ]
     },
     "execution_count": 39,
     "metadata": {},
     "output_type": "execute_result"
    }
   ],
   "source": [
    "tensors[:3]"
   ]
  },
  {
   "cell_type": "code",
   "execution_count": 42,
   "id": "3ab3ed28",
   "metadata": {},
   "outputs": [],
   "source": [
    "# disadvantage of tesors: memory allocation was same for array and tensors\n",
    "# so it will overwrite the value in both the data structures.\n",
    "tensors[3] = 3222"
   ]
  },
  {
   "cell_type": "code",
   "execution_count": 43,
   "id": "6b62347a",
   "metadata": {},
   "outputs": [
    {
     "data": {
      "text/plain": [
       "3222"
      ]
     },
     "execution_count": 43,
     "metadata": {},
     "output_type": "execute_result"
    }
   ],
   "source": [
    "arr[3]"
   ]
  },
  {
   "cell_type": "code",
   "execution_count": 44,
   "id": "f2ae76ed",
   "metadata": {},
   "outputs": [],
   "source": [
    "# so we better use torch.tensor(arr) to prevent this\n",
    "# it basically makes a copy of array and work on it."
   ]
  },
  {
   "cell_type": "code",
   "execution_count": 45,
   "id": "ce55048f",
   "metadata": {},
   "outputs": [],
   "source": [
    "tensor_arr = torch.tensor(arr)"
   ]
  },
  {
   "cell_type": "code",
   "execution_count": 46,
   "id": "ef7eabab",
   "metadata": {},
   "outputs": [
    {
     "data": {
      "text/plain": [
       "tensor([   3,    4,   43, 3222], dtype=torch.int32)"
      ]
     },
     "execution_count": 46,
     "metadata": {},
     "output_type": "execute_result"
    }
   ],
   "source": [
    "tensor_arr"
   ]
  },
  {
   "cell_type": "code",
   "execution_count": 48,
   "id": "980518de",
   "metadata": {},
   "outputs": [],
   "source": [
    "tensor_arr[3]  = 1000"
   ]
  },
  {
   "cell_type": "code",
   "execution_count": 49,
   "id": "8ab66505",
   "metadata": {},
   "outputs": [
    {
     "data": {
      "text/plain": [
       "3222"
      ]
     },
     "execution_count": 49,
     "metadata": {},
     "output_type": "execute_result"
    }
   ],
   "source": [
    "arr[3]"
   ]
  },
  {
   "cell_type": "code",
   "execution_count": 50,
   "id": "7dd79346",
   "metadata": {},
   "outputs": [],
   "source": [
    "# no change in array:"
   ]
  },
  {
   "cell_type": "markdown",
   "id": "c3ec7fbc",
   "metadata": {},
   "source": [
    "# Zeros and Ones"
   ]
  },
  {
   "cell_type": "code",
   "execution_count": 61,
   "id": "43dfcf3c",
   "metadata": {},
   "outputs": [
    {
     "data": {
      "text/plain": [
       "tensor([[0, 0, 0, 0],\n",
       "        [0, 0, 0, 0],\n",
       "        [0, 0, 0, 0]])"
      ]
     },
     "execution_count": 61,
     "metadata": {},
     "output_type": "execute_result"
    }
   ],
   "source": [
    "# using inbuilt-function and specifying the dtype.\n",
    "torch.zeros(3,4,dtype=torch.int64)"
   ]
  },
  {
   "cell_type": "code",
   "execution_count": 63,
   "id": "12cb5df2",
   "metadata": {},
   "outputs": [],
   "source": [
    "torch_ones = torch.ones(2,4,dtype=torch.float32)"
   ]
  },
  {
   "cell_type": "code",
   "execution_count": 64,
   "id": "75d678f4",
   "metadata": {},
   "outputs": [
    {
     "data": {
      "text/plain": [
       "tensor([[1., 1., 1., 1.],\n",
       "        [1., 1., 1., 1.]])"
      ]
     },
     "execution_count": 64,
     "metadata": {},
     "output_type": "execute_result"
    }
   ],
   "source": [
    "torch_ones"
   ]
  },
  {
   "cell_type": "markdown",
   "id": "fde67416",
   "metadata": {},
   "source": [
    "# 2-D array"
   ]
  },
  {
   "cell_type": "code",
   "execution_count": 73,
   "id": "cdef258c",
   "metadata": {},
   "outputs": [],
   "source": [
    "# 2d numpy array (0--15) reshaped to 5*3\n",
    "np_2d = np.arange(0,15).reshape(5,3)"
   ]
  },
  {
   "cell_type": "code",
   "execution_count": 74,
   "id": "680f7894",
   "metadata": {},
   "outputs": [
    {
     "data": {
      "text/plain": [
       "array([[ 0,  1,  2],\n",
       "       [ 3,  4,  5],\n",
       "       [ 6,  7,  8],\n",
       "       [ 9, 10, 11],\n",
       "       [12, 13, 14]])"
      ]
     },
     "execution_count": 74,
     "metadata": {},
     "output_type": "execute_result"
    }
   ],
   "source": [
    "np_2d"
   ]
  },
  {
   "cell_type": "code",
   "execution_count": 75,
   "id": "7474cc5f",
   "metadata": {},
   "outputs": [],
   "source": [
    "# converting to torch data\n",
    "torch_2d = torch.tensor(np_2d)"
   ]
  },
  {
   "cell_type": "code",
   "execution_count": 76,
   "id": "1712db38",
   "metadata": {},
   "outputs": [
    {
     "data": {
      "text/plain": [
       "tensor([[ 0,  1,  2],\n",
       "        [ 3,  4,  5],\n",
       "        [ 6,  7,  8],\n",
       "        [ 9, 10, 11],\n",
       "        [12, 13, 14]], dtype=torch.int32)"
      ]
     },
     "execution_count": 76,
     "metadata": {},
     "output_type": "execute_result"
    }
   ],
   "source": [
    "torch_2d"
   ]
  },
  {
   "cell_type": "code",
   "execution_count": 82,
   "id": "cca20e43",
   "metadata": {},
   "outputs": [
    {
     "data": {
      "text/plain": [
       "tensor(5, dtype=torch.int32)"
      ]
     },
     "execution_count": 82,
     "metadata": {},
     "output_type": "execute_result"
    }
   ],
   "source": [
    "# performing indexing in the 2d-torch object\n",
    "torch_2d[1][2]"
   ]
  },
  {
   "cell_type": "code",
   "execution_count": 90,
   "id": "517fbfd3",
   "metadata": {},
   "outputs": [
    {
     "data": {
      "text/plain": [
       "tensor([3, 4, 5], dtype=torch.int32)"
      ]
     },
     "execution_count": 90,
     "metadata": {},
     "output_type": "execute_result"
    }
   ],
   "source": [
    "# 1st row\n",
    "torch_2d[:][1]"
   ]
  },
  {
   "cell_type": "code",
   "execution_count": 96,
   "id": "4256847f",
   "metadata": {},
   "outputs": [
    {
     "data": {
      "text/plain": [
       "tensor([ 2,  5,  8, 11, 14], dtype=torch.int32)"
      ]
     },
     "execution_count": 96,
     "metadata": {},
     "output_type": "execute_result"
    }
   ],
   "source": [
    "# 2nd column\n",
    "torch_2d[:,2]"
   ]
  },
  {
   "cell_type": "code",
   "execution_count": 97,
   "id": "150f1a2c",
   "metadata": {},
   "outputs": [
    {
     "data": {
      "text/plain": [
       "tensor([[0, 1, 2],\n",
       "        [3, 4, 5]], dtype=torch.int32)"
      ]
     },
     "execution_count": 97,
     "metadata": {},
     "output_type": "execute_result"
    }
   ],
   "source": [
    "# upto 2nd row \n",
    "torch_2d[:2]"
   ]
  },
  {
   "cell_type": "markdown",
   "id": "bc3d31f0",
   "metadata": {},
   "source": [
    "# arithmetic operations with torch datas."
   ]
  },
  {
   "cell_type": "code",
   "execution_count": 98,
   "id": "616182af",
   "metadata": {},
   "outputs": [],
   "source": [
    "a = torch.tensor([3,2,42],dtype=torch.float)\n",
    "b = torch.tensor([9,2,4],dtype=torch.float) "
   ]
  },
  {
   "cell_type": "code",
   "execution_count": 102,
   "id": "eab9d3ae",
   "metadata": {},
   "outputs": [
    {
     "data": {
      "text/plain": [
       "tensor([12.,  4., 46.])"
      ]
     },
     "execution_count": 102,
     "metadata": {},
     "output_type": "execute_result"
    }
   ],
   "source": [
    "a+b"
   ]
  },
  {
   "cell_type": "code",
   "execution_count": 103,
   "id": "e50aad36",
   "metadata": {},
   "outputs": [
    {
     "data": {
      "text/plain": [
       "tensor([12.,  4., 46.])"
      ]
     },
     "execution_count": 103,
     "metadata": {},
     "output_type": "execute_result"
    }
   ],
   "source": [
    "#using torch inbuilt-function .add()\n",
    "torch.add(a,b)"
   ]
  },
  {
   "cell_type": "code",
   "execution_count": 109,
   "id": "cf6de4f2",
   "metadata": {},
   "outputs": [],
   "source": [
    "# now storing it in c-having same data type as a,b\n",
    "c = torch.zeros(3) #all initially 0."
   ]
  },
  {
   "cell_type": "code",
   "execution_count": 111,
   "id": "2dff238e",
   "metadata": {},
   "outputs": [],
   "source": [
    "c = torch.add(a,b,out=c) # out = c --> means c as it was initialized"
   ]
  },
  {
   "cell_type": "code",
   "execution_count": 112,
   "id": "b887b67a",
   "metadata": {},
   "outputs": [
    {
     "data": {
      "text/plain": [
       "tensor([12.,  4., 46.])"
      ]
     },
     "execution_count": 112,
     "metadata": {},
     "output_type": "execute_result"
    }
   ],
   "source": [
    "c"
   ]
  },
  {
   "cell_type": "code",
   "execution_count": 113,
   "id": "ecd98a39",
   "metadata": {},
   "outputs": [
    {
     "data": {
      "text/plain": [
       "tensor(62.)"
      ]
     },
     "execution_count": 113,
     "metadata": {},
     "output_type": "execute_result"
    }
   ],
   "source": [
    "# using .sum() operation to add all the output of the tensor-array\n",
    "c.sum() "
   ]
  },
  {
   "cell_type": "markdown",
   "id": "6c76da32",
   "metadata": {},
   "source": [
    "# dot product and multiplication operation"
   ]
  },
  {
   "cell_type": "code",
   "execution_count": 119,
   "id": "16151b13",
   "metadata": {},
   "outputs": [],
   "source": [
    "x = torch.tensor([3,3,2],dtype=torch.float)\n",
    "y = torch.tensor([5,3,2],dtype=torch.float)"
   ]
  },
  {
   "cell_type": "code",
   "execution_count": 120,
   "id": "23bc83ad",
   "metadata": {},
   "outputs": [
    {
     "data": {
      "text/plain": [
       "tensor([15.,  9.,  4.])"
      ]
     },
     "execution_count": 120,
     "metadata": {},
     "output_type": "execute_result"
    }
   ],
   "source": [
    "x.mul(y)"
   ]
  },
  {
   "cell_type": "code",
   "execution_count": 121,
   "id": "00c54ef5",
   "metadata": {},
   "outputs": [
    {
     "data": {
      "text/plain": [
       "tensor(28.)"
      ]
     },
     "execution_count": 121,
     "metadata": {},
     "output_type": "execute_result"
    }
   ],
   "source": [
    "# dot product\n",
    "x.dot(y) # sum of all(x*y)"
   ]
  },
  {
   "cell_type": "markdown",
   "id": "b0776e6e",
   "metadata": {},
   "source": [
    "# matrix multiplication"
   ]
  },
  {
   "cell_type": "code",
   "execution_count": 122,
   "id": "8c74f70b",
   "metadata": {},
   "outputs": [],
   "source": [
    "x= torch.tensor([[3,3,2],[33,24,2]],dtype=torch.float)\n",
    "y= torch.tensor([[2,3],[2,4],[5,3]],dtype=torch.float)"
   ]
  },
  {
   "cell_type": "code",
   "execution_count": 125,
   "id": "396a53f6",
   "metadata": {},
   "outputs": [
    {
     "data": {
      "text/plain": [
       "tensor([[ 22.,  27.],\n",
       "        [124., 201.]])"
      ]
     },
     "execution_count": 125,
     "metadata": {},
     "output_type": "execute_result"
    }
   ],
   "source": [
    "x.matmul(y)\n",
    "# or--> torch.matmul(x,y)"
   ]
  },
  {
   "cell_type": "code",
   "execution_count": 126,
   "id": "dab6c515",
   "metadata": {},
   "outputs": [
    {
     "data": {
      "text/plain": [
       "tensor([[ 22.,  27.],\n",
       "        [124., 201.]])"
      ]
     },
     "execution_count": 126,
     "metadata": {},
     "output_type": "execute_result"
    }
   ],
   "source": [
    "# or mm\n",
    "torch.mm(x,y)"
   ]
  },
  {
   "cell_type": "code",
   "execution_count": 128,
   "id": "c5d9f841",
   "metadata": {},
   "outputs": [
    {
     "data": {
      "text/plain": [
       "tensor([[ 22.,  27.],\n",
       "        [124., 201.]])"
      ]
     },
     "execution_count": 128,
     "metadata": {},
     "output_type": "execute_result"
    }
   ],
   "source": [
    "# or x@y.\n",
    "x@y"
   ]
  },
  {
   "cell_type": "code",
   "execution_count": null,
   "id": "8d92f488",
   "metadata": {},
   "outputs": [],
   "source": []
  }
 ],
 "metadata": {
  "kernelspec": {
   "display_name": "Python 3 (ipykernel)",
   "language": "python",
   "name": "python3"
  },
  "language_info": {
   "codemirror_mode": {
    "name": "ipython",
    "version": 3
   },
   "file_extension": ".py",
   "mimetype": "text/x-python",
   "name": "python",
   "nbconvert_exporter": "python",
   "pygments_lexer": "ipython3",
   "version": "3.10.5"
  }
 },
 "nbformat": 4,
 "nbformat_minor": 5
}
