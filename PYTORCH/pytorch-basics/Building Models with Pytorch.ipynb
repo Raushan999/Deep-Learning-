{
 "cells": [
  {
   "cell_type": "markdown",
   "id": "6f6cae0f",
   "metadata": {},
   "source": [
    "what we will learn"
   ]
  },
  {
   "cell_type": "markdown",
   "id": "90859896",
   "metadata": {},
   "source": [
    "- Modules and parameters\n",
    "- Common NN Layer Types\n",
    "- Other Layers & Functions"
   ]
  },
  {
   "cell_type": "markdown",
   "id": "33fd44dd",
   "metadata": {},
   "source": [
    "# Building Models in PyTorch"
   ]
  },
  {
   "cell_type": "markdown",
   "id": "c0e23cec",
   "metadata": {},
   "source": [
    "```torch.nn.Module``` and ```torch.nn.Parameter```"
   ]
  },
  {
   "cell_type": "markdown",
   "id": "ba894c19",
   "metadata": {},
   "source": [
    "```Module``` class has models and model components like Neural Network\n",
    "```Paramter``` class represents learning weights"
   ]
  },
  {
   "cell_type": "code",
   "execution_count": 1,
   "id": "77a29e1b",
   "metadata": {},
   "outputs": [],
   "source": [
    "import torch\n",
    "class TinyModel(torch.nn.Module):\n",
    "    def __init__(self):\n",
    "        super(TinyModel,self).__init__()\n",
    "        \n",
    "        self.linear1 = torch.nn.Linear(100,200)\n",
    "        self.activation = torch.nn.ReLU()\n",
    "        self.linear2 = torch.nn.Linear(200,10)\n",
    "        self.softmax = torch.nn.Softmax()\n",
    "    \n",
    "    def forward(self,x):\n",
    "        x = self.linear1(x)\n",
    "        x = self.activation(x)\n",
    "        x = self.Linear2(x)\n",
    "        x = self.softmax(x)\n",
    "        return x\n",
    "tinymodel = TinyModel()"
   ]
  },
  {
   "cell_type": "code",
   "execution_count": 2,
   "id": "cda6614c",
   "metadata": {},
   "outputs": [
    {
     "name": "stdout",
     "output_type": "stream",
     "text": [
      "The Model:\n",
      "TinyModel(\n",
      "  (linear1): Linear(in_features=100, out_features=200, bias=True)\n",
      "  (activation): ReLU()\n",
      "  (linear2): Linear(in_features=200, out_features=10, bias=True)\n",
      "  (softmax): Softmax(dim=None)\n",
      ")\n"
     ]
    }
   ],
   "source": [
    "print('The Model:')\n",
    "print(tinymodel)"
   ]
  },
  {
   "cell_type": "code",
   "execution_count": 5,
   "id": "9063e8bc",
   "metadata": {},
   "outputs": [
    {
     "name": "stdout",
     "output_type": "stream",
     "text": [
      "Just One Layer\n",
      "Linear(in_features=200, out_features=10, bias=True)\n"
     ]
    }
   ],
   "source": [
    "print('Printing Just One Layer')\n",
    "print(tinymodel.linear2)"
   ]
  },
  {
   "cell_type": "code",
   "execution_count": 6,
   "id": "3e06c1d5",
   "metadata": {},
   "outputs": [
    {
     "name": "stdout",
     "output_type": "stream",
     "text": [
      "Model Parameters: \n",
      "Parameter containing:\n",
      "tensor([[-0.0757,  0.0440, -0.0168,  ...,  0.0127,  0.0800, -0.0461],\n",
      "        [-0.0476,  0.0791,  0.0863,  ...,  0.0366,  0.0125, -0.0045],\n",
      "        [ 0.0909,  0.0542,  0.0709,  ..., -0.0813,  0.0178, -0.0331],\n",
      "        ...,\n",
      "        [ 0.0622, -0.0067, -0.0510,  ...,  0.0347,  0.0845,  0.0128],\n",
      "        [ 0.0105, -0.0284,  0.0792,  ...,  0.0231,  0.0826, -0.0921],\n",
      "        [ 0.0235,  0.0383,  0.0977,  ..., -0.0747,  0.0094, -0.0377]],\n",
      "       requires_grad=True)\n",
      "Parameter containing:\n",
      "tensor([ 4.7380e-04,  4.2523e-03,  7.4618e-03, -2.7857e-02,  7.8912e-02,\n",
      "        -6.4051e-03,  8.0970e-02,  1.1533e-02, -3.9098e-02, -9.8823e-02,\n",
      "        -3.8040e-02, -4.6897e-02, -8.4200e-02, -2.8356e-02,  2.3005e-02,\n",
      "        -4.8916e-02, -6.7992e-02, -7.7021e-02,  7.3736e-02, -4.6852e-02,\n",
      "         3.6273e-02, -9.5378e-02,  9.3080e-02, -2.2082e-02, -2.1576e-02,\n",
      "         2.1133e-02, -7.7074e-02,  2.9136e-02,  7.9210e-02, -3.0213e-02,\n",
      "         5.3316e-02, -1.3063e-03, -6.0971e-02,  3.3841e-02,  9.9333e-03,\n",
      "         1.5900e-02, -7.4770e-02,  7.4838e-02,  1.6376e-02, -8.9420e-03,\n",
      "         4.2257e-02, -4.8446e-02, -1.4256e-02,  4.2623e-02,  5.6768e-02,\n",
      "         9.7336e-02, -1.1697e-03,  7.1667e-02,  8.1348e-02, -6.8118e-02,\n",
      "        -7.2371e-02, -3.0019e-02, -9.4749e-02,  3.8442e-02,  3.0961e-02,\n",
      "        -3.0415e-02, -6.3585e-02, -2.0105e-02,  1.3151e-02, -6.3654e-02,\n",
      "        -8.9218e-02,  1.3209e-02, -1.7829e-02, -5.1690e-02,  8.5571e-02,\n",
      "         3.0346e-02,  1.1949e-02, -5.7603e-02,  6.6619e-02, -4.7743e-02,\n",
      "         6.4523e-02, -2.5270e-03, -2.2801e-02,  8.9832e-02,  5.7117e-02,\n",
      "        -5.2597e-03, -9.1137e-02, -2.6639e-03, -4.6993e-03, -8.8550e-02,\n",
      "        -1.2948e-02,  3.4322e-02, -5.9025e-02,  2.3604e-02,  7.8303e-02,\n",
      "         1.3103e-02, -2.0160e-02,  1.7107e-02,  6.8675e-02,  7.8028e-03,\n",
      "         2.9091e-02,  4.3043e-02, -5.2495e-02, -1.0022e-02, -8.4693e-02,\n",
      "        -3.6747e-02, -8.5155e-02, -6.7317e-02,  1.8509e-02,  5.8720e-02,\n",
      "        -4.0060e-02, -4.1074e-03, -7.3011e-02,  5.5391e-02, -6.2269e-02,\n",
      "         7.4638e-02, -7.4451e-02, -2.7847e-03,  5.5621e-02,  5.8632e-02,\n",
      "        -7.2404e-02, -7.4460e-02,  5.1507e-02,  2.5245e-02, -5.5505e-02,\n",
      "         7.9240e-02,  5.8975e-02, -3.2452e-02, -8.1739e-02, -9.5311e-02,\n",
      "        -1.2043e-02, -5.0561e-02, -7.2823e-02, -8.2481e-02,  5.5237e-02,\n",
      "        -6.8552e-02, -9.5293e-02,  6.3605e-02, -7.5105e-02, -5.3025e-03,\n",
      "         7.6347e-02,  1.8870e-02,  2.8122e-02,  5.1938e-02, -9.8242e-02,\n",
      "        -7.2232e-02, -7.0279e-02,  6.8099e-02, -3.1089e-02, -9.1037e-02,\n",
      "        -2.1662e-02, -8.9377e-02, -4.1446e-02,  2.8466e-02,  4.3916e-02,\n",
      "        -9.1286e-02,  8.1854e-02,  2.8002e-02, -4.6522e-02,  6.6049e-02,\n",
      "         4.8693e-02, -7.5846e-03, -5.4231e-02,  3.0755e-02, -1.7449e-02,\n",
      "        -2.6828e-02,  6.6439e-02, -1.1681e-02,  6.8005e-02,  3.6960e-02,\n",
      "         8.7901e-02,  7.5886e-02, -4.4425e-02,  9.3597e-02, -8.8490e-02,\n",
      "        -6.5751e-02,  9.1223e-02, -5.0759e-02,  5.7709e-02, -7.7523e-03,\n",
      "         9.5711e-02, -8.5082e-02,  4.8004e-02, -9.1299e-02,  2.8232e-02,\n",
      "        -9.3132e-06, -3.0950e-02,  6.3897e-03, -4.7034e-02,  8.8568e-03,\n",
      "         8.9632e-02, -2.5646e-02,  4.2426e-02, -2.4606e-02, -3.0143e-03,\n",
      "        -7.5368e-02,  3.7370e-03,  3.1354e-02,  7.7492e-02, -6.2677e-02,\n",
      "        -2.8655e-02,  2.7433e-02, -8.0543e-02, -5.3724e-02, -7.3350e-02,\n",
      "         6.0272e-02,  9.6044e-02,  8.2663e-02,  8.5478e-02,  3.9410e-03],\n",
      "       requires_grad=True)\n",
      "Parameter containing:\n",
      "tensor([[-0.0371,  0.0567,  0.0383,  ..., -0.0611,  0.0523,  0.0086],\n",
      "        [-0.0207,  0.0235, -0.0170,  ..., -0.0545, -0.0412, -0.0467],\n",
      "        [ 0.0465, -0.0206,  0.0619,  ..., -0.0688,  0.0641,  0.0080],\n",
      "        ...,\n",
      "        [ 0.0476,  0.0465,  0.0403,  ..., -0.0286, -0.0009, -0.0605],\n",
      "        [-0.0625,  0.0260,  0.0554,  ...,  0.0576, -0.0618, -0.0696],\n",
      "        [ 0.0472,  0.0705, -0.0359,  ...,  0.0490, -0.0323, -0.0622]],\n",
      "       requires_grad=True)\n",
      "Parameter containing:\n",
      "tensor([-0.0339, -0.0110,  0.0691,  0.0521, -0.0226,  0.0538,  0.0370, -0.0321,\n",
      "        -0.0693,  0.0454], requires_grad=True)\n"
     ]
    }
   ],
   "source": [
    "print('Model Parameters: ')\n",
    "for param in tinymodel.parameters():\n",
    "    print(param)"
   ]
  },
  {
   "cell_type": "code",
   "execution_count": 7,
   "id": "62f297a1",
   "metadata": {},
   "outputs": [
    {
     "name": "stdout",
     "output_type": "stream",
     "text": [
      "Layer Parameters:\n",
      "\n",
      "Parameter containing:\n",
      "tensor([[-0.0371,  0.0567,  0.0383,  ..., -0.0611,  0.0523,  0.0086],\n",
      "        [-0.0207,  0.0235, -0.0170,  ..., -0.0545, -0.0412, -0.0467],\n",
      "        [ 0.0465, -0.0206,  0.0619,  ..., -0.0688,  0.0641,  0.0080],\n",
      "        ...,\n",
      "        [ 0.0476,  0.0465,  0.0403,  ..., -0.0286, -0.0009, -0.0605],\n",
      "        [-0.0625,  0.0260,  0.0554,  ...,  0.0576, -0.0618, -0.0696],\n",
      "        [ 0.0472,  0.0705, -0.0359,  ...,  0.0490, -0.0323, -0.0622]],\n",
      "       requires_grad=True)\n",
      "Parameter containing:\n",
      "tensor([-0.0339, -0.0110,  0.0691,  0.0521, -0.0226,  0.0538,  0.0370, -0.0321,\n",
      "        -0.0693,  0.0454], requires_grad=True)\n"
     ]
    }
   ],
   "source": [
    "print('Layer Parameters:\\n')\n",
    "for param in tinymodel.linear2.parameters():\n",
    "    print(param)"
   ]
  },
  {
   "cell_type": "code",
   "execution_count": 8,
   "id": "6dd2f704",
   "metadata": {},
   "outputs": [],
   "source": [
    "# it prints ins and out weights of the linear2 layer."
   ]
  },
  {
   "cell_type": "markdown",
   "id": "4131fdb6",
   "metadata": {},
   "source": [
    "# Common Layer Types"
   ]
  },
  {
   "cell_type": "markdown",
   "id": "ee0f5ba0",
   "metadata": {},
   "source": [
    "# Linear Layers"
   ]
  },
  {
   "cell_type": "markdown",
   "id": "39894b6f",
   "metadata": {},
   "source": [
    "Every input layer connected to every output layers.\n",
    "Thus affecting each of the output."
   ]
  },
  {
   "cell_type": "code",
   "execution_count": 13,
   "id": "1fafedea",
   "metadata": {},
   "outputs": [
    {
     "name": "stdout",
     "output_type": "stream",
     "text": [
      "Input:\n",
      "tensor([[0.6840, 0.0503, 0.9075]])\n"
     ]
    }
   ],
   "source": [
    "lin = torch.nn.Linear(3,2) # 3-input, 2-output layer.\n",
    "x = torch.rand(1,3) # 1*3 --> of random values.\n",
    "print('Input:')\n",
    "print(x)"
   ]
  },
  {
   "cell_type": "code",
   "execution_count": 14,
   "id": "80d06852",
   "metadata": {},
   "outputs": [
    {
     "name": "stdout",
     "output_type": "stream",
     "text": [
      "weight and Bias parameters\n",
      "Parameter containing:\n",
      "tensor([[-0.3171, -0.3069,  0.1067],\n",
      "        [-0.5759,  0.2002,  0.1832]], requires_grad=True)\n",
      "Parameter containing:\n",
      "tensor([0.0867, 0.2479], requires_grad=True)\n"
     ]
    }
   ],
   "source": [
    "print('weight and Bias parameters')\n",
    "for param in lin.parameters():\n",
    "    print(param)"
   ]
  },
  {
   "cell_type": "code",
   "execution_count": 27,
   "id": "396fff73",
   "metadata": {},
   "outputs": [
    {
     "name": "stdout",
     "output_type": "stream",
     "text": [
      "Output\n",
      "tensor([[-0.0488,  0.0304]], grad_fn=<AddmmBackward0>)\n"
     ]
    }
   ],
   "source": [
    "y = lin(x) # it multiplies the weights(2*3) with the input(3*1)->x.\n",
    "print('Output')\n",
    "print(y)\n"
   ]
  },
  {
   "cell_type": "code",
   "execution_count": 30,
   "id": "295c25ea",
   "metadata": {},
   "outputs": [],
   "source": [
    "# if we multiply the x with the linear weights and add the bias, we will get the same output y."
   ]
  },
  {
   "cell_type": "markdown",
   "id": "ad70eda2",
   "metadata": {},
   "source": [
    "# CNN\n"
   ]
  },
  {
   "cell_type": "markdown",
   "id": "63929a28",
   "metadata": {},
   "source": [
    "# Max Pooling"
   ]
  },
  {
   "cell_type": "markdown",
   "id": "1c8a88ca",
   "metadata": {},
   "source": [
    "It reduces a tensor by combining cells and assigning max or min of those cells.\n"
   ]
  },
  {
   "cell_type": "code",
   "execution_count": 31,
   "id": "de78b5c5",
   "metadata": {
    "collapsed": true
   },
   "outputs": [
    {
     "name": "stdout",
     "output_type": "stream",
     "text": [
      "tensor([[[0.8656, 0.4047, 0.5848, 0.3218, 0.1115, 0.9315],\n",
      "         [0.1740, 0.8545, 0.3935, 0.0481, 0.3267, 0.4074],\n",
      "         [0.0430, 0.2620, 0.1754, 0.4877, 0.3150, 0.1291],\n",
      "         [0.0735, 0.5430, 0.7867, 0.8467, 0.9925, 0.3077],\n",
      "         [0.4777, 0.4683, 0.6194, 0.9308, 0.5748, 0.7355],\n",
      "         [0.7159, 0.9725, 0.2672, 0.6016, 0.5797, 0.9818]]])\n"
     ]
    }
   ],
   "source": [
    "my_tensor = torch.rand(1,6,6) # one 6*6 tensors.\n",
    "print(my_tensor)"
   ]
  },
  {
   "cell_type": "code",
   "execution_count": 33,
   "id": "51e43a95",
   "metadata": {},
   "outputs": [
    {
     "name": "stdout",
     "output_type": "stream",
     "text": [
      "tensor([[[0.8656, 0.9315],\n",
      "         [0.9725, 0.9925]]])\n"
     ]
    }
   ],
   "source": [
    "maxpool_layer = torch.nn.MaxPool2d(3) # 3*3 filter.\n",
    "print(maxpool_layer(my_tensor))"
   ]
  },
  {
   "cell_type": "markdown",
   "id": "4b22cec2",
   "metadata": {},
   "source": [
    "# Normalization layer"
   ]
  },
  {
   "cell_type": "markdown",
   "id": "7c807638",
   "metadata": {},
   "source": [
    "It re-center and normalize the output of one layer before feeding it to another.\n",
    "Centering an scaling the imediate tensor has a number of beneficial effects, such as\n",
    "getting rid of \n",
    "- exploding/vanishing gradients"
   ]
  },
  {
   "cell_type": "code",
   "execution_count": 34,
   "id": "f729f561",
   "metadata": {},
   "outputs": [
    {
     "name": "stdout",
     "output_type": "stream",
     "text": [
      "tensor([[[0.3290, 0.0494, 0.4725, 0.9789],\n",
      "         [0.4204, 0.5078, 0.9075, 0.3936],\n",
      "         [0.9825, 0.9825, 0.3947, 0.3126],\n",
      "         [0.7614, 0.9850, 0.9879, 0.2727]]])\n",
      "tensor(0.6087)\n"
     ]
    }
   ],
   "source": [
    "my_tensor = torch.rand(1,4,4)\n",
    "print(my_tensor)\n",
    "print(my_tensor.mean())\n"
   ]
  },
  {
   "cell_type": "code",
   "execution_count": 41,
   "id": "3ab64545",
   "metadata": {},
   "outputs": [
    {
     "name": "stdout",
     "output_type": "stream",
     "text": [
      "tensor([[[-0.3810, -1.2096,  0.0447,  1.5458],\n",
      "         [-0.6629, -0.2397,  1.6953, -0.7926],\n",
      "         [ 0.9957,  0.9957, -0.8657, -1.1258],\n",
      "         [ 0.0329,  0.8003,  0.8103, -1.6436]]],\n",
      "       grad_fn=<NativeBatchNormBackward0>)\n",
      "tensor(-4.4703e-08, grad_fn=<MeanBackward0>)\n"
     ]
    }
   ],
   "source": [
    "norm_layer = torch.nn.BatchNorm1d(4)\n",
    "normed_tensor = norm_layer(my_tensor)\n",
    "print(normed_tensor)\n",
    "print(normed_tensor.mean())"
   ]
  },
  {
   "cell_type": "code",
   "execution_count": 42,
   "id": "2d37fcb4",
   "metadata": {},
   "outputs": [
    {
     "data": {
      "text/plain": [
       "tensor(-4.4703e-08, grad_fn=<MeanBackward0>)"
      ]
     },
     "execution_count": 42,
     "metadata": {},
     "output_type": "execute_result"
    }
   ],
   "source": [
    "normed_tensor.mean()"
   ]
  },
  {
   "cell_type": "markdown",
   "id": "928cc90c",
   "metadata": {},
   "source": [
    "# Dropout layer"
   ]
  },
  {
   "cell_type": "markdown",
   "id": "37470ad3",
   "metadata": {},
   "source": [
    "Randomly selecting parts of the input layer during training."
   ]
  },
  {
   "cell_type": "code",
   "execution_count": 75,
   "id": "97cbad5c",
   "metadata": {},
   "outputs": [
    {
     "name": "stdout",
     "output_type": "stream",
     "text": [
      "tensor([[[0.5837, 0.0683, 0.5531, 0.1268],\n",
      "         [0.9616, 0.4444, 0.4141, 0.7573],\n",
      "         [0.2990, 0.0194, 0.9566, 0.9972],\n",
      "         [0.2015, 0.0215, 0.4950, 0.7430]]])\n"
     ]
    }
   ],
   "source": [
    "my_tensor = torch.rand(1,4,4)\n",
    "print(my_tensor)\n",
    "dropout = torch.nn.Dropout(p = 0.4)"
   ]
  },
  {
   "cell_type": "code",
   "execution_count": 76,
   "id": "5acc931f",
   "metadata": {},
   "outputs": [
    {
     "name": "stdout",
     "output_type": "stream",
     "text": [
      "tensor([[[0.0000, 0.1139, 0.9219, 0.0000],\n",
      "         [1.6026, 0.7407, 0.0000, 1.2622],\n",
      "         [0.0000, 0.0323, 0.0000, 1.6619],\n",
      "         [0.3359, 0.0359, 0.8250, 1.2383]]])\n",
      "tensor([[[0.9729, 0.1139, 0.9219, 0.2114],\n",
      "         [1.6026, 0.7407, 0.0000, 0.0000],\n",
      "         [0.4984, 0.0323, 1.5943, 0.0000],\n",
      "         [0.3359, 0.0359, 0.8250, 1.2383]]])\n"
     ]
    }
   ],
   "source": [
    "print(dropout(my_tensor))\n",
    "print(dropout(my_tensor))"
   ]
  },
  {
   "cell_type": "code",
   "execution_count": 77,
   "id": "8b394780",
   "metadata": {},
   "outputs": [],
   "source": [
    "# when we put the tensor elements in the dropout twice: \n",
    "# in both cases the random indexed elements are droppout.\n",
    "# also the non-values are indentical"
   ]
  },
  {
   "cell_type": "markdown",
   "id": "3ddc3147",
   "metadata": {},
   "source": [
    "if we simply write ```dropout()``` it will take ```p=0.5```"
   ]
  },
  {
   "cell_type": "markdown",
   "id": "0b113fd9",
   "metadata": {},
   "source": [
    "# Activation functions\n"
   ]
  },
  {
   "cell_type": "markdown",
   "id": "2544f3df",
   "metadata": {},
   "source": [
    "# Loss functions "
   ]
  },
  {
   "cell_type": "code",
   "execution_count": null,
   "id": "421ef04e",
   "metadata": {},
   "outputs": [],
   "source": []
  },
  {
   "cell_type": "code",
   "execution_count": null,
   "id": "f3adf09d",
   "metadata": {},
   "outputs": [],
   "source": []
  },
  {
   "cell_type": "code",
   "execution_count": null,
   "id": "9ed29d96",
   "metadata": {},
   "outputs": [],
   "source": []
  },
  {
   "cell_type": "code",
   "execution_count": null,
   "id": "afd64677",
   "metadata": {},
   "outputs": [],
   "source": []
  },
  {
   "cell_type": "markdown",
   "id": "52326818",
   "metadata": {},
   "source": [
    "# RNN\n",
    "# Transformer"
   ]
  },
  {
   "cell_type": "code",
   "execution_count": null,
   "id": "2f15b4aa",
   "metadata": {},
   "outputs": [],
   "source": []
  },
  {
   "cell_type": "code",
   "execution_count": null,
   "id": "5ea6b316",
   "metadata": {},
   "outputs": [],
   "source": []
  },
  {
   "cell_type": "code",
   "execution_count": null,
   "id": "eeea034c",
   "metadata": {},
   "outputs": [],
   "source": []
  }
 ],
 "metadata": {
  "kernelspec": {
   "display_name": "Python 3 (ipykernel)",
   "language": "python",
   "name": "python3"
  },
  "language_info": {
   "codemirror_mode": {
    "name": "ipython",
    "version": 3
   },
   "file_extension": ".py",
   "mimetype": "text/x-python",
   "name": "python",
   "nbconvert_exporter": "python",
   "pygments_lexer": "ipython3",
   "version": "3.10.5"
  }
 },
 "nbformat": 4,
 "nbformat_minor": 5
}
